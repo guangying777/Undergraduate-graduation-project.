{
 "cells": [
  {
   "cell_type": "code",
   "execution_count": 1,
   "metadata": {},
   "outputs": [],
   "source": [
    "import numpy as np\n",
    "import pandas as pd\n",
    "import matplotlib.pyplot as plt\n",
    "import seaborn as sns\n",
    "\n",
    "from sklearn.model_selection import KFold, GridSearchCV\n",
    "from sklearn.model_selection import train_test_split\n",
    "from sklearn.model_selection import cross_val_score\n",
    "from sklearn.model_selection import cross_val_predict\n",
    "\n",
    "from sklearn.linear_model import Lasso, Ridge\n",
    "from sklearn.svm import SVR\n",
    "import sklearn.gaussian_process as gp\n",
    "from sklearn.ensemble import RandomForestRegressor, ExtraTreesRegressor,AdaBoostRegressor\n",
    "from xgboost import XGBRegressor\n",
    "import catboost as cb\n",
    "import lightgbm as lgb\n",
    "import shap\n",
    "\n",
    "# 解决中文乱码问题\n",
    "plt.rcParams[\"font.sans-serif\"]=[\"SimHei\"] \n",
    "plt.rcParams[\"axes.unicode_minus\"]=False "
   ]
  },
  {
   "cell_type": "code",
   "execution_count": 2,
   "metadata": {},
   "outputs": [],
   "source": [
    "def data_load():\n",
    "    data=pd.read_csv('./try.csv')\n",
    "    train_data,test_data=train_test_split(data,test_size=0.2, random_state=1318)\n",
    "    feature=train_data.drop(['Ea'],axis=1)\n",
    "    label=train_data['Ea']\n",
    "    return feature,label,test_data"
   ]
  },
  {
   "cell_type": "code",
   "execution_count": 3,
   "metadata": {},
   "outputs": [],
   "source": [
    "kfold = KFold(n_splits = 5, random_state = 1314, shuffle = True)\n",
    "log_param1 = [1e-2, 1e-1, 1.0, 10, 1e2]\n",
    "log_param2 = [1.0, 1e-1, 1e-2, 1e-3, 1e-4, 1e-5]\n",
    "log_param3 = [1.0, 10, 1e2, 1e3, 1e4, 1e5]"
   ]
  },
  {
   "cell_type": "code",
   "execution_count": 4,
   "metadata": {},
   "outputs": [],
   "source": [
    "model=['LightGBM','AdaBoost','Catboost','Lasso','Ridge','GPR','SVR','RFR','ETR','XGB']\n",
    "r2=[]\n",
    "mae=[]\n",
    "feat, target ,test_data = data_load()"
   ]
  },
  {
   "cell_type": "code",
   "execution_count": 5,
   "metadata": {},
   "outputs": [],
   "source": [
    "feat.drop(['Unnamed: 0'],axis=1,inplace=True)"
   ]
  },
  {
   "cell_type": "code",
   "execution_count": 6,
   "metadata": {},
   "outputs": [
    {
     "name": "stdout",
     "output_type": "stream",
     "text": [
      "LightGBM:\n",
      "r2: 0.7039541945899467\n",
      "mae: 0.1469538645302323\n",
      "----------------\n"
     ]
    }
   ],
   "source": [
    "# LightGBM\n",
    "cvmodel = GridSearchCV(lgb.LGBMRegressor(random_state=1314,iterations=300,verbose=-1,lambda_l2=0.231,learning_rate=0.1),\n",
    "                       param_grid={'max_depth':[1,10]},\n",
    "                       n_jobs = -1)\n",
    "print('LightGBM:')\n",
    "r2.append(cross_val_score(estimator=cvmodel,X=feat, y=target, cv=kfold, scoring='r2').mean())\n",
    "mae.append(abs(cross_val_score(estimator=cvmodel,X=feat, y=target, cv=kfold, scoring='neg_mean_absolute_error').mean()))\n",
    "print('r2:',r2[-1])\n",
    "print('mae:',mae[-1])\n",
    "print('----------------')"
   ]
  },
  {
   "cell_type": "code",
   "execution_count": 7,
   "metadata": {},
   "outputs": [
    {
     "name": "stdout",
     "output_type": "stream",
     "text": [
      "AdaBoost:\n",
      "r2: 0.6644607537243419\n",
      "mae: 0.17111837278975867\n",
      "----------------\n"
     ]
    }
   ],
   "source": [
    "\n",
    "#AdaBoost\n",
    "cvmodel = GridSearchCV(AdaBoostRegressor( random_state = 1314,learning_rate=2),\n",
    "                        param_grid = {'n_estimators':[100,300,500, 1000]},\n",
    "                        n_jobs = -1)\n",
    "print('AdaBoost:')\n",
    "r2.append(cross_val_score(estimator=cvmodel,X=feat, y=target, cv=kfold, scoring='r2').mean())\n",
    "mae.append(abs(cross_val_score(estimator=cvmodel,X=feat, y=target, cv=kfold, scoring='neg_mean_absolute_error').mean()))\n",
    "print('r2:',r2[-1])\n",
    "print('mae:',mae[-1])\n",
    "print('----------------')"
   ]
  },
  {
   "cell_type": "code",
   "execution_count": 8,
   "metadata": {},
   "outputs": [
    {
     "name": "stdout",
     "output_type": "stream",
     "text": [
      "Catboost:\n",
      "r2: 0.7047554779125988\n",
      "mae: 0.14449934013202945\n",
      "----------------\n"
     ]
    }
   ],
   "source": [
    "# CatBoost\n",
    "cvmodel = GridSearchCV(cb.CatBoostRegressor(random_state=1314,iterations=500,silent=True,learning_rate=0.1),\n",
    "                       param_grid={'depth':[1,10]},\n",
    "                       n_jobs = -1)\n",
    "print('Catboost:')\n",
    "r2.append(cross_val_score(estimator=cvmodel,X=feat, y=target, cv=kfold, scoring='r2').mean())\n",
    "mae.append(abs(cross_val_score(estimator=cvmodel,X=feat, y=target, cv=kfold, scoring='neg_mean_absolute_error').mean()))\n",
    "print('r2:',r2[-1])\n",
    "print('mae:',mae[-1])\n",
    "print('----------------')"
   ]
  },
  {
   "cell_type": "code",
   "execution_count": 9,
   "metadata": {},
   "outputs": [
    {
     "name": "stdout",
     "output_type": "stream",
     "text": [
      "Lasso:\n",
      "r2: 0.5951527430977903\n",
      "mae: 0.19040986851206004\n",
      "----------------\n"
     ]
    }
   ],
   "source": [
    "#Lasso\n",
    "cvmodel = GridSearchCV(Lasso(),\n",
    "                        param_grid = {'alpha': log_param1},\n",
    "                        n_jobs = -1)\n",
    "print('Lasso:')\n",
    "r2.append(cross_val_score(estimator=cvmodel,X=feat, y=target, cv=kfold, scoring='r2').mean())\n",
    "mae.append(abs(cross_val_score(estimator=cvmodel,X=feat, y=target, cv=kfold, scoring='neg_mean_absolute_error').mean()))\n",
    "print('r2:',r2[-1])\n",
    "print('mae:',mae[-1])\n",
    "print('----------------')"
   ]
  },
  {
   "cell_type": "code",
   "execution_count": 10,
   "metadata": {},
   "outputs": [
    {
     "name": "stdout",
     "output_type": "stream",
     "text": [
      "Ridge:\n",
      "r2: 0.6492840181811401\n",
      "mae: 0.17198528527213505\n",
      "----------------\n"
     ]
    }
   ],
   "source": [
    "\n",
    "#Ridge\n",
    "cvmodel = GridSearchCV(Ridge(),\n",
    "                        param_grid = {'alpha': log_param1},\n",
    "                        n_jobs = -1)\n",
    "print('Ridge:')\n",
    "r2.append(cross_val_score(estimator=cvmodel,X=feat, y=target, cv=kfold, scoring='r2').mean())\n",
    "mae.append(abs(cross_val_score(estimator=cvmodel,X=feat, y=target, cv=kfold, scoring='neg_mean_absolute_error').mean()))\n",
    "print('r2:',r2[-1])\n",
    "print('mae:',mae[-1])\n",
    "print('----------------')"
   ]
  },
  {
   "cell_type": "code",
   "execution_count": 11,
   "metadata": {},
   "outputs": [
    {
     "name": "stdout",
     "output_type": "stream",
     "text": [
      "GPR:\n",
      "r2: 0.6656907824770929\n",
      "mae: 0.1579369688357955\n",
      "----------------\n"
     ]
    }
   ],
   "source": [
    "\n",
    "#GPR\n",
    "kernel = gp.kernels.Matern(nu = 2.5)\n",
    "cvmodel = GridSearchCV(gp.GaussianProcessRegressor(kernel = kernel,\n",
    "                                                    normalize_y = True,\n",
    "                                                    n_restarts_optimizer = 10,\n",
    "                                                    random_state = 1314),\n",
    "                        param_grid = {'alpha':log_param2},\n",
    "                        n_jobs = -1)\n",
    "print('GPR:')\n",
    "r2.append(cross_val_score(estimator=cvmodel,X=feat, y=target, cv=kfold, scoring='r2').mean())\n",
    "mae.append(abs(cross_val_score(estimator=cvmodel,X=feat, y=target, cv=kfold, scoring='neg_mean_absolute_error').mean()))\n",
    "print('r2:',r2[-1])\n",
    "print('mae:',mae[-1])\n",
    "print('----------------')"
   ]
  },
  {
   "cell_type": "code",
   "execution_count": 12,
   "metadata": {},
   "outputs": [
    {
     "name": "stdout",
     "output_type": "stream",
     "text": [
      "SVR(rbf):\n",
      "r2: 0.6211531432461561\n",
      "mae: 0.15835041532914623\n",
      "----------------\n"
     ]
    }
   ],
   "source": [
    "\n",
    "#SVR\n",
    "cvmodel = GridSearchCV(SVR(kernel = 'rbf'),\n",
    "                        param_grid = {'C': log_param3,\n",
    "                                        'gamma':log_param2,\n",
    "                                        'epsilon':log_param1},\n",
    "                        n_jobs = -1)\n",
    "print('SVR(rbf):')\n",
    "r2.append(cross_val_score(estimator=cvmodel,X=feat, y=target, cv=kfold, scoring='r2').mean())\n",
    "mae.append(abs(cross_val_score(estimator=cvmodel,X=feat, y=target, cv=kfold, scoring='neg_mean_absolute_error').mean()))\n",
    "print('r2:',r2[-1])\n",
    "print('mae:',mae[-1])\n",
    "print('----------------')"
   ]
  },
  {
   "cell_type": "code",
   "execution_count": 13,
   "metadata": {},
   "outputs": [
    {
     "name": "stdout",
     "output_type": "stream",
     "text": [
      "SVR(Linear):\n",
      "r2: 0.6136698978221602\n",
      "mae: 0.17969106710115146\n",
      "----------------\n"
     ]
    }
   ],
   "source": [
    "#SVR\n",
    "cvmodel = GridSearchCV(SVR(kernel = 'linear',C=10,epsilon=0.1),\n",
    "                        param_grid = {\n",
    "                                        'gamma':log_param2\n",
    "                                        },\n",
    "                        n_jobs = -1)\n",
    "print('SVR(Linear):')\n",
    "r2.append(cross_val_score(estimator=cvmodel,X=feat, y=target, cv=kfold, scoring='r2').mean())\n",
    "mae.append(abs(cross_val_score(estimator=cvmodel,X=feat, y=target, cv=kfold, scoring='neg_mean_absolute_error').mean()))\n",
    "print('r2:',r2[-1])\n",
    "print('mae:',mae[-1])\n",
    "print('----------------')"
   ]
  },
  {
   "cell_type": "code",
   "execution_count": 14,
   "metadata": {},
   "outputs": [
    {
     "name": "stdout",
     "output_type": "stream",
     "text": [
      "RFR:\n",
      "r2: 0.6906119586544757\n",
      "mae: 0.1468867136054421\n",
      "----------------\n"
     ]
    }
   ],
   "source": [
    "\n",
    "#RFR\n",
    "cvmodel = GridSearchCV(RandomForestRegressor(n_jobs = -1, random_state = 1314),\n",
    "                        param_grid = {'n_estimators':[500, 1000]},\n",
    "                        n_jobs = -1)\n",
    "print('RFR:')\n",
    "r2.append(cross_val_score(estimator=cvmodel,X=feat, y=target, cv=kfold, scoring='r2').mean())\n",
    "mae.append(abs(cross_val_score(estimator=cvmodel,X=feat, y=target, cv=kfold, scoring='neg_mean_absolute_error').mean()))\n",
    "print('r2:',r2[-1])\n",
    "print('mae:',mae[-1])\n",
    "print('----------------')"
   ]
  },
  {
   "cell_type": "code",
   "execution_count": 15,
   "metadata": {},
   "outputs": [
    {
     "name": "stdout",
     "output_type": "stream",
     "text": [
      "ETR:\n",
      "r2: 0.6714407516234525\n",
      "mae: 0.14176797619047704\n",
      "----------------\n"
     ]
    }
   ],
   "source": [
    "\n",
    "#ETR\n",
    "cvmodel = GridSearchCV(ExtraTreesRegressor(n_jobs = -1, random_state = 1314),\n",
    "                        param_grid = {'n_estimators':[500, 1000]},\n",
    "                        n_jobs = -1)\n",
    "print('ETR:')\n",
    "r2.append(cross_val_score(estimator=cvmodel,X=feat, y=target, cv=kfold, scoring='r2').mean())\n",
    "mae.append(abs(cross_val_score(estimator=cvmodel,X=feat, y=target, cv=kfold, scoring='neg_mean_absolute_error').mean()))\n",
    "print('r2:',r2[-1])\n",
    "print('mae:',mae[-1])\n",
    "print('----------------')"
   ]
  },
  {
   "cell_type": "code",
   "execution_count": 16,
   "metadata": {},
   "outputs": [],
   "source": [
    "\n",
    "#XGB\n",
    "# cvmodel = GridSearchCV(XGBRegressor(n_jobs = -1, random_state = 1314,learning_rate=0.1),\n",
    "#                         param_grid = {'n_estimators':[300, 500],'max_depth':[2,3,4,5,6,7,8,9,10]},\n",
    "#                         n_jobs = -1)\n",
    "# print('XGB:')\n",
    "# r2.append(cross_val_score(estimator=cvmodel,X=feat, y=target, cv=kfold, scoring='r2').mean())\n",
    "# mae.append(abs(cross_val_score(estimator=cvmodel,X=feat, y=target, cv=kfold, scoring='neg_mean_absolute_error').mean()))\n",
    "# print('r2:',r2[-1])\n",
    "# print('mae:',mae[-1])\n",
    "# print('----------------')"
   ]
  },
  {
   "cell_type": "code",
   "execution_count": 17,
   "metadata": {},
   "outputs": [
    {
     "data": {
      "text/html": [
       "<div>\n",
       "<style scoped>\n",
       "    .dataframe tbody tr th:only-of-type {\n",
       "        vertical-align: middle;\n",
       "    }\n",
       "\n",
       "    .dataframe tbody tr th {\n",
       "        vertical-align: top;\n",
       "    }\n",
       "\n",
       "    .dataframe thead th {\n",
       "        text-align: right;\n",
       "    }\n",
       "</style>\n",
       "<table border=\"1\" class=\"dataframe\">\n",
       "  <thead>\n",
       "    <tr style=\"text-align: right;\">\n",
       "      <th></th>\n",
       "      <th>model</th>\n",
       "      <th>R2</th>\n",
       "      <th>MAE</th>\n",
       "    </tr>\n",
       "  </thead>\n",
       "  <tbody>\n",
       "    <tr>\n",
       "      <th>0</th>\n",
       "      <td>LGBM</td>\n",
       "      <td>0.703954</td>\n",
       "      <td>0.146954</td>\n",
       "    </tr>\n",
       "    <tr>\n",
       "      <th>1</th>\n",
       "      <td>Ada</td>\n",
       "      <td>0.664461</td>\n",
       "      <td>0.171118</td>\n",
       "    </tr>\n",
       "    <tr>\n",
       "      <th>2</th>\n",
       "      <td>Cat</td>\n",
       "      <td>0.704755</td>\n",
       "      <td>0.144499</td>\n",
       "    </tr>\n",
       "    <tr>\n",
       "      <th>3</th>\n",
       "      <td>Lasso</td>\n",
       "      <td>0.595153</td>\n",
       "      <td>0.190410</td>\n",
       "    </tr>\n",
       "    <tr>\n",
       "      <th>4</th>\n",
       "      <td>Ridge</td>\n",
       "      <td>0.649284</td>\n",
       "      <td>0.171985</td>\n",
       "    </tr>\n",
       "    <tr>\n",
       "      <th>5</th>\n",
       "      <td>GPR</td>\n",
       "      <td>0.665691</td>\n",
       "      <td>0.157937</td>\n",
       "    </tr>\n",
       "    <tr>\n",
       "      <th>6</th>\n",
       "      <td>SVR(rbf)</td>\n",
       "      <td>0.621153</td>\n",
       "      <td>0.158350</td>\n",
       "    </tr>\n",
       "    <tr>\n",
       "      <th>7</th>\n",
       "      <td>SVR(Linear)</td>\n",
       "      <td>0.613670</td>\n",
       "      <td>0.179691</td>\n",
       "    </tr>\n",
       "    <tr>\n",
       "      <th>8</th>\n",
       "      <td>RFR</td>\n",
       "      <td>0.690612</td>\n",
       "      <td>0.146887</td>\n",
       "    </tr>\n",
       "    <tr>\n",
       "      <th>9</th>\n",
       "      <td>ETR</td>\n",
       "      <td>0.671441</td>\n",
       "      <td>0.141768</td>\n",
       "    </tr>\n",
       "  </tbody>\n",
       "</table>\n",
       "</div>"
      ],
      "text/plain": [
       "         model        R2       MAE\n",
       "0         LGBM  0.703954  0.146954\n",
       "1          Ada  0.664461  0.171118\n",
       "2          Cat  0.704755  0.144499\n",
       "3        Lasso  0.595153  0.190410\n",
       "4        Ridge  0.649284  0.171985\n",
       "5          GPR  0.665691  0.157937\n",
       "6     SVR(rbf)  0.621153  0.158350\n",
       "7  SVR(Linear)  0.613670  0.179691\n",
       "8          RFR  0.690612  0.146887\n",
       "9          ETR  0.671441  0.141768"
      ]
     },
     "execution_count": 17,
     "metadata": {},
     "output_type": "execute_result"
    }
   ],
   "source": [
    "model=['LGBM','Ada','Cat','Lasso','Ridge','GPR','SVR(rbf)','SVR(Linear)','RFR','ETR']\n",
    "c={'model' : model,\n",
    "   'R2' : r2,\n",
    "   'MAE' : mae\n",
    "   }\n",
    "final=pd.DataFrame(c)\n",
    "final"
   ]
  },
  {
   "cell_type": "code",
   "execution_count": 18,
   "metadata": {},
   "outputs": [
    {
     "data": {
      "image/png": "[encoded data removed]",
      "text/plain": [
       "<Figure size 1200x500 with 2 Axes>"
      ]
     },
     "metadata": {},
     "output_type": "display_data"
    }
   ],
   "source": [
    "from pathlib import Path\n",
    "fig,axs=plt.subplots(1,2,figsize=(12,5))\n",
    "# fig.suptitle('硼基催化剂中中各个模型拟合效果评估',y=0)\n",
    "\n",
    "axs[0].bar(final.iloc[:,0],final.iloc[:,1],width=0.6,fc='r')\n",
    "axs[0].set_ylabel('R$^2$',font=Path('..\\TimesNewRoman.ttf'),fontsize=12)\n",
    "x1_label = axs[0].get_xticklabels() \n",
    "[x1_label_temp.set_fontname('Times New Roman') for x1_label_temp in x1_label]\n",
    "y1_label = axs[0].get_yticklabels() \n",
    "[y1_label_temp.set_fontname('Times New Roman') for y1_label_temp in y1_label]\n",
    "axs[1].bar(final.iloc[:,0],final.iloc[:,2],width=0.6,fc='g')\n",
    "axs[1].set_ylabel('RMSE(%)',font=Path('..\\TimesNewRoman.ttf'),fontsize=12)\n",
    "x2_label = axs[1].get_xticklabels() \n",
    "[x2_label_temp.set_fontname('Times New Roman') for x2_label_temp in x2_label]\n",
    "y2_label = axs[1].get_yticklabels() \n",
    "[y2_label_temp.set_fontname('Times New Roman') for y2_label_temp in y2_label]\n",
    "axs[1].set_ylim(0,1)\n",
    "plt.show()"
   ]
  }
 ],
 "metadata": {
  "kernelspec": {
   "display_name": "pytorch",
   "language": "python",
   "name": "python3"
  },
  "language_info": {
   "codemirror_mode": {
    "name": "ipython",
    "version": 3
   },
   "file_extension": ".py",
   "mimetype": "text/x-python",
   "name": "python",
   "nbconvert_exporter": "python",
   "pygments_lexer": "ipython3",
   "version": "3.9.16"
  },
  "orig_nbformat": 4
 },
 "nbformat": 4,
 "nbformat_minor": 2
}
