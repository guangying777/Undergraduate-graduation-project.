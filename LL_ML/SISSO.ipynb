{
 "cells": [
  {
   "cell_type": "code",
   "execution_count": 2,
   "metadata": {},
   "outputs": [],
   "source": [
    "import matplotlib.pyplot as plt\n",
    "import numpy as np\n",
    "import pandas as pd\n",
    "from sklearn.model_selection import GridSearchCV\n",
    "\n",
    "from pysisso.sklearn import SISSORegressor"
   ]
  },
  {
   "cell_type": "code",
   "execution_count": 3,
   "metadata": {},
   "outputs": [],
   "source": [
    "# Define general parameters\n",
    "TITLE = \"f(x) = 0.5*x^3 + 0.5*x^2 - 4.0*x - 4.0\"\n",
    "NPOINTS = 500  # Number of data points\n",
    "SIGMA = 0.5  # Randomness in the data points\n",
    "PLOT_FIGURES = True  # whether to interactively plot the figures with matplotlib\n",
    "SAVE_FIGURES = False  # whether to save the matplotlib figures to a file\n",
    "CLEAN_RUN_DIR = False  # whether to remove the SISSO_dir after the fit"
   ]
  },
  {
   "cell_type": "code",
   "execution_count": 4,
   "metadata": {},
   "outputs": [
    {
     "data": {
      "text/plain": [
       "(            X         r         E         M       rou    Er\n",
       " 0    0.180776 -0.304848 -1.078164 -0.714507 -0.692395 -0.36\n",
       " 1    0.180776  0.080695  1.269763  0.997391  1.230873 -0.56\n",
       " 2    0.180776 -0.112076  0.682782  0.959247  1.259693 -0.55\n",
       " 3    0.634694 -0.304848 -1.078164 -0.714507 -0.692395 -0.65\n",
       " 4    0.180776 -0.304848 -1.078164 -0.714507 -0.692395  0.01\n",
       " ..        ...       ...       ...       ...       ...   ...\n",
       " 151  0.180776 -0.304848 -1.078164 -0.714507 -0.692395  0.01\n",
       " 152  0.180776 -0.304848 -1.078164 -0.714507 -0.692395  0.05\n",
       " 153  0.180776 -0.304848 -1.078164 -0.714507 -0.692395  0.01\n",
       " 154  0.180776 -0.304848 -1.078164 -0.714507 -0.692395  0.67\n",
       " 155  0.180776 -0.304848 -1.078164 -0.714507 -0.692395  0.71\n",
       " \n",
       " [156 rows x 6 columns],\n",
       " 0      0.01\n",
       " 1      0.03\n",
       " 2      0.04\n",
       " 3      0.05\n",
       " 4      0.05\n",
       "        ... \n",
       " 151    0.05\n",
       " 152    0.25\n",
       " 153    0.08\n",
       " 154    0.78\n",
       " 155    1.08\n",
       " Name: Ea, Length: 156, dtype: float64)"
      ]
     },
     "execution_count": 4,
     "metadata": {},
     "output_type": "execute_result"
    }
   ],
   "source": [
    "data=pd.read_csv('./data_try_2.csv')\n",
    "data=data.drop('Unnamed: 0',axis=1)\n",
    "feat=data.drop('Ea',axis=1)\n",
    "label=data['Ea']\n",
    "feat,label"
   ]
  },
  {
   "cell_type": "code",
   "execution_count": 8,
   "metadata": {},
   "outputs": [
    {
     "ename": "ValueError",
     "evalue": "SISSOJob requires the SISSO executable to be in the path.\nDefault executable name is \"SISSO\" and you provided \"SISSO\".\nDownload the SISSO code at https://github.com/rouyang2017/SISSO and compile the executable or fix the name of your executable.",
     "output_type": "error",
     "traceback": [
      "\u001b[1;31m---------------------------------------------------------------------------\u001b[0m",
      "\u001b[1;31mValueError\u001b[0m                                Traceback (most recent call last)",
      "Cell \u001b[1;32mIn[8], line 16\u001b[0m\n\u001b[0;32m     12\u001b[0m grid_search \u001b[39m=\u001b[39m GridSearchCV(\n\u001b[0;32m     13\u001b[0m     estimator\u001b[39m=\u001b[39msisso_regressor, param_grid\u001b[39m=\u001b[39mparam_grid, cv\u001b[39m=\u001b[39m\u001b[39m4\u001b[39m, n_jobs\u001b[39m=\u001b[39m\u001b[39m-\u001b[39m\u001b[39m1\u001b[39m\n\u001b[0;32m     14\u001b[0m )\n\u001b[0;32m     15\u001b[0m X \u001b[39m=\u001b[39m feat\n\u001b[1;32m---> 16\u001b[0m grid_search\u001b[39m.\u001b[39;49mfit(X, label)\n\u001b[0;32m     17\u001b[0m \u001b[39m# ylin_pred = grid_search.predict(xlin)\u001b[39;00m\n",
      "File \u001b[1;32mc:\\Users\\Lenovo\\anaconda3\\envs\\catdata\\lib\\site-packages\\sklearn\\utils\\validation.py:72\u001b[0m, in \u001b[0;36m_deprecate_positional_args.<locals>.inner_f\u001b[1;34m(*args, **kwargs)\u001b[0m\n\u001b[0;32m     67\u001b[0m     warnings\u001b[39m.\u001b[39mwarn(\u001b[39m\"\u001b[39m\u001b[39mPass \u001b[39m\u001b[39m{}\u001b[39;00m\u001b[39m as keyword args. From version 0.25 \u001b[39m\u001b[39m\"\u001b[39m\n\u001b[0;32m     68\u001b[0m                   \u001b[39m\"\u001b[39m\u001b[39mpassing these as positional arguments will \u001b[39m\u001b[39m\"\u001b[39m\n\u001b[0;32m     69\u001b[0m                   \u001b[39m\"\u001b[39m\u001b[39mresult in an error\u001b[39m\u001b[39m\"\u001b[39m\u001b[39m.\u001b[39mformat(\u001b[39m\"\u001b[39m\u001b[39m, \u001b[39m\u001b[39m\"\u001b[39m\u001b[39m.\u001b[39mjoin(args_msg)),\n\u001b[0;32m     70\u001b[0m                   \u001b[39mFutureWarning\u001b[39;00m)\n\u001b[0;32m     71\u001b[0m kwargs\u001b[39m.\u001b[39mupdate({k: arg \u001b[39mfor\u001b[39;00m k, arg \u001b[39min\u001b[39;00m \u001b[39mzip\u001b[39m(sig\u001b[39m.\u001b[39mparameters, args)})\n\u001b[1;32m---> 72\u001b[0m \u001b[39mreturn\u001b[39;00m f(\u001b[39m*\u001b[39m\u001b[39m*\u001b[39mkwargs)\n",
      "File \u001b[1;32mc:\\Users\\Lenovo\\anaconda3\\envs\\catdata\\lib\\site-packages\\sklearn\\model_selection\\_search.py:765\u001b[0m, in \u001b[0;36mBaseSearchCV.fit\u001b[1;34m(self, X, y, groups, **fit_params)\u001b[0m\n\u001b[0;32m    763\u001b[0m refit_start_time \u001b[39m=\u001b[39m time\u001b[39m.\u001b[39mtime()\n\u001b[0;32m    764\u001b[0m \u001b[39mif\u001b[39;00m y \u001b[39mis\u001b[39;00m \u001b[39mnot\u001b[39;00m \u001b[39mNone\u001b[39;00m:\n\u001b[1;32m--> 765\u001b[0m     \u001b[39mself\u001b[39m\u001b[39m.\u001b[39mbest_estimator_\u001b[39m.\u001b[39mfit(X, y, \u001b[39m*\u001b[39m\u001b[39m*\u001b[39mfit_params)\n\u001b[0;32m    766\u001b[0m \u001b[39melse\u001b[39;00m:\n\u001b[0;32m    767\u001b[0m     \u001b[39mself\u001b[39m\u001b[39m.\u001b[39mbest_estimator_\u001b[39m.\u001b[39mfit(X, \u001b[39m*\u001b[39m\u001b[39m*\u001b[39mfit_params)\n",
      "File \u001b[1;32mc:\\Users\\Lenovo\\anaconda3\\envs\\catdata\\lib\\site-packages\\pysisso\\sklearn.py:271\u001b[0m, in \u001b[0;36mSISSORegressor.fit\u001b[1;34m(self, X, y, index, columns, tasks)\u001b[0m\n\u001b[0;32m    269\u001b[0m     job \u001b[39m=\u001b[39m SISSOJob()\n\u001b[0;32m    270\u001b[0m     c \u001b[39m=\u001b[39m Custodian(jobs\u001b[39m=\u001b[39m[job], handlers\u001b[39m=\u001b[39m[], validators\u001b[39m=\u001b[39m[])\n\u001b[1;32m--> 271\u001b[0m     c\u001b[39m.\u001b[39;49mrun()\n\u001b[0;32m    272\u001b[0m     \u001b[39mself\u001b[39m\u001b[39m.\u001b[39msisso_out \u001b[39m=\u001b[39m SISSOOut\u001b[39m.\u001b[39mfrom_file(  \u001b[39m# pylint: disable=W0201\u001b[39;00m\n\u001b[0;32m    273\u001b[0m         filepath\u001b[39m=\u001b[39m\u001b[39m\"\u001b[39m\u001b[39mSISSO.out\u001b[39m\u001b[39m\"\u001b[39m\n\u001b[0;32m    274\u001b[0m     )\n\u001b[0;32m    276\u001b[0m \u001b[39m# Clean run directory\u001b[39;00m\n",
      "File \u001b[1;32mc:\\Users\\Lenovo\\anaconda3\\envs\\catdata\\lib\\site-packages\\custodian\\custodian.py:372\u001b[0m, in \u001b[0;36mCustodian.run\u001b[1;34m(self)\u001b[0m\n\u001b[0;32m    369\u001b[0m \u001b[39mtry\u001b[39;00m:\n\u001b[0;32m    370\u001b[0m     \u001b[39m# skip jobs until the restart\u001b[39;00m\n\u001b[0;32m    371\u001b[0m     \u001b[39mfor\u001b[39;00m job_n, job \u001b[39min\u001b[39;00m islice(\u001b[39menumerate\u001b[39m(\u001b[39mself\u001b[39m\u001b[39m.\u001b[39mjobs, \u001b[39m1\u001b[39m), \u001b[39mself\u001b[39m\u001b[39m.\u001b[39mrestart, \u001b[39mNone\u001b[39;00m):\n\u001b[1;32m--> 372\u001b[0m         \u001b[39mself\u001b[39;49m\u001b[39m.\u001b[39;49m_run_job(job_n, job)\n\u001b[0;32m    373\u001b[0m         \u001b[39m# We do a dump of the run log after each job.\u001b[39;00m\n\u001b[0;32m    374\u001b[0m         dumpfn(\u001b[39mself\u001b[39m\u001b[39m.\u001b[39mrun_log, Custodian\u001b[39m.\u001b[39mLOG_FILE, \u001b[39mcls\u001b[39m\u001b[39m=\u001b[39mMontyEncoder, indent\u001b[39m=\u001b[39m\u001b[39m4\u001b[39m)\n",
      "File \u001b[1;32mc:\\Users\\Lenovo\\anaconda3\\envs\\catdata\\lib\\site-packages\\custodian\\custodian.py:450\u001b[0m, in \u001b[0;36mCustodian._run_job\u001b[1;34m(self, job_n, job)\u001b[0m\n\u001b[0;32m    442\u001b[0m attempt \u001b[39m+\u001b[39m\u001b[39m=\u001b[39m \u001b[39m1\u001b[39m\n\u001b[0;32m    443\u001b[0m logger\u001b[39m.\u001b[39minfo(\n\u001b[0;32m    444\u001b[0m     \u001b[39m\"\u001b[39m\u001b[39mStarting job no. \u001b[39m\u001b[39m{}\u001b[39;00m\u001b[39m (\u001b[39m\u001b[39m{}\u001b[39;00m\u001b[39m) attempt no. \u001b[39m\u001b[39m{}\u001b[39;00m\u001b[39m. Total errors and \u001b[39m\u001b[39m\"\u001b[39m\n\u001b[0;32m    445\u001b[0m     \u001b[39m\"\u001b[39m\u001b[39merrors in job thus far = \u001b[39m\u001b[39m{}\u001b[39;00m\u001b[39m, \u001b[39m\u001b[39m{}\u001b[39;00m\u001b[39m.\u001b[39m\u001b[39m\"\u001b[39m\u001b[39m.\u001b[39mformat(\n\u001b[0;32m    446\u001b[0m         job_n, job\u001b[39m.\u001b[39mname, attempt, \u001b[39mself\u001b[39m\u001b[39m.\u001b[39mtotal_errors, \u001b[39mself\u001b[39m\u001b[39m.\u001b[39merrors_current_job\n\u001b[0;32m    447\u001b[0m     )\n\u001b[0;32m    448\u001b[0m )\n\u001b[1;32m--> 450\u001b[0m p \u001b[39m=\u001b[39m job\u001b[39m.\u001b[39;49mrun()\n\u001b[0;32m    451\u001b[0m \u001b[39m# Check for errors using the error handlers and perform\u001b[39;00m\n\u001b[0;32m    452\u001b[0m \u001b[39m# corrections.\u001b[39;00m\n\u001b[0;32m    453\u001b[0m has_error \u001b[39m=\u001b[39m \u001b[39mFalse\u001b[39;00m\n",
      "File \u001b[1;32mc:\\Users\\Lenovo\\anaconda3\\envs\\catdata\\lib\\site-packages\\pysisso\\jobs.py:53\u001b[0m, in \u001b[0;36mSISSOJob.run\u001b[1;34m(self)\u001b[0m\n\u001b[0;32m     51\u001b[0m exe \u001b[39m=\u001b[39m which(\u001b[39mself\u001b[39m\u001b[39m.\u001b[39mSISSO_exe)\n\u001b[0;32m     52\u001b[0m \u001b[39mif\u001b[39;00m exe \u001b[39mis\u001b[39;00m \u001b[39mNone\u001b[39;00m:\n\u001b[1;32m---> 53\u001b[0m     \u001b[39mraise\u001b[39;00m \u001b[39mValueError\u001b[39;00m(\n\u001b[0;32m     54\u001b[0m         \u001b[39m\"\u001b[39m\u001b[39mSISSOJob requires the SISSO executable to be in the path.\u001b[39m\u001b[39m\\n\u001b[39;00m\u001b[39m\"\u001b[39m\n\u001b[0;32m     55\u001b[0m         \u001b[39m'\u001b[39m\u001b[39mDefault executable name is \u001b[39m\u001b[39m\"\u001b[39m\u001b[39mSISSO\u001b[39m\u001b[39m\"\u001b[39m\u001b[39m and you provided \u001b[39m\u001b[39m\"\u001b[39m\u001b[39m{}\u001b[39;00m\u001b[39m\"\u001b[39m\u001b[39m.\u001b[39m\u001b[39m\\n\u001b[39;00m\u001b[39m'\u001b[39m\n\u001b[0;32m     56\u001b[0m         \u001b[39m\"\u001b[39m\u001b[39mDownload the SISSO code at https://github.com/rouyang2017/SISSO \u001b[39m\u001b[39m\"\u001b[39m\n\u001b[0;32m     57\u001b[0m         \u001b[39m\"\u001b[39m\u001b[39mand compile the executable or fix the name of your executable.\u001b[39m\u001b[39m\"\u001b[39m\u001b[39m.\u001b[39mformat(\n\u001b[0;32m     58\u001b[0m             \u001b[39mself\u001b[39m\u001b[39m.\u001b[39mSISSO_exe\n\u001b[0;32m     59\u001b[0m         )\n\u001b[0;32m     60\u001b[0m     )\n\u001b[0;32m     62\u001b[0m \u001b[39mif\u001b[39;00m (\n\u001b[0;32m     63\u001b[0m     \u001b[39mself\u001b[39m\u001b[39m.\u001b[39mnprocs \u001b[39m>\u001b[39m \u001b[39m1\u001b[39m\n\u001b[0;32m     64\u001b[0m ):  \u001b[39m# pragma: no cover # Reason: obviously not yet implemented section of code.\u001b[39;00m\n\u001b[0;32m     65\u001b[0m     \u001b[39mraise\u001b[39;00m \u001b[39mNotImplementedError\u001b[39;00m(\u001b[39m\"\u001b[39m\u001b[39mRunning SISSO with MPI not yet implemented.\u001b[39m\u001b[39m\"\u001b[39m)\n",
      "\u001b[1;31mValueError\u001b[0m: SISSOJob requires the SISSO executable to be in the path.\nDefault executable name is \"SISSO\" and you provided \"SISSO\".\nDownload the SISSO code at https://github.com/rouyang2017/SISSO and compile the executable or fix the name of your executable."
     ]
    }
   ],
   "source": [
    "sisso_regressor = SISSORegressor(\n",
    "    rung=1,\n",
    "    opset=\"(+)(-)(*)(^2)(^3)(^-1)(exp)(sin)(cos)\",\n",
    "    desc_dim=3,\n",
    "    subs_sis=40,\n",
    "    method=\"L1L0\",\n",
    "    L1L0_size4L0=15,\n",
    "    run_dir=None,\n",
    "    clean_run_dir=CLEAN_RUN_DIR,\n",
    ")\n",
    "param_grid = {\"rung\": [0, 1, 2], \"desc_dim\": [2, 3, 4]}\n",
    "grid_search = GridSearchCV(\n",
    "    estimator=sisso_regressor, param_grid=param_grid, cv=4, n_jobs=-1\n",
    ")\n",
    "X = feat\n",
    "grid_search.fit(X, label)\n",
    "# ylin_pred = grid_search.predict(xlin)"
   ]
  }
 ],
 "metadata": {
  "kernelspec": {
   "display_name": "catdata",
   "language": "python",
   "name": "python3"
  },
  "language_info": {
   "codemirror_mode": {
    "name": "ipython",
    "version": 3
   },
   "file_extension": ".py",
   "mimetype": "text/x-python",
   "name": "python",
   "nbconvert_exporter": "python",
   "pygments_lexer": "ipython3",
   "version": "3.9.11"
  },
  "orig_nbformat": 4
 },
 "nbformat": 4,
 "nbformat_minor": 2
}
