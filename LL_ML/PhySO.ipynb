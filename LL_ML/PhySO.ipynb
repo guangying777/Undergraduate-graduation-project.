{
 "cells": [
  {
   "cell_type": "code",
   "execution_count": 14,
   "metadata": {},
   "outputs": [
    {
     "data": {
      "text/plain": [
       "((2, 50), (50,))"
      ]
     },
     "execution_count": 14,
     "metadata": {},
     "output_type": "execute_result"
    }
   ],
   "source": [
    "import numpy as np\n",
    "\n",
    "z = np.random.uniform(-10, 10, 50)\n",
    "v = np.random.uniform(-10, 10, 50)\n",
    "X = np.stack((z, v), axis=0)\n",
    "y = 1.234*9.807*z + 1.234*v**2\n",
    "X.shape,y.shape"
   ]
  },
  {
   "cell_type": "code",
   "execution_count": 18,
   "metadata": {},
   "outputs": [
    {
     "data": {
      "text/plain": [
       "(            X         r         E         M       rou    Er\n",
       " 0    0.180776 -0.304848 -1.078164 -0.714507 -0.692395 -0.36\n",
       " 1    0.180776  0.080695  1.269763  0.997391  1.230873 -0.56\n",
       " 2    0.180776 -0.112076  0.682782  0.959247  1.259693 -0.55\n",
       " 3    0.634694 -0.304848 -1.078164 -0.714507 -0.692395 -0.65\n",
       " 4    0.180776 -0.304848 -1.078164 -0.714507 -0.692395  0.01\n",
       " ..        ...       ...       ...       ...       ...   ...\n",
       " 151  0.180776 -0.304848 -1.078164 -0.714507 -0.692395  0.01\n",
       " 152  0.180776 -0.304848 -1.078164 -0.714507 -0.692395  0.05\n",
       " 153  0.180776 -0.304848 -1.078164 -0.714507 -0.692395  0.01\n",
       " 154  0.180776 -0.304848 -1.078164 -0.714507 -0.692395  0.67\n",
       " 155  0.180776 -0.304848 -1.078164 -0.714507 -0.692395  0.71\n",
       " \n",
       " [156 rows x 6 columns],\n",
       " 0      0.01\n",
       " 1      0.03\n",
       " 2      0.04\n",
       " 3      0.05\n",
       " 4      0.05\n",
       "        ... \n",
       " 151    0.05\n",
       " 152    0.25\n",
       " 153    0.08\n",
       " 154    0.78\n",
       " 155    1.08\n",
       " Name: Ea, Length: 156, dtype: float64)"
      ]
     },
     "execution_count": 18,
     "metadata": {},
     "output_type": "execute_result"
    }
   ],
   "source": [
    "import pandas as pd\n",
    "data=pd.read_csv('./data_try_2.csv')\n",
    "data=data.drop('Unnamed: 0',axis=1)\n",
    "feat=data.drop('Ea',axis=1)\n",
    "label=data['Ea']\n",
    "feat,label"
   ]
  },
  {
   "cell_type": "code",
   "execution_count": 19,
   "metadata": {},
   "outputs": [
    {
     "data": {
      "text/plain": [
       "((6, 156), (156,))"
      ]
     },
     "execution_count": 19,
     "metadata": {},
     "output_type": "execute_result"
    }
   ],
   "source": [
    "\n",
    "\n",
    "feat=feat.to_numpy().T\n",
    "label=label.to_numpy()\n",
    "feat.shape,label.shape"
   ]
  },
  {
   "cell_type": "code",
   "execution_count": 23,
   "metadata": {},
   "outputs": [
    {
     "name": "stdout",
     "output_type": "stream",
     "text": [
      "SR task started...\n"
     ]
    },
    {
     "name": "stderr",
     "output_type": "stream",
     "text": [
      "100%|██████████| 10000/10000 [02:11<00:00, 75.80it/s]\n",
      "100%|██████████| 10000/10000 [00:01<00:00, 6732.46it/s]\n"
     ]
    },
    {
     "name": "stdout",
     "output_type": "stream",
     "text": [
      "Unable to make visualisation plots.\n",
      "Unable to save pareto figure.\n",
      "=========== Epoch 00000 ===========\n",
      "-> Time 16.09 s\n",
      "\n",
      "Overall best  at R=0.535854\n",
      "-> Raw expression : \n",
      "⎛   -Er          ⎞         \n",
      "⎜────────── + c₀₀⎟⋅cos(1.0)\n",
      "⎝-1.0 - 1.0      ⎠         \n",
      "\n",
      "Best of epoch at R=0.535854\n",
      "-> Raw expression : \n",
      "⎛   -Er          ⎞         \n",
      "⎜────────── + c₀₀⎟⋅cos(1.0)\n",
      "⎝-1.0 - 1.0      ⎠         \n",
      "\n",
      "\n"
     ]
    },
    {
     "name": "stderr",
     "output_type": "stream",
     "text": [
      "100%|██████████| 10000/10000 [02:18<00:00, 72.22it/s]\n",
      "100%|██████████| 10000/10000 [00:01<00:00, 5932.13it/s]\n"
     ]
    },
    {
     "name": "stdout",
     "output_type": "stream",
     "text": [
      "Unable to make visualisation plots.\n",
      "Unable to save pareto figure.\n",
      "=========== Epoch 00001 ===========\n",
      "-> Time 189.48 s\n",
      "\n",
      "Overall best  at R=0.539565\n",
      "-> Raw expression : \n",
      "              ⎛                 2      ⎞\n",
      "              ⎜⎛       M       ⎞       ⎟\n",
      "(Er + c₀₀)⋅cos⎜⎜───────────────⎟  + 1.0⎟\n",
      "              ⎝⎝rou⋅(1.0 + 1.0)⎠       ⎠\n",
      "────────────────────────────────────────\n",
      "                  1.0                   \n",
      "\n",
      "Best of epoch at R=0.539565\n",
      "-> Raw expression : \n",
      "              ⎛                 2      ⎞\n",
      "              ⎜⎛       M       ⎞       ⎟\n",
      "(Er + c₀₀)⋅cos⎜⎜───────────────⎟  + 1.0⎟\n",
      "              ⎝⎝rou⋅(1.0 + 1.0)⎠       ⎠\n",
      "────────────────────────────────────────\n",
      "                  1.0                   \n",
      "\n",
      "\n"
     ]
    },
    {
     "name": "stderr",
     "output_type": "stream",
     "text": [
      "100%|██████████| 10000/10000 [02:37<00:00, 63.57it/s]\n",
      "100%|██████████| 10000/10000 [00:01<00:00, 8765.21it/s]\n"
     ]
    },
    {
     "name": "stdout",
     "output_type": "stream",
     "text": [
      "Unable to make visualisation plots.\n",
      "Unable to save pareto figure.\n",
      "=========== Epoch 00002 ===========\n",
      "-> Time 197.94 s\n",
      "\n",
      "Overall best  at R=0.542814\n",
      "-> Raw expression : \n",
      "               1               \n",
      "───────────────────────────────\n",
      "⎛              1              ⎞\n",
      "⎜─────────────────────────────⎟\n",
      "⎜              ⎛          0.5⎞⎟\n",
      "⎜              ⎜ ⎛    0.5⎞   ⎟⎟\n",
      "⎝(Er + c₀₀)⋅cos⎝-⎝-1.0   ⎠   ⎠⎠\n",
      "\n",
      "Best of epoch at R=0.542814\n",
      "-> Raw expression : \n",
      "               1               \n",
      "───────────────────────────────\n",
      "⎛              1              ⎞\n",
      "⎜─────────────────────────────⎟\n",
      "⎜              ⎛          0.5⎞⎟\n",
      "⎜              ⎜ ⎛    0.5⎞   ⎟⎟\n",
      "⎝(Er + c₀₀)⋅cos⎝-⎝-1.0   ⎠   ⎠⎠\n",
      "\n",
      "\n"
     ]
    },
    {
     "name": "stderr",
     "output_type": "stream",
     "text": [
      "100%|██████████| 10000/10000 [02:54<00:00, 57.15it/s]\n",
      "100%|██████████| 10000/10000 [00:01<00:00, 5315.93it/s]\n"
     ]
    },
    {
     "name": "stdout",
     "output_type": "stream",
     "text": [
      "Unable to make visualisation plots.\n",
      "Unable to save pareto figure.\n",
      "=========== Epoch 00003 ===========\n",
      "-> Time 216.66 s\n",
      "\n",
      "Overall best  at R=0.542814\n",
      "-> Raw expression : \n",
      "               1               \n",
      "───────────────────────────────\n",
      "⎛              1              ⎞\n",
      "⎜─────────────────────────────⎟\n",
      "⎜              ⎛          0.5⎞⎟\n",
      "⎜              ⎜ ⎛    0.5⎞   ⎟⎟\n",
      "⎝(Er + c₀₀)⋅cos⎝-⎝-1.0   ⎠   ⎠⎠\n",
      "\n",
      "Best of epoch at R=0.530081\n",
      "-> Raw expression : \n",
      "      2           \n",
      "Er⋅sin (1.0) + c₀₀\n",
      "\n",
      "\n"
     ]
    },
    {
     "name": "stderr",
     "output_type": "stream",
     "text": [
      "100%|██████████| 10000/10000 [03:46<00:00, 44.18it/s]\n",
      "100%|██████████| 10000/10000 [00:02<00:00, 4216.16it/s]\n"
     ]
    },
    {
     "name": "stdout",
     "output_type": "stream",
     "text": [
      "Unable to make visualisation plots.\n",
      "Unable to save pareto figure.\n",
      "=========== Epoch 00004 ===========\n",
      "-> Time 274.81 s\n",
      "\n",
      "Overall best  at R=0.543888\n",
      "-> Raw expression : \n",
      "   ⎛                                 0.5⎞      \n",
      "   ⎜       ⎛   ⎛   2⎞               ⎞   ⎟      \n",
      "   ⎜       ⎜log⎝1.0 ⎠            0.5⎟   ⎟      \n",
      "Er⋅⎜-1.0 + ⎜───────── + 1.0 + 1.0   ⎟   ⎟ - c₀₀\n",
      "   ⎝       ⎝   1.0                  ⎠   ⎠      \n",
      "\n",
      "Best of epoch at R=0.543888\n",
      "-> Raw expression : \n",
      "   ⎛                                 0.5⎞      \n",
      "   ⎜       ⎛   ⎛   2⎞               ⎞   ⎟      \n",
      "   ⎜       ⎜log⎝1.0 ⎠            0.5⎟   ⎟      \n",
      "Er⋅⎜-1.0 + ⎜───────── + 1.0 + 1.0   ⎟   ⎟ - c₀₀\n",
      "   ⎝       ⎝   1.0                  ⎠   ⎠      \n",
      "\n",
      "\n"
     ]
    },
    {
     "name": "stderr",
     "output_type": "stream",
     "text": [
      "100%|██████████| 10000/10000 [05:47<00:00, 28.81it/s]\n",
      "100%|██████████| 10000/10000 [00:02<00:00, 4857.67it/s]\n"
     ]
    },
    {
     "name": "stdout",
     "output_type": "stream",
     "text": [
      "Unable to make visualisation plots.\n",
      "Unable to save pareto figure.\n",
      "=========== Epoch 00005 ===========\n",
      "-> Time 390.87 s\n",
      "\n",
      "Overall best  at R=0.543888\n",
      "-> Raw expression : \n",
      "   ⎛                                 0.5⎞      \n",
      "   ⎜       ⎛   ⎛   2⎞               ⎞   ⎟      \n",
      "   ⎜       ⎜log⎝1.0 ⎠            0.5⎟   ⎟      \n",
      "Er⋅⎜-1.0 + ⎜───────── + 1.0 + 1.0   ⎟   ⎟ - c₀₀\n",
      "   ⎝       ⎝   1.0                  ⎠   ⎠      \n",
      "\n",
      "Best of epoch at R=0.542615\n",
      "-> Raw expression : \n",
      "        ⎛       1.0⎞      \n",
      "- Er⋅sin⎝1.0 + ℯ   ⎠ - c₀₀\n",
      "\n",
      "\n"
     ]
    },
    {
     "name": "stderr",
     "output_type": "stream",
     "text": [
      "100%|██████████| 10000/10000 [07:09<00:00, 23.30it/s]\n",
      "100%|██████████| 10000/10000 [00:02<00:00, 3963.07it/s]\n"
     ]
    },
    {
     "name": "stdout",
     "output_type": "stream",
     "text": [
      "Unable to make visualisation plots.\n",
      "Unable to save pareto figure.\n",
      "=========== Epoch 00006 ===========\n",
      "-> Time 478.60 s\n",
      "\n",
      "Overall best  at R=0.546183\n",
      "-> Raw expression : \n",
      "                                       0.5\n",
      "⎛    ⎛            ⎛   ⎛   0.5⎞⎞      ⎞⎞   \n",
      "⎝c₀₀⋅⎝Er + c₀₀⋅sin⎝log⎝1.0   ⎠⎠ + c₀₀⎠⎠   \n",
      "\n",
      "Best of epoch at R=0.546183\n",
      "-> Raw expression : \n",
      "                                       0.5\n",
      "⎛    ⎛            ⎛   ⎛   0.5⎞⎞      ⎞⎞   \n",
      "⎝c₀₀⋅⎝Er + c₀₀⋅sin⎝log⎝1.0   ⎠⎠ + c₀₀⎠⎠   \n",
      "\n",
      "\n"
     ]
    },
    {
     "name": "stderr",
     "output_type": "stream",
     "text": [
      "100%|██████████| 10000/10000 [07:25<00:00, 22.43it/s]\n",
      "100%|██████████| 10000/10000 [00:02<00:00, 4747.61it/s]\n"
     ]
    },
    {
     "name": "stdout",
     "output_type": "stream",
     "text": [
      "Unable to make visualisation plots.\n",
      "Unable to save pareto figure.\n",
      "=========== Epoch 00007 ===========\n",
      "-> Time 494.77 s\n",
      "\n",
      "Overall best  at R=0.546183\n",
      "-> Raw expression : \n",
      "                                       0.5\n",
      "⎛    ⎛            ⎛   ⎛   0.5⎞⎞      ⎞⎞   \n",
      "⎝c₀₀⋅⎝Er + c₀₀⋅sin⎝log⎝1.0   ⎠⎠ + c₀₀⎠⎠   \n",
      "\n",
      "Best of epoch at R=0.545366\n",
      "-> Raw expression : \n",
      "                 2          \n",
      " ⎛           0.5⎞           \n",
      "-⎝-(Er + c₀₀)   ⎠ ⋅-cos(1.0)\n",
      "\n",
      "\n"
     ]
    },
    {
     "name": "stderr",
     "output_type": "stream",
     "text": [
      "100%|██████████| 10000/10000 [08:06<00:00, 20.56it/s]\n",
      "100%|██████████| 10000/10000 [00:03<00:00, 3227.90it/s]\n"
     ]
    },
    {
     "name": "stdout",
     "output_type": "stream",
     "text": [
      "Unable to make visualisation plots.\n",
      "Unable to save pareto figure.\n",
      "=========== Epoch 00008 ===========\n",
      "-> Time 525.12 s\n",
      "\n",
      "Overall best  at R=0.546183\n",
      "-> Raw expression : \n",
      "                   0.5\n",
      "⎛        1        ⎞   \n",
      "⎜─────────────────⎟   \n",
      "⎜⎛      -1       ⎞⎟   \n",
      "⎜⎜───────────────⎟⎟   \n",
      "⎜⎜           1   ⎟⎟   \n",
      "⎜⎜Er⋅c₀₀ + ──────⎟⎟   \n",
      "⎜⎜              2⎟⎟   \n",
      "⎜⎜         ⎛ 1 ⎞ ⎟⎟   \n",
      "⎜⎜         ⎜───⎟ ⎟⎟   \n",
      "⎝⎝         ⎝c₀₀⎠ ⎠⎠   \n",
      "──────────────────────\n",
      "         1.0          \n",
      "\n",
      "Best of epoch at R=0.546183\n",
      "-> Raw expression : \n",
      "                   0.5\n",
      "⎛        1        ⎞   \n",
      "⎜─────────────────⎟   \n",
      "⎜⎛      -1       ⎞⎟   \n",
      "⎜⎜───────────────⎟⎟   \n",
      "⎜⎜           1   ⎟⎟   \n",
      "⎜⎜Er⋅c₀₀ + ──────⎟⎟   \n",
      "⎜⎜              2⎟⎟   \n",
      "⎜⎜         ⎛ 1 ⎞ ⎟⎟   \n",
      "⎜⎜         ⎜───⎟ ⎟⎟   \n",
      "⎝⎝         ⎝c₀₀⎠ ⎠⎠   \n",
      "──────────────────────\n",
      "         1.0          \n",
      "\n",
      "\n"
     ]
    },
    {
     "name": "stderr",
     "output_type": "stream",
     "text": [
      "100%|██████████| 10000/10000 [08:49<00:00, 18.87it/s]\n",
      "100%|██████████| 10000/10000 [00:02<00:00, 3720.75it/s]\n"
     ]
    },
    {
     "name": "stdout",
     "output_type": "stream",
     "text": [
      "Unable to make visualisation plots.\n",
      "Unable to save pareto figure.\n",
      "=========== Epoch 00009 ===========\n",
      "-> Time 569.17 s\n",
      "\n",
      "Overall best  at R=0.546183\n",
      "-> Raw expression : \n",
      "                   0.5\n",
      "⎛        1        ⎞   \n",
      "⎜─────────────────⎟   \n",
      "⎜⎛      -1       ⎞⎟   \n",
      "⎜⎜───────────────⎟⎟   \n",
      "⎜⎜           1   ⎟⎟   \n",
      "⎜⎜Er⋅c₀₀ + ──────⎟⎟   \n",
      "⎜⎜              2⎟⎟   \n",
      "⎜⎜         ⎛ 1 ⎞ ⎟⎟   \n",
      "⎜⎜         ⎜───⎟ ⎟⎟   \n",
      "⎝⎝         ⎝c₀₀⎠ ⎠⎠   \n",
      "──────────────────────\n",
      "         1.0          \n",
      "\n",
      "Best of epoch at R=0.542804\n",
      "-> Raw expression : \n",
      "              2⎛   ⎛  1  ⎞⎞\n",
      "(Er + c₀₀)⋅log ⎜cos⎜─────⎟⎟\n",
      "               ⎜   ⎜    2⎟⎟\n",
      "               ⎝   ⎝-1.0 ⎠⎠\n",
      "\n",
      "\n"
     ]
    },
    {
     "name": "stderr",
     "output_type": "stream",
     "text": [
      "100%|██████████| 10000/10000 [08:16<00:00, 20.13it/s]\n",
      "100%|██████████| 10000/10000 [00:03<00:00, 3150.63it/s]\n"
     ]
    },
    {
     "name": "stdout",
     "output_type": "stream",
     "text": [
      "Unable to make visualisation plots.\n",
      "Unable to save pareto figure.\n",
      "=========== Epoch 00010 ===========\n",
      "-> Time 539.67 s\n",
      "\n",
      "Overall best  at R=0.546183\n",
      "-> Raw expression : \n",
      "                   0.5\n",
      "⎛        1        ⎞   \n",
      "⎜─────────────────⎟   \n",
      "⎜⎛      -1       ⎞⎟   \n",
      "⎜⎜───────────────⎟⎟   \n",
      "⎜⎜           1   ⎟⎟   \n",
      "⎜⎜Er⋅c₀₀ + ──────⎟⎟   \n",
      "⎜⎜              2⎟⎟   \n",
      "⎜⎜         ⎛ 1 ⎞ ⎟⎟   \n",
      "⎜⎜         ⎜───⎟ ⎟⎟   \n",
      "⎝⎝         ⎝c₀₀⎠ ⎠⎠   \n",
      "──────────────────────\n",
      "         1.0          \n",
      "\n",
      "Best of epoch at R=0.544000\n",
      "-> Raw expression : \n",
      "        -1    \n",
      "c₀₀ - ────────\n",
      "      1     1 \n",
      "      ── - ───\n",
      "      Er   -Er\n",
      "\n",
      "\n"
     ]
    },
    {
     "name": "stderr",
     "output_type": "stream",
     "text": [
      "100%|██████████| 10000/10000 [08:36<00:00, 19.36it/s]\n",
      "100%|██████████| 10000/10000 [00:02<00:00, 4329.87it/s]\n"
     ]
    },
    {
     "name": "stdout",
     "output_type": "stream",
     "text": [
      "Unable to make visualisation plots.\n",
      "Unable to save pareto figure.\n",
      "=========== Epoch 00011 ===========\n",
      "-> Time 558.25 s\n",
      "\n",
      "Overall best  at R=0.546183\n",
      "-> Raw expression : \n",
      "                   0.5\n",
      "⎛        1        ⎞   \n",
      "⎜─────────────────⎟   \n",
      "⎜⎛      -1       ⎞⎟   \n",
      "⎜⎜───────────────⎟⎟   \n",
      "⎜⎜           1   ⎟⎟   \n",
      "⎜⎜Er⋅c₀₀ + ──────⎟⎟   \n",
      "⎜⎜              2⎟⎟   \n",
      "⎜⎜         ⎛ 1 ⎞ ⎟⎟   \n",
      "⎜⎜         ⎜───⎟ ⎟⎟   \n",
      "⎝⎝         ⎝c₀₀⎠ ⎠⎠   \n",
      "──────────────────────\n",
      "         1.0          \n",
      "\n",
      "Best of epoch at R=0.546183\n",
      "-> Raw expression : \n",
      "                           0.5\n",
      "⎛            1            ⎞   \n",
      "⎜─────────────────────────⎟   \n",
      "⎜                        2⎟   \n",
      "⎜⎛                   0.5⎞ ⎟   \n",
      "⎜⎜ ⎛       1        ⎞   ⎟ ⎟   \n",
      "⎜⎜-⎜────────────────⎟   ⎟ ⎟   \n",
      "⎜⎜ ⎜            1   ⎟   ⎟ ⎟   \n",
      "⎜⎜ ⎜-Er⋅c₀₀ - ──────⎟   ⎟ ⎟   \n",
      "⎜⎜ ⎜               2⎟   ⎟ ⎟   \n",
      "⎜⎜ ⎜          ⎛ 1 ⎞ ⎟   ⎟ ⎟   \n",
      "⎜⎜ ⎜          ⎜───⎟ ⎟   ⎟ ⎟   \n",
      "⎝⎝ ⎝          ⎝c₀₀⎠ ⎠   ⎠ ⎠   \n",
      "\n",
      "\n"
     ]
    },
    {
     "name": "stderr",
     "output_type": "stream",
     "text": [
      "100%|██████████| 10000/10000 [06:53<00:00, 24.20it/s]\n",
      "100%|██████████| 10000/10000 [00:01<00:00, 5407.55it/s]\n"
     ]
    },
    {
     "name": "stdout",
     "output_type": "stream",
     "text": [
      "Unable to make visualisation plots.\n",
      "Unable to save pareto figure.\n",
      "=========== Epoch 00012 ===========\n",
      "-> Time 450.86 s\n",
      "\n",
      "Overall best  at R=0.546183\n",
      "-> Raw expression : \n",
      "                   0.5\n",
      "⎛        1        ⎞   \n",
      "⎜─────────────────⎟   \n",
      "⎜⎛      -1       ⎞⎟   \n",
      "⎜⎜───────────────⎟⎟   \n",
      "⎜⎜           1   ⎟⎟   \n",
      "⎜⎜Er⋅c₀₀ + ──────⎟⎟   \n",
      "⎜⎜              2⎟⎟   \n",
      "⎜⎜         ⎛ 1 ⎞ ⎟⎟   \n",
      "⎜⎜         ⎜───⎟ ⎟⎟   \n",
      "⎝⎝         ⎝c₀₀⎠ ⎠⎠   \n",
      "──────────────────────\n",
      "         1.0          \n",
      "\n",
      "Best of epoch at R=0.546183\n",
      "-> Raw expression : \n",
      "                0.5\n",
      "(c₀₀⋅(Er + c₀₀))   \n",
      "\n",
      "\n"
     ]
    },
    {
     "name": "stderr",
     "output_type": "stream",
     "text": [
      "100%|██████████| 10000/10000 [14:07:51<00:00,  5.09s/it]      \n",
      "100%|██████████| 10000/10000 [00:01<00:00, 6366.18it/s]\n"
     ]
    },
    {
     "name": "stdout",
     "output_type": "stream",
     "text": [
      "Unable to make visualisation plots.\n",
      "Unable to save pareto figure.\n",
      "=========== Epoch 00013 ===========\n",
      "-> Time 50902.05 s\n",
      "\n",
      "Overall best  at R=0.546183\n",
      "-> Raw expression : \n",
      "                   0.5\n",
      "⎛        1        ⎞   \n",
      "⎜─────────────────⎟   \n",
      "⎜⎛      -1       ⎞⎟   \n",
      "⎜⎜───────────────⎟⎟   \n",
      "⎜⎜           1   ⎟⎟   \n",
      "⎜⎜Er⋅c₀₀ + ──────⎟⎟   \n",
      "⎜⎜              2⎟⎟   \n",
      "⎜⎜         ⎛ 1 ⎞ ⎟⎟   \n",
      "⎜⎜         ⎜───⎟ ⎟⎟   \n",
      "⎝⎝         ⎝c₀₀⎠ ⎠⎠   \n",
      "──────────────────────\n",
      "         1.0          \n",
      "\n",
      "Best of epoch at R=0.542814\n",
      "-> Raw expression : \n",
      "(Er + c₀₀)⋅cos(1.0)\n",
      "\n",
      "\n"
     ]
    },
    {
     "name": "stderr",
     "output_type": "stream",
     "text": [
      "100%|██████████| 10000/10000 [04:55<00:00, 33.89it/s]\n",
      "100%|██████████| 10000/10000 [00:02<00:00, 4754.04it/s]\n"
     ]
    },
    {
     "name": "stdout",
     "output_type": "stream",
     "text": [
      "Unable to make visualisation plots.\n",
      "Unable to save pareto figure.\n",
      "=========== Epoch 00014 ===========\n",
      "-> Time 324.23 s\n",
      "\n",
      "Overall best  at R=0.546183\n",
      "-> Raw expression : \n",
      "                   0.5\n",
      "⎛        1        ⎞   \n",
      "⎜─────────────────⎟   \n",
      "⎜⎛      -1       ⎞⎟   \n",
      "⎜⎜───────────────⎟⎟   \n",
      "⎜⎜           1   ⎟⎟   \n",
      "⎜⎜Er⋅c₀₀ + ──────⎟⎟   \n",
      "⎜⎜              2⎟⎟   \n",
      "⎜⎜         ⎛ 1 ⎞ ⎟⎟   \n",
      "⎜⎜         ⎜───⎟ ⎟⎟   \n",
      "⎝⎝         ⎝c₀₀⎠ ⎠⎠   \n",
      "──────────────────────\n",
      "         1.0          \n",
      "\n",
      "Best of epoch at R=0.546183\n",
      "-> Raw expression : \n",
      "            0.5\n",
      "⎛   c₀₀    ⎞   \n",
      "⎜──────────⎟   \n",
      "⎜⎛   1    ⎞⎟   \n",
      "⎜⎜────────⎟⎟   \n",
      "⎝⎝Er + c₀₀⎠⎠   \n",
      "\n",
      "\n"
     ]
    },
    {
     "name": "stderr",
     "output_type": "stream",
     "text": [
      "100%|██████████| 10000/10000 [05:30<00:00, 30.24it/s]\n",
      "100%|██████████| 10000/10000 [00:01<00:00, 6177.07it/s]\n"
     ]
    },
    {
     "name": "stdout",
     "output_type": "stream",
     "text": [
      "Unable to make visualisation plots.\n",
      "Unable to save pareto figure.\n",
      "=========== Epoch 00015 ===========\n",
      "-> Time 360.78 s\n",
      "\n",
      "Overall best  at R=0.546183\n",
      "-> Raw expression : \n",
      "                   0.5\n",
      "⎛        1        ⎞   \n",
      "⎜─────────────────⎟   \n",
      "⎜⎛      -1       ⎞⎟   \n",
      "⎜⎜───────────────⎟⎟   \n",
      "⎜⎜           1   ⎟⎟   \n",
      "⎜⎜Er⋅c₀₀ + ──────⎟⎟   \n",
      "⎜⎜              2⎟⎟   \n",
      "⎜⎜         ⎛ 1 ⎞ ⎟⎟   \n",
      "⎜⎜         ⎜───⎟ ⎟⎟   \n",
      "⎝⎝         ⎝c₀₀⎠ ⎠⎠   \n",
      "──────────────────────\n",
      "         1.0          \n",
      "\n",
      "Best of epoch at R=0.545629\n",
      "-> Raw expression : \n",
      "       ⎛        1.0         ⎞\n",
      "c₀₀⋅cos⎜────────────────────⎟\n",
      "       ⎜                 0.5⎟\n",
      "       ⎜   0.5 ⎛   1    ⎞   ⎟\n",
      "       ⎜c₀₀   ⋅⎜────────⎟   ⎟\n",
      "       ⎝       ⎝Er - c₀₀⎠   ⎠\n",
      "\n",
      "\n"
     ]
    },
    {
     "name": "stderr",
     "output_type": "stream",
     "text": [
      "100%|██████████| 10000/10000 [04:30<00:00, 36.97it/s]\n",
      "100%|██████████| 10000/10000 [00:01<00:00, 7113.88it/s]\n"
     ]
    },
    {
     "name": "stdout",
     "output_type": "stream",
     "text": [
      "Unable to make visualisation plots.\n",
      "Unable to save pareto figure.\n",
      "=========== Epoch 00016 ===========\n",
      "-> Time 298.18 s\n",
      "\n",
      "Overall best  at R=0.546183\n",
      "-> Raw expression : \n",
      "                   0.5\n",
      "⎛        1        ⎞   \n",
      "⎜─────────────────⎟   \n",
      "⎜⎛      -1       ⎞⎟   \n",
      "⎜⎜───────────────⎟⎟   \n",
      "⎜⎜           1   ⎟⎟   \n",
      "⎜⎜Er⋅c₀₀ + ──────⎟⎟   \n",
      "⎜⎜              2⎟⎟   \n",
      "⎜⎜         ⎛ 1 ⎞ ⎟⎟   \n",
      "⎜⎜         ⎜───⎟ ⎟⎟   \n",
      "⎝⎝         ⎝c₀₀⎠ ⎠⎠   \n",
      "──────────────────────\n",
      "         1.0          \n",
      "\n",
      "Best of epoch at R=0.546183\n",
      "-> Raw expression : \n",
      "                     0.5\n",
      "⎛              1    ⎞   \n",
      "⎜-Er⋅c₀₀ + ─────────⎟   \n",
      "⎜                1  ⎟   \n",
      "⎜          -1.0⋅────⎟   \n",
      "⎜                  2⎟   \n",
      "⎝               c₀₀ ⎠   \n",
      "\n",
      "\n"
     ]
    },
    {
     "name": "stderr",
     "output_type": "stream",
     "text": [
      "100%|██████████| 10000/10000 [04:19<00:00, 38.59it/s]\n",
      "100%|██████████| 10000/10000 [00:01<00:00, 8100.12it/s]\n"
     ]
    },
    {
     "name": "stdout",
     "output_type": "stream",
     "text": [
      "Unable to make visualisation plots.\n",
      "Unable to save pareto figure.\n",
      "=========== Epoch 00017 ===========\n",
      "-> Time 284.64 s\n",
      "\n",
      "Overall best  at R=0.546183\n",
      "-> Raw expression : \n",
      "                   0.5\n",
      "⎛        1        ⎞   \n",
      "⎜─────────────────⎟   \n",
      "⎜⎛      -1       ⎞⎟   \n",
      "⎜⎜───────────────⎟⎟   \n",
      "⎜⎜           1   ⎟⎟   \n",
      "⎜⎜Er⋅c₀₀ + ──────⎟⎟   \n",
      "⎜⎜              2⎟⎟   \n",
      "⎜⎜         ⎛ 1 ⎞ ⎟⎟   \n",
      "⎜⎜         ⎜───⎟ ⎟⎟   \n",
      "⎝⎝         ⎝c₀₀⎠ ⎠⎠   \n",
      "──────────────────────\n",
      "         1.0          \n",
      "\n",
      "Best of epoch at R=0.543915\n",
      "-> Raw expression : \n",
      "                       0.5      \n",
      "- -Er⋅(-log(sin(-1.0)))    + c₀₀\n",
      "\n",
      "\n"
     ]
    },
    {
     "name": "stderr",
     "output_type": "stream",
     "text": [
      "100%|██████████| 10000/10000 [26:33<00:00,  6.28it/s]  \n",
      "100%|██████████| 10000/10000 [00:01<00:00, 8430.58it/s]\n"
     ]
    },
    {
     "name": "stdout",
     "output_type": "stream",
     "text": [
      "Unable to make visualisation plots.\n",
      "Unable to save pareto figure.\n",
      "=========== Epoch 00018 ===========\n",
      "-> Time 1617.74 s\n",
      "\n",
      "Overall best  at R=0.546183\n",
      "-> Raw expression : \n",
      "                   0.5\n",
      "⎛        1        ⎞   \n",
      "⎜─────────────────⎟   \n",
      "⎜⎛      -1       ⎞⎟   \n",
      "⎜⎜───────────────⎟⎟   \n",
      "⎜⎜           1   ⎟⎟   \n",
      "⎜⎜Er⋅c₀₀ + ──────⎟⎟   \n",
      "⎜⎜              2⎟⎟   \n",
      "⎜⎜         ⎛ 1 ⎞ ⎟⎟   \n",
      "⎜⎜         ⎜───⎟ ⎟⎟   \n",
      "⎝⎝         ⎝c₀₀⎠ ⎠⎠   \n",
      "──────────────────────\n",
      "         1.0          \n",
      "\n",
      "Best of epoch at R=0.542814\n",
      "-> Raw expression : \n",
      "      cos(1.0)      \n",
      "────────────────────\n",
      "⎛        1         ⎞\n",
      "⎜──────────────────⎟\n",
      "⎜            ⎛ 1.0⎞⎟\n",
      "⎝Er - c₀₀⋅sin⎝ℯ   ⎠⎠\n",
      "\n",
      "\n"
     ]
    },
    {
     "name": "stderr",
     "output_type": "stream",
     "text": [
      "100%|██████████| 10000/10000 [04:56<00:00, 33.70it/s]\n",
      "100%|██████████| 10000/10000 [00:01<00:00, 5923.01it/s]\n"
     ]
    },
    {
     "name": "stdout",
     "output_type": "stream",
     "text": [
      "Unable to make visualisation plots.\n",
      "Unable to save pareto figure.\n",
      "=========== Epoch 00019 ===========\n",
      "-> Time 328.16 s\n",
      "\n",
      "Overall best  at R=0.552097\n",
      "-> Raw expression : \n",
      "               0.5\n",
      "      ⎛  c₀₀  ⎞   \n",
      "c₀₀ + ⎜───────⎟   \n",
      "      ⎜⎛ -Er ⎞⎟   \n",
      "      ⎜⎜ ────⎟⎟   \n",
      "      ⎜⎜ c₀₀ ⎟⎟   \n",
      "      ⎜⎜ℯ    ⎟⎟   \n",
      "      ⎜⎜─────⎟⎟   \n",
      "      ⎝⎝ c₀₀ ⎠⎠   \n",
      "\n",
      "Best of epoch at R=0.552097\n",
      "-> Raw expression : \n",
      "               0.5\n",
      "      ⎛  c₀₀  ⎞   \n",
      "c₀₀ + ⎜───────⎟   \n",
      "      ⎜⎛ -Er ⎞⎟   \n",
      "      ⎜⎜ ────⎟⎟   \n",
      "      ⎜⎜ c₀₀ ⎟⎟   \n",
      "      ⎜⎜ℯ    ⎟⎟   \n",
      "      ⎜⎜─────⎟⎟   \n",
      "      ⎝⎝ c₀₀ ⎠⎠   \n",
      "\n",
      "\n"
     ]
    },
    {
     "name": "stderr",
     "output_type": "stream",
     "text": [
      "c:\\users\\lenovo\\desktop\\physo-main\\physo-main\\physo\\learn\\monitoring.py:595: RuntimeWarning: More than 20 figures have been opened. Figures created through the pyplot interface (`matplotlib.pyplot.figure`) are retained until explicitly closed and may consume too much memory. (To control this warning, see the rcParam `figure.max_open_warning`).\n",
      "  fig, ax = plt.subplots(1, 1, figsize=figsize)\n",
      "100%|██████████| 10000/10000 [05:31<00:00, 30.21it/s]\n",
      "100%|██████████| 10000/10000 [00:01<00:00, 6237.09it/s]\n"
     ]
    },
    {
     "name": "stdout",
     "output_type": "stream",
     "text": [
      "Unable to make visualisation plots.\n",
      "Unable to save pareto figure.\n",
      "=========== Epoch 00020 ===========\n",
      "-> Time 363.63 s\n",
      "\n",
      "Overall best  at R=0.552097\n",
      "-> Raw expression : \n",
      "               0.5\n",
      "      ⎛  c₀₀  ⎞   \n",
      "c₀₀ + ⎜───────⎟   \n",
      "      ⎜⎛ -Er ⎞⎟   \n",
      "      ⎜⎜ ────⎟⎟   \n",
      "      ⎜⎜ c₀₀ ⎟⎟   \n",
      "      ⎜⎜ℯ    ⎟⎟   \n",
      "      ⎜⎜─────⎟⎟   \n",
      "      ⎝⎝ c₀₀ ⎠⎠   \n",
      "\n",
      "Best of epoch at R=0.546106\n",
      "-> Raw expression : \n",
      "                                 0.5\n",
      "⎛     ⎛                0.5     ⎞⎞   \n",
      "⎝-c₀₀⋅⎝Er + 1.0⋅c₀₀⋅sin   (1.0)⎠⎠   \n",
      "\n",
      "\n"
     ]
    },
    {
     "name": "stderr",
     "output_type": "stream",
     "text": [
      "100%|██████████| 10000/10000 [05:20<00:00, 31.22it/s]\n",
      "100%|██████████| 10000/10000 [00:01<00:00, 5766.04it/s]\n"
     ]
    },
    {
     "name": "stdout",
     "output_type": "stream",
     "text": [
      "Unable to make visualisation plots.\n",
      "Unable to save pareto figure.\n",
      "=========== Epoch 00021 ===========\n",
      "-> Time 353.59 s\n",
      "\n",
      "Overall best  at R=0.552097\n",
      "-> Raw expression : \n",
      "               0.5\n",
      "      ⎛  c₀₀  ⎞   \n",
      "c₀₀ + ⎜───────⎟   \n",
      "      ⎜⎛ -Er ⎞⎟   \n",
      "      ⎜⎜ ────⎟⎟   \n",
      "      ⎜⎜ c₀₀ ⎟⎟   \n",
      "      ⎜⎜ℯ    ⎟⎟   \n",
      "      ⎜⎜─────⎟⎟   \n",
      "      ⎝⎝ c₀₀ ⎠⎠   \n",
      "\n",
      "Best of epoch at R=0.546183\n",
      "-> Raw expression : \n",
      "                0.5\n",
      "⎛             2⎞   \n",
      "⎝-Er⋅c₀₀ - c₀₀ ⎠   \n",
      "\n",
      "\n"
     ]
    },
    {
     "name": "stderr",
     "output_type": "stream",
     "text": [
      "100%|██████████| 10000/10000 [04:59<00:00, 33.41it/s]\n",
      "100%|██████████| 10000/10000 [00:01<00:00, 6738.00it/s]\n"
     ]
    },
    {
     "name": "stdout",
     "output_type": "stream",
     "text": [
      "Unable to make visualisation plots.\n",
      "Unable to save pareto figure.\n",
      "=========== Epoch 00022 ===========\n",
      "-> Time 330.85 s\n",
      "\n",
      "Overall best  at R=0.552097\n",
      "-> Raw expression : \n",
      "               0.5\n",
      "      ⎛  c₀₀  ⎞   \n",
      "c₀₀ + ⎜───────⎟   \n",
      "      ⎜⎛ -Er ⎞⎟   \n",
      "      ⎜⎜ ────⎟⎟   \n",
      "      ⎜⎜ c₀₀ ⎟⎟   \n",
      "      ⎜⎜ℯ    ⎟⎟   \n",
      "      ⎜⎜─────⎟⎟   \n",
      "      ⎝⎝ c₀₀ ⎠⎠   \n",
      "\n",
      "Best of epoch at R=0.546245\n",
      "-> Raw expression : \n",
      "                    1                    \n",
      "─────────────────────────────────────────\n",
      "                                      0.5\n",
      "⎛                                 0.5⎞   \n",
      "⎜⎛               1               ⎞   ⎟   \n",
      "⎜⎜───────────────────────────────⎟   ⎟   \n",
      "⎜⎜                              2⎟   ⎟   \n",
      "⎜⎜⎛                         0.5⎞ ⎟   ⎟   \n",
      "⎜⎜⎜          ⎛            2⎞   ⎟ ⎟   ⎟   \n",
      "⎝⎝⎝-Er⋅c₀₀ - ⎝1.0⋅-(M⋅c₀₀) ⎠   ⎠ ⎠   ⎠   \n",
      "\n",
      "\n"
     ]
    },
    {
     "name": "stderr",
     "output_type": "stream",
     "text": [
      "100%|██████████| 10000/10000 [05:18<00:00, 31.43it/s]\n",
      "100%|██████████| 10000/10000 [00:01<00:00, 6465.27it/s]\n"
     ]
    },
    {
     "name": "stdout",
     "output_type": "stream",
     "text": [
      "Unable to make visualisation plots.\n",
      "Unable to save pareto figure.\n",
      "=========== Epoch 00023 ===========\n",
      "-> Time 349.64 s\n",
      "\n",
      "Overall best  at R=0.552097\n",
      "-> Raw expression : \n",
      "               0.5\n",
      "      ⎛  c₀₀  ⎞   \n",
      "c₀₀ + ⎜───────⎟   \n",
      "      ⎜⎛ -Er ⎞⎟   \n",
      "      ⎜⎜ ────⎟⎟   \n",
      "      ⎜⎜ c₀₀ ⎟⎟   \n",
      "      ⎜⎜ℯ    ⎟⎟   \n",
      "      ⎜⎜─────⎟⎟   \n",
      "      ⎝⎝ c₀₀ ⎠⎠   \n",
      "\n",
      "Best of epoch at R=0.551929\n",
      "-> Raw expression : \n",
      "                      1 \n",
      "     cos(1.0)⋅Er⋅1.0⋅───\n",
      "                     c₀₀\n",
      "c₀₀⋅ℯ                   \n",
      "\n",
      "\n"
     ]
    },
    {
     "name": "stderr",
     "output_type": "stream",
     "text": [
      "100%|██████████| 10000/10000 [05:16<00:00, 31.61it/s]\n",
      "100%|██████████| 10000/10000 [00:01<00:00, 7190.48it/s]\n"
     ]
    },
    {
     "name": "stdout",
     "output_type": "stream",
     "text": [
      "Unable to make visualisation plots.\n",
      "Unable to save pareto figure.\n",
      "=========== Epoch 00024 ===========\n",
      "-> Time 347.27 s\n",
      "\n",
      "Overall best  at R=0.552097\n",
      "-> Raw expression : \n",
      "               0.5\n",
      "      ⎛  c₀₀  ⎞   \n",
      "c₀₀ + ⎜───────⎟   \n",
      "      ⎜⎛ -Er ⎞⎟   \n",
      "      ⎜⎜ ────⎟⎟   \n",
      "      ⎜⎜ c₀₀ ⎟⎟   \n",
      "      ⎜⎜ℯ    ⎟⎟   \n",
      "      ⎜⎜─────⎟⎟   \n",
      "      ⎝⎝ c₀₀ ⎠⎠   \n",
      "\n",
      "Best of epoch at R=0.543808\n",
      "-> Raw expression : \n",
      "      ⎛ 1.0⎞      \n",
      "Er⋅sin⎝ℯ   ⎠ - c₀₀\n",
      "\n",
      "\n"
     ]
    },
    {
     "name": "stderr",
     "output_type": "stream",
     "text": [
      "100%|██████████| 10000/10000 [05:40<00:00, 29.36it/s]\n",
      "100%|██████████| 10000/10000 [00:01<00:00, 5911.69it/s]\n"
     ]
    },
    {
     "name": "stdout",
     "output_type": "stream",
     "text": [
      "Unable to make visualisation plots.\n",
      "Unable to save pareto figure.\n",
      "=========== Epoch 00025 ===========\n",
      "-> Time 372.17 s\n",
      "\n",
      "Overall best  at R=0.552097\n",
      "-> Raw expression : \n",
      "               0.5\n",
      "      ⎛  c₀₀  ⎞   \n",
      "c₀₀ + ⎜───────⎟   \n",
      "      ⎜⎛ -Er ⎞⎟   \n",
      "      ⎜⎜ ────⎟⎟   \n",
      "      ⎜⎜ c₀₀ ⎟⎟   \n",
      "      ⎜⎜ℯ    ⎟⎟   \n",
      "      ⎜⎜─────⎟⎟   \n",
      "      ⎝⎝ c₀₀ ⎠⎠   \n",
      "\n",
      "Best of epoch at R=0.546183\n",
      "-> Raw expression : \n",
      "                0.5\n",
      "(c₀₀⋅(Er + c₀₀))   \n",
      "\n",
      "\n"
     ]
    },
    {
     "name": "stderr",
     "output_type": "stream",
     "text": [
      "100%|██████████| 10000/10000 [07:00<00:00, 23.79it/s]\n",
      "100%|██████████| 10000/10000 [00:01<00:00, 5872.53it/s]\n"
     ]
    },
    {
     "name": "stdout",
     "output_type": "stream",
     "text": [
      "Unable to make visualisation plots.\n",
      "Unable to save pareto figure.\n",
      "=========== Epoch 00026 ===========\n",
      "-> Time 451.85 s\n",
      "\n",
      "Overall best  at R=0.558227\n",
      "-> Raw expression : \n",
      "                                      0.5\n",
      "⎛   ⎛     Er     ⎞                   ⎞   \n",
      "⎜cos⎜────────────⎟⋅1.0⋅Er⋅M + c₀₀⋅rou⎟   \n",
      "⎜   ⎜         0.5⎟                   ⎟   \n",
      "⎜   ⎜ ⎛Er⋅rou⎞   ⎟                   ⎟   \n",
      "⎜   ⎜-⎜──────⎟   ⎟                   ⎟   \n",
      "⎝   ⎝ ⎝ 1.0  ⎠   ⎠                   ⎠   \n",
      "\n",
      "Best of epoch at R=0.558227\n",
      "-> Raw expression : \n",
      "                                      0.5\n",
      "⎛   ⎛     Er     ⎞                   ⎞   \n",
      "⎜cos⎜────────────⎟⋅1.0⋅Er⋅M + c₀₀⋅rou⎟   \n",
      "⎜   ⎜         0.5⎟                   ⎟   \n",
      "⎜   ⎜ ⎛Er⋅rou⎞   ⎟                   ⎟   \n",
      "⎜   ⎜-⎜──────⎟   ⎟                   ⎟   \n",
      "⎝   ⎝ ⎝ 1.0  ⎠   ⎠                   ⎠   \n",
      "\n",
      "\n"
     ]
    },
    {
     "name": "stderr",
     "output_type": "stream",
     "text": [
      "100%|██████████| 10000/10000 [05:51<00:00, 28.48it/s]\n",
      "100%|██████████| 10000/10000 [00:01<00:00, 5320.94it/s]\n"
     ]
    },
    {
     "name": "stdout",
     "output_type": "stream",
     "text": [
      "Unable to make visualisation plots.\n",
      "Unable to save pareto figure.\n",
      "=========== Epoch 00027 ===========\n",
      "-> Time 386.38 s\n",
      "\n",
      "Overall best  at R=0.558227\n",
      "-> Raw expression : \n",
      "                                      0.5\n",
      "⎛   ⎛     Er     ⎞                   ⎞   \n",
      "⎜cos⎜────────────⎟⋅1.0⋅Er⋅M + c₀₀⋅rou⎟   \n",
      "⎜   ⎜         0.5⎟                   ⎟   \n",
      "⎜   ⎜ ⎛Er⋅rou⎞   ⎟                   ⎟   \n",
      "⎜   ⎜-⎜──────⎟   ⎟                   ⎟   \n",
      "⎝   ⎝ ⎝ 1.0  ⎠   ⎠                   ⎠   \n",
      "\n",
      "Best of epoch at R=0.546183\n",
      "-> Raw expression : \n",
      "                 0.5\n",
      "⎛              2⎞   \n",
      "⎜Er⋅c₀₀   ⎛c₀₀⎞ ⎟   \n",
      "⎜────── + ⎜───⎟ ⎟   \n",
      "⎝ 1.0     ⎝1.0⎠ ⎠   \n",
      "\n",
      "\n"
     ]
    },
    {
     "name": "stderr",
     "output_type": "stream",
     "text": [
      "100%|██████████| 10000/10000 [05:21<00:00, 31.15it/s]\n",
      "100%|██████████| 10000/10000 [00:01<00:00, 7614.46it/s]\n"
     ]
    },
    {
     "name": "stdout",
     "output_type": "stream",
     "text": [
      "Unable to make visualisation plots.\n",
      "Unable to save pareto figure.\n",
      "=========== Epoch 00028 ===========\n",
      "-> Time 353.25 s\n",
      "\n",
      "Overall best  at R=0.558227\n",
      "-> Raw expression : \n",
      "                                      0.5\n",
      "⎛   ⎛     Er     ⎞                   ⎞   \n",
      "⎜cos⎜────────────⎟⋅1.0⋅Er⋅M + c₀₀⋅rou⎟   \n",
      "⎜   ⎜         0.5⎟                   ⎟   \n",
      "⎜   ⎜ ⎛Er⋅rou⎞   ⎟                   ⎟   \n",
      "⎜   ⎜-⎜──────⎟   ⎟                   ⎟   \n",
      "⎝   ⎝ ⎝ 1.0  ⎠   ⎠                   ⎠   \n",
      "\n",
      "Best of epoch at R=0.546341\n",
      "-> Raw expression : \n",
      "      ⎛1.0⎞    ⎛c₀₀⎞      \n",
      "Er⋅cos⎜───⎟⋅cos⎜───⎟ + c₀₀\n",
      "      ⎝1.0⎠    ⎝rou⎠      \n",
      "\n",
      "\n"
     ]
    },
    {
     "name": "stderr",
     "output_type": "stream",
     "text": [
      "100%|██████████| 10000/10000 [05:15<00:00, 31.67it/s]\n",
      "100%|██████████| 10000/10000 [00:01<00:00, 7705.15it/s]\n"
     ]
    },
    {
     "name": "stdout",
     "output_type": "stream",
     "text": [
      "Unable to make visualisation plots.\n",
      "Unable to save pareto figure.\n",
      "=========== Epoch 00029 ===========\n",
      "-> Time 351.71 s\n",
      "\n",
      "Overall best  at R=0.558227\n",
      "-> Raw expression : \n",
      "                                      0.5\n",
      "⎛   ⎛     Er     ⎞                   ⎞   \n",
      "⎜cos⎜────────────⎟⋅1.0⋅Er⋅M + c₀₀⋅rou⎟   \n",
      "⎜   ⎜         0.5⎟                   ⎟   \n",
      "⎜   ⎜ ⎛Er⋅rou⎞   ⎟                   ⎟   \n",
      "⎜   ⎜-⎜──────⎟   ⎟                   ⎟   \n",
      "⎝   ⎝ ⎝ 1.0  ⎠   ⎠                   ⎠   \n",
      "\n",
      "Best of epoch at R=0.546183\n",
      "-> Raw expression : \n",
      "               0.5\n",
      "⎛            2⎞   \n",
      "⎝Er⋅c₀₀ + c₀₀ ⎠   \n",
      "\n",
      "\n"
     ]
    },
    {
     "name": "stderr",
     "output_type": "stream",
     "text": [
      "100%|██████████| 10000/10000 [04:37<00:00, 36.02it/s]\n",
      "100%|██████████| 10000/10000 [00:01<00:00, 7806.72it/s]\n"
     ]
    },
    {
     "name": "stdout",
     "output_type": "stream",
     "text": [
      "Unable to make visualisation plots.\n",
      "Unable to save pareto figure.\n",
      "=========== Epoch 00030 ===========\n",
      "-> Time 308.43 s\n",
      "\n",
      "Overall best  at R=0.558227\n",
      "-> Raw expression : \n",
      "                                      0.5\n",
      "⎛   ⎛     Er     ⎞                   ⎞   \n",
      "⎜cos⎜────────────⎟⋅1.0⋅Er⋅M + c₀₀⋅rou⎟   \n",
      "⎜   ⎜         0.5⎟                   ⎟   \n",
      "⎜   ⎜ ⎛Er⋅rou⎞   ⎟                   ⎟   \n",
      "⎜   ⎜-⎜──────⎟   ⎟                   ⎟   \n",
      "⎝   ⎝ ⎝ 1.0  ⎠   ⎠                   ⎠   \n",
      "\n",
      "Best of epoch at R=0.552510\n",
      "-> Raw expression : \n",
      "              0.5\n",
      "(M⋅(Er + c₀₀))   \n",
      "\n",
      "\n"
     ]
    },
    {
     "name": "stderr",
     "output_type": "stream",
     "text": [
      "100%|██████████| 10000/10000 [04:21<00:00, 38.29it/s]\n",
      "100%|██████████| 10000/10000 [00:01<00:00, 7689.21it/s]\n"
     ]
    },
    {
     "name": "stdout",
     "output_type": "stream",
     "text": [
      "Unable to make visualisation plots.\n",
      "Unable to save pareto figure.\n",
      "=========== Epoch 00031 ===========\n",
      "-> Time 291.36 s\n",
      "\n",
      "Overall best  at R=0.558227\n",
      "-> Raw expression : \n",
      "                                      0.5\n",
      "⎛   ⎛     Er     ⎞                   ⎞   \n",
      "⎜cos⎜────────────⎟⋅1.0⋅Er⋅M + c₀₀⋅rou⎟   \n",
      "⎜   ⎜         0.5⎟                   ⎟   \n",
      "⎜   ⎜ ⎛Er⋅rou⎞   ⎟                   ⎟   \n",
      "⎜   ⎜-⎜──────⎟   ⎟                   ⎟   \n",
      "⎝   ⎝ ⎝ 1.0  ⎠   ⎠                   ⎠   \n",
      "\n",
      "Best of epoch at R=0.555885\n",
      "-> Raw expression : \n",
      "        ⎛ 1 ⎞               0.5\n",
      "- Er⋅cos⎜───⎟ + Er + (M⋅c₀₀)   \n",
      "        ⎝1.0⎠                  \n",
      "\n",
      "\n"
     ]
    },
    {
     "name": "stderr",
     "output_type": "stream",
     "text": [
      "100%|██████████| 10000/10000 [04:48<00:00, 34.63it/s]\n",
      "100%|██████████| 10000/10000 [00:01<00:00, 6459.26it/s]\n"
     ]
    },
    {
     "name": "stdout",
     "output_type": "stream",
     "text": [
      "Unable to make visualisation plots.\n",
      "Unable to save pareto figure.\n",
      "=========== Epoch 00032 ===========\n",
      "-> Time 321.65 s\n",
      "\n",
      "Overall best  at R=0.558227\n",
      "-> Raw expression : \n",
      "                                      0.5\n",
      "⎛   ⎛     Er     ⎞                   ⎞   \n",
      "⎜cos⎜────────────⎟⋅1.0⋅Er⋅M + c₀₀⋅rou⎟   \n",
      "⎜   ⎜         0.5⎟                   ⎟   \n",
      "⎜   ⎜ ⎛Er⋅rou⎞   ⎟                   ⎟   \n",
      "⎜   ⎜-⎜──────⎟   ⎟                   ⎟   \n",
      "⎝   ⎝ ⎝ 1.0  ⎠   ⎠                   ⎠   \n",
      "\n",
      "Best of epoch at R=0.551929\n",
      "-> Raw expression : \n",
      "      Er          \n",
      "     ───          \n",
      "     c₀₀          \n",
      "c₀₀⋅ℯ   ⋅cos(-1.0)\n",
      "\n",
      "\n"
     ]
    },
    {
     "name": "stderr",
     "output_type": "stream",
     "text": [
      "100%|██████████| 10000/10000 [04:38<00:00, 35.91it/s]\n",
      "100%|██████████| 10000/10000 [00:01<00:00, 6735.86it/s]\n"
     ]
    },
    {
     "name": "stdout",
     "output_type": "stream",
     "text": [
      "Unable to make visualisation plots.\n",
      "Unable to save pareto figure.\n",
      "=========== Epoch 00033 ===========\n",
      "-> Time 311.70 s\n",
      "\n",
      "Overall best  at R=0.565674\n",
      "-> Raw expression : \n",
      "                               0.5\n",
      "⎛    ⎛              c₀₀      ⎞⎞   \n",
      "⎜rou⋅⎜Er⋅sin(1.0) + ─── + c₀₀⎟⎟   \n",
      "⎝    ⎝              1.0      ⎠⎠   \n",
      "\n",
      "Best of epoch at R=0.565674\n",
      "-> Raw expression : \n",
      "                               0.5\n",
      "⎛    ⎛              c₀₀      ⎞⎞   \n",
      "⎜rou⋅⎜Er⋅sin(1.0) + ─── + c₀₀⎟⎟   \n",
      "⎝    ⎝              1.0      ⎠⎠   \n",
      "\n",
      "\n"
     ]
    },
    {
     "name": "stderr",
     "output_type": "stream",
     "text": [
      "100%|██████████| 10000/10000 [04:27<00:00, 37.37it/s]\n",
      "100%|██████████| 10000/10000 [00:01<00:00, 6272.87it/s]\n"
     ]
    },
    {
     "name": "stdout",
     "output_type": "stream",
     "text": [
      "Unable to make visualisation plots.\n",
      "Unable to save pareto figure.\n",
      "=========== Epoch 00034 ===========\n",
      "-> Time 300.90 s\n",
      "\n",
      "Overall best  at R=0.565674\n",
      "-> Raw expression : \n",
      "                               0.5\n",
      "⎛    ⎛              c₀₀      ⎞⎞   \n",
      "⎜rou⋅⎜Er⋅sin(1.0) + ─── + c₀₀⎟⎟   \n",
      "⎝    ⎝              1.0      ⎠⎠   \n",
      "\n",
      "Best of epoch at R=0.558395\n",
      "-> Raw expression : \n",
      "                 0.5\n",
      "(-rou⋅(Er + c₀₀))   \n",
      "\n",
      "\n"
     ]
    },
    {
     "name": "stderr",
     "output_type": "stream",
     "text": [
      "100%|██████████| 10000/10000 [04:08<00:00, 40.31it/s]\n",
      "100%|██████████| 10000/10000 [00:01<00:00, 8422.27it/s]\n"
     ]
    },
    {
     "name": "stdout",
     "output_type": "stream",
     "text": [
      "Unable to make visualisation plots.\n",
      "Unable to save pareto figure.\n",
      "=========== Epoch 00035 ===========\n",
      "-> Time 278.50 s\n",
      "\n",
      "Overall best  at R=0.565674\n",
      "-> Raw expression : \n",
      "                               0.5\n",
      "⎛    ⎛              c₀₀      ⎞⎞   \n",
      "⎜rou⋅⎜Er⋅sin(1.0) + ─── + c₀₀⎟⎟   \n",
      "⎝    ⎝              1.0      ⎠⎠   \n",
      "\n",
      "Best of epoch at R=0.557140\n",
      "-> Raw expression : \n",
      "                              0.5\n",
      "⎛          ⎛   0.5⎞          ⎞   \n",
      "⎝Er⋅rou⋅cos⎝1.0   ⎠ + c₀₀⋅rou⎠   \n",
      "\n",
      "\n"
     ]
    },
    {
     "name": "stderr",
     "output_type": "stream",
     "text": [
      "100%|██████████| 10000/10000 [03:12<00:00, 51.88it/s]\n",
      "100%|██████████| 10000/10000 [00:01<00:00, 8638.66it/s]\n"
     ]
    },
    {
     "name": "stdout",
     "output_type": "stream",
     "text": [
      "Unable to make visualisation plots.\n",
      "Unable to save pareto figure.\n",
      "=========== Epoch 00036 ===========\n",
      "-> Time 222.88 s\n",
      "\n",
      "Overall best  at R=0.565674\n",
      "-> Raw expression : \n",
      "                               0.5\n",
      "⎛    ⎛              c₀₀      ⎞⎞   \n",
      "⎜rou⋅⎜Er⋅sin(1.0) + ─── + c₀₀⎟⎟   \n",
      "⎝    ⎝              1.0      ⎠⎠   \n",
      "\n",
      "Best of epoch at R=0.554219\n",
      "-> Raw expression : \n",
      "      c₀₀       \n",
      "────────────────\n",
      "    ⎛    1     ⎞\n",
      " cos⎜──────────⎟\n",
      "    ⎜⎛  c₀₀   ⎞⎟\n",
      "    ⎜⎜────────⎟⎟\n",
      "    ⎝⎝Er + c₀₀⎠⎠\n",
      "ℯ               \n",
      "\n",
      "\n"
     ]
    },
    {
     "name": "stderr",
     "output_type": "stream",
     "text": [
      "100%|██████████| 10000/10000 [03:11<00:00, 52.16it/s]\n",
      "100%|██████████| 10000/10000 [00:01<00:00, 8438.61it/s]\n"
     ]
    },
    {
     "name": "stdout",
     "output_type": "stream",
     "text": [
      "Unable to make visualisation plots.\n",
      "Unable to save pareto figure.\n",
      "=========== Epoch 00037 ===========\n",
      "-> Time 221.93 s\n",
      "\n",
      "Overall best  at R=0.565674\n",
      "-> Raw expression : \n",
      "                               0.5\n",
      "⎛    ⎛              c₀₀      ⎞⎞   \n",
      "⎜rou⋅⎜Er⋅sin(1.0) + ─── + c₀₀⎟⎟   \n",
      "⎝    ⎝              1.0      ⎠⎠   \n",
      "\n",
      "Best of epoch at R=0.546183\n",
      "-> Raw expression : \n",
      "                   0.5\n",
      "(-c₀₀⋅(--Er + c₀₀))   \n",
      "\n",
      "\n"
     ]
    },
    {
     "name": "stderr",
     "output_type": "stream",
     "text": [
      "100%|██████████| 10000/10000 [03:06<00:00, 53.67it/s]\n",
      "100%|██████████| 10000/10000 [00:01<00:00, 8803.80it/s]\n"
     ]
    },
    {
     "name": "stdout",
     "output_type": "stream",
     "text": [
      "Unable to make visualisation plots.\n",
      "Unable to save pareto figure.\n",
      "=========== Epoch 00038 ===========\n",
      "-> Time 217.04 s\n",
      "\n",
      "Overall best  at R=0.565674\n",
      "-> Raw expression : \n",
      "                               0.5\n",
      "⎛    ⎛              c₀₀      ⎞⎞   \n",
      "⎜rou⋅⎜Er⋅sin(1.0) + ─── + c₀₀⎟⎟   \n",
      "⎝    ⎝              1.0      ⎠⎠   \n",
      "\n",
      "Best of epoch at R=0.546183\n",
      "-> Raw expression : \n",
      "                0.5\n",
      "(c₀₀⋅(Er + c₀₀))   \n",
      "\n",
      "\n"
     ]
    },
    {
     "name": "stderr",
     "output_type": "stream",
     "text": [
      "100%|██████████| 10000/10000 [02:56<00:00, 56.57it/s]\n",
      "100%|██████████| 10000/10000 [00:01<00:00, 8738.57it/s]\n"
     ]
    },
    {
     "name": "stdout",
     "output_type": "stream",
     "text": [
      "Unable to make visualisation plots.\n",
      "Unable to save pareto figure.\n",
      "=========== Epoch 00039 ===========\n",
      "-> Time 207.31 s\n",
      "\n",
      "Overall best  at R=0.565674\n",
      "-> Raw expression : \n",
      "                               0.5\n",
      "⎛    ⎛              c₀₀      ⎞⎞   \n",
      "⎜rou⋅⎜Er⋅sin(1.0) + ─── + c₀₀⎟⎟   \n",
      "⎝    ⎝              1.0      ⎠⎠   \n",
      "\n",
      "Best of epoch at R=0.546183\n",
      "-> Raw expression : \n",
      "               0.5\n",
      "⎛            2⎞   \n",
      "⎝Er⋅c₀₀ + c₀₀ ⎠   \n",
      "\n",
      "\n"
     ]
    },
    {
     "name": "stderr",
     "output_type": "stream",
     "text": [
      "100%|██████████| 10000/10000 [02:52<00:00, 57.86it/s]\n",
      "100%|██████████| 10000/10000 [00:01<00:00, 6680.21it/s]\n"
     ]
    },
    {
     "name": "stdout",
     "output_type": "stream",
     "text": [
      "Unable to make visualisation plots.\n",
      "Unable to save pareto figure.\n",
      "=========== Epoch 00040 ===========\n",
      "-> Time 204.16 s\n",
      "\n",
      "Overall best  at R=0.565674\n",
      "-> Raw expression : \n",
      "                               0.5\n",
      "⎛    ⎛              c₀₀      ⎞⎞   \n",
      "⎜rou⋅⎜Er⋅sin(1.0) + ─── + c₀₀⎟⎟   \n",
      "⎝    ⎝              1.0      ⎠⎠   \n",
      "\n",
      "Best of epoch at R=0.546183\n",
      "-> Raw expression : \n",
      "                              0.5\n",
      "⎛     ⎛            2⎞        ⎞   \n",
      "⎝-1.0⋅⎝Er⋅c₀₀ + c₀₀ ⎠⋅1.0⋅1.0⎠   \n",
      "\n",
      "\n"
     ]
    },
    {
     "name": "stderr",
     "output_type": "stream",
     "text": [
      "100%|██████████| 10000/10000 [02:51<00:00, 58.15it/s]\n",
      "100%|██████████| 10000/10000 [00:01<00:00, 7353.69it/s]\n"
     ]
    },
    {
     "name": "stdout",
     "output_type": "stream",
     "text": [
      "Unable to make visualisation plots.\n",
      "Unable to save pareto figure.\n",
      "=========== Epoch 00041 ===========\n",
      "-> Time 202.49 s\n",
      "\n",
      "Overall best  at R=0.565674\n",
      "-> Raw expression : \n",
      "                               0.5\n",
      "⎛    ⎛              c₀₀      ⎞⎞   \n",
      "⎜rou⋅⎜Er⋅sin(1.0) + ─── + c₀₀⎟⎟   \n",
      "⎝    ⎝              1.0      ⎠⎠   \n",
      "\n",
      "Best of epoch at R=0.546183\n",
      "-> Raw expression : \n",
      "                 0.5\n",
      "(-c₀₀⋅(Er + c₀₀))   \n",
      "\n",
      "\n"
     ]
    },
    {
     "name": "stderr",
     "output_type": "stream",
     "text": [
      "100%|██████████| 10000/10000 [02:55<00:00, 56.83it/s]\n",
      "100%|██████████| 10000/10000 [00:01<00:00, 8761.90it/s]\n"
     ]
    },
    {
     "name": "stdout",
     "output_type": "stream",
     "text": [
      "Unable to make visualisation plots.\n",
      "Unable to save pareto figure.\n",
      "=========== Epoch 00042 ===========\n",
      "-> Time 206.31 s\n",
      "\n",
      "Overall best  at R=0.565674\n",
      "-> Raw expression : \n",
      "                               0.5\n",
      "⎛    ⎛              c₀₀      ⎞⎞   \n",
      "⎜rou⋅⎜Er⋅sin(1.0) + ─── + c₀₀⎟⎟   \n",
      "⎝    ⎝              1.0      ⎠⎠   \n",
      "\n",
      "Best of epoch at R=0.546183\n",
      "-> Raw expression : \n",
      "            1            \n",
      "─────────────────────────\n",
      "                      0.5\n",
      "⎛         1          ⎞   \n",
      "⎜────────────────────⎟   \n",
      "⎜                   2⎟   \n",
      "⎜         ⎛1.0⋅-c₀₀⎞ ⎟   \n",
      "⎜Er⋅c₀₀ + ⎜────────⎟ ⎟   \n",
      "⎝         ⎝  1.0   ⎠ ⎠   \n",
      "\n",
      "\n"
     ]
    },
    {
     "name": "stderr",
     "output_type": "stream",
     "text": [
      "100%|██████████| 10000/10000 [03:06<00:00, 53.59it/s]\n",
      "100%|██████████| 10000/10000 [00:01<00:00, 8530.83it/s]\n"
     ]
    },
    {
     "name": "stdout",
     "output_type": "stream",
     "text": [
      "Unable to make visualisation plots.\n",
      "Unable to save pareto figure.\n",
      "=========== Epoch 00043 ===========\n",
      "-> Time 216.71 s\n",
      "\n",
      "Overall best  at R=0.565674\n",
      "-> Raw expression : \n",
      "                               0.5\n",
      "⎛    ⎛              c₀₀      ⎞⎞   \n",
      "⎜rou⋅⎜Er⋅sin(1.0) + ─── + c₀₀⎟⎟   \n",
      "⎝    ⎝              1.0      ⎠⎠   \n",
      "\n",
      "Best of epoch at R=0.551556\n",
      "-> Raw expression : \n",
      "       c₀₀       \n",
      "─────────────────\n",
      "⎛c₀₀⋅(-Er + c₀₀)⎞\n",
      "⎜───────────────⎟\n",
      "⎜    ⎛ c₀₀  ⎞   ⎟\n",
      "⎜    ⎜──────⎟   ⎟\n",
      "⎜    ⎜⎛ 1.0⎞⎟   ⎟\n",
      "⎜    ⎜⎜ℯ   ⎟⎟   ⎟\n",
      "⎜    ⎜⎜────⎟⎟   ⎟\n",
      "⎝    ⎝⎝c₀₀ ⎠⎠   ⎠\n",
      "\n",
      "\n"
     ]
    },
    {
     "name": "stderr",
     "output_type": "stream",
     "text": [
      "100%|██████████| 10000/10000 [02:56<00:00, 56.50it/s]\n",
      "100%|██████████| 10000/10000 [00:01<00:00, 6661.13it/s]\n"
     ]
    },
    {
     "name": "stdout",
     "output_type": "stream",
     "text": [
      "Unable to make visualisation plots.\n",
      "Unable to save pareto figure.\n",
      "=========== Epoch 00044 ===========\n",
      "-> Time 207.79 s\n",
      "\n",
      "Overall best  at R=0.565674\n",
      "-> Raw expression : \n",
      "                               0.5\n",
      "⎛    ⎛              c₀₀      ⎞⎞   \n",
      "⎜rou⋅⎜Er⋅sin(1.0) + ─── + c₀₀⎟⎟   \n",
      "⎝    ⎝              1.0      ⎠⎠   \n",
      "\n",
      "Best of epoch at R=0.558395\n",
      "-> Raw expression : \n",
      "                0.5\n",
      "(rou⋅(Er + c₀₀))   \n",
      "\n",
      "\n"
     ]
    },
    {
     "name": "stderr",
     "output_type": "stream",
     "text": [
      "100%|██████████| 10000/10000 [02:46<00:00, 59.89it/s]\n",
      "100%|██████████| 10000/10000 [00:01<00:00, 8211.05it/s]\n"
     ]
    },
    {
     "name": "stdout",
     "output_type": "stream",
     "text": [
      "Unable to make visualisation plots.\n",
      "Unable to save pareto figure.\n",
      "=========== Epoch 00045 ===========\n",
      "-> Time 197.56 s\n",
      "\n",
      "Overall best  at R=0.565674\n",
      "-> Raw expression : \n",
      "                               0.5\n",
      "⎛    ⎛              c₀₀      ⎞⎞   \n",
      "⎜rou⋅⎜Er⋅sin(1.0) + ─── + c₀₀⎟⎟   \n",
      "⎝    ⎝              1.0      ⎠⎠   \n",
      "\n",
      "Best of epoch at R=0.558395\n",
      "-> Raw expression : \n",
      "                    0.5\n",
      "(rou⋅(Er + 1.0⋅c₀₀))   \n",
      "\n",
      "\n"
     ]
    },
    {
     "name": "stderr",
     "output_type": "stream",
     "text": [
      "100%|██████████| 10000/10000 [03:00<00:00, 55.25it/s]\n",
      "100%|██████████| 10000/10000 [00:01<00:00, 8419.08it/s]\n"
     ]
    },
    {
     "name": "stdout",
     "output_type": "stream",
     "text": [
      "Unable to make visualisation plots.\n",
      "Unable to save pareto figure.\n",
      "=========== Epoch 00046 ===========\n",
      "-> Time 211.35 s\n",
      "\n",
      "Overall best  at R=0.565674\n",
      "-> Raw expression : \n",
      "                               0.5\n",
      "⎛    ⎛              c₀₀      ⎞⎞   \n",
      "⎜rou⋅⎜Er⋅sin(1.0) + ─── + c₀₀⎟⎟   \n",
      "⎝    ⎝              1.0      ⎠⎠   \n",
      "\n",
      "Best of epoch at R=0.554219\n",
      "-> Raw expression : \n",
      "          ⎛-(-Er + c₀₀) ⎞\n",
      "      -cos⎜─────────────⎟\n",
      "          ⎝     c₀₀     ⎠\n",
      "-c₀₀⋅ℯ                   \n",
      "\n",
      "\n"
     ]
    },
    {
     "name": "stderr",
     "output_type": "stream",
     "text": [
      "100%|██████████| 10000/10000 [02:53<00:00, 57.66it/s]\n",
      "100%|██████████| 10000/10000 [00:01<00:00, 6496.35it/s]\n"
     ]
    },
    {
     "name": "stdout",
     "output_type": "stream",
     "text": [
      "Unable to make visualisation plots.\n",
      "Unable to save pareto figure.\n",
      "=========== Epoch 00047 ===========\n",
      "-> Time 204.06 s\n",
      "\n",
      "Overall best  at R=0.565674\n",
      "-> Raw expression : \n",
      "                               0.5\n",
      "⎛    ⎛              c₀₀      ⎞⎞   \n",
      "⎜rou⋅⎜Er⋅sin(1.0) + ─── + c₀₀⎟⎟   \n",
      "⎝    ⎝              1.0      ⎠⎠   \n",
      "\n",
      "Best of epoch at R=0.554673\n",
      "-> Raw expression : \n",
      "                                   0.5\n",
      "(M⋅(Er⋅1.0 + c₀₀⋅(1.0 - cos(1.0))))   \n",
      "\n",
      "\n"
     ]
    },
    {
     "name": "stderr",
     "output_type": "stream",
     "text": [
      "100%|██████████| 10000/10000 [02:55<00:00, 56.84it/s]\n",
      "100%|██████████| 10000/10000 [00:01<00:00, 7440.82it/s]\n"
     ]
    },
    {
     "name": "stdout",
     "output_type": "stream",
     "text": [
      "Unable to make visualisation plots.\n",
      "Unable to save pareto figure.\n",
      "=========== Epoch 00048 ===========\n",
      "-> Time 206.37 s\n",
      "\n",
      "Overall best  at R=0.565674\n",
      "-> Raw expression : \n",
      "                               0.5\n",
      "⎛    ⎛              c₀₀      ⎞⎞   \n",
      "⎜rou⋅⎜Er⋅sin(1.0) + ─── + c₀₀⎟⎟   \n",
      "⎝    ⎝              1.0      ⎠⎠   \n",
      "\n",
      "Best of epoch at R=0.558863\n",
      "-> Raw expression : \n",
      "                   0.5\n",
      "(rou⋅(-Er - 3⋅c₀₀))   \n",
      "\n",
      "\n"
     ]
    },
    {
     "name": "stderr",
     "output_type": "stream",
     "text": [
      "100%|██████████| 10000/10000 [02:53<00:00, 57.71it/s]\n",
      "100%|██████████| 10000/10000 [00:01<00:00, 8001.88it/s]\n"
     ]
    },
    {
     "name": "stdout",
     "output_type": "stream",
     "text": [
      "Unable to make visualisation plots.\n",
      "Unable to save pareto figure.\n",
      "=========== Epoch 00049 ===========\n",
      "-> Time 203.37 s\n",
      "\n",
      "Overall best  at R=0.565674\n",
      "-> Raw expression : \n",
      "                               0.5\n",
      "⎛    ⎛              c₀₀      ⎞⎞   \n",
      "⎜rou⋅⎜Er⋅sin(1.0) + ─── + c₀₀⎟⎟   \n",
      "⎝    ⎝              1.0      ⎠⎠   \n",
      "\n",
      "Best of epoch at R=0.558395\n",
      "-> Raw expression : \n",
      "                 0.5\n",
      "(-rou⋅(Er + c₀₀))   \n",
      "\n",
      "\n"
     ]
    },
    {
     "name": "stderr",
     "output_type": "stream",
     "text": [
      "100%|██████████| 10000/10000 [02:59<00:00, 55.57it/s]\n",
      "100%|██████████| 10000/10000 [00:01<00:00, 8094.69it/s]\n"
     ]
    },
    {
     "name": "stdout",
     "output_type": "stream",
     "text": [
      "Unable to make visualisation plots.\n",
      "Unable to save pareto figure.\n",
      "=========== Epoch 00050 ===========\n",
      "-> Time 210.16 s\n",
      "\n",
      "Overall best  at R=0.565674\n",
      "-> Raw expression : \n",
      "                               0.5\n",
      "⎛    ⎛              c₀₀      ⎞⎞   \n",
      "⎜rou⋅⎜Er⋅sin(1.0) + ─── + c₀₀⎟⎟   \n",
      "⎝    ⎝              1.0      ⎠⎠   \n",
      "\n",
      "Best of epoch at R=0.558395\n",
      "-> Raw expression : \n",
      "                  0.5\n",
      "(-rou⋅(-Er - c₀₀))   \n",
      "\n",
      "\n"
     ]
    },
    {
     "name": "stderr",
     "output_type": "stream",
     "text": [
      "100%|██████████| 10000/10000 [02:59<00:00, 55.65it/s]\n",
      "100%|██████████| 10000/10000 [00:01<00:00, 7105.78it/s]\n"
     ]
    },
    {
     "name": "stdout",
     "output_type": "stream",
     "text": [
      "Unable to make visualisation plots.\n",
      "Unable to save pareto figure.\n",
      "=========== Epoch 00051 ===========\n",
      "-> Time 210.14 s\n",
      "\n",
      "Overall best  at R=0.565674\n",
      "-> Raw expression : \n",
      "                               0.5\n",
      "⎛    ⎛              c₀₀      ⎞⎞   \n",
      "⎜rou⋅⎜Er⋅sin(1.0) + ─── + c₀₀⎟⎟   \n",
      "⎝    ⎝              1.0      ⎠⎠   \n",
      "\n",
      "Best of epoch at R=0.546183\n",
      "-> Raw expression : \n",
      "                    0.5\n",
      "(c₀₀⋅(1.0⋅Er + c₀₀))   \n",
      "\n",
      "\n"
     ]
    },
    {
     "name": "stderr",
     "output_type": "stream",
     "text": [
      "100%|██████████| 10000/10000 [03:08<00:00, 53.07it/s]\n",
      "100%|██████████| 10000/10000 [00:01<00:00, 7770.30it/s]\n"
     ]
    },
    {
     "name": "stdout",
     "output_type": "stream",
     "text": [
      "Unable to make visualisation plots.\n",
      "Unable to save pareto figure.\n",
      "=========== Epoch 00052 ===========\n",
      "-> Time 218.87 s\n",
      "\n",
      "Overall best  at R=0.565674\n",
      "-> Raw expression : \n",
      "                               0.5\n",
      "⎛    ⎛              c₀₀      ⎞⎞   \n",
      "⎜rou⋅⎜Er⋅sin(1.0) + ─── + c₀₀⎟⎟   \n",
      "⎝    ⎝              1.0      ⎠⎠   \n",
      "\n",
      "Best of epoch at R=0.552949\n",
      "-> Raw expression : \n",
      "                           2\n",
      "⎛           c₀₀           ⎞ \n",
      "⎜─────────────────────────⎟ \n",
      "⎜⎛                   1   ⎞⎟ \n",
      "⎜⎜Er + Er - c₀₀ - ───────⎟⎟ \n",
      "⎜⎜                 1     ⎟⎟ \n",
      "⎜⎜                ───⋅1.0⎟⎟ \n",
      "⎜⎜                c₀₀    ⎟⎟ \n",
      "⎜⎜───────────────────────⎟⎟ \n",
      "⎜⎜            0.5        ⎟⎟ \n",
      "⎝⎝         c₀₀           ⎠⎠ \n",
      "\n",
      "\n"
     ]
    },
    {
     "name": "stderr",
     "output_type": "stream",
     "text": [
      "100%|██████████| 10000/10000 [03:03<00:00, 54.36it/s]\n",
      "100%|██████████| 10000/10000 [00:01<00:00, 7530.98it/s]\n"
     ]
    },
    {
     "name": "stdout",
     "output_type": "stream",
     "text": [
      "Unable to make visualisation plots.\n",
      "Unable to save pareto figure.\n",
      "=========== Epoch 00053 ===========\n",
      "-> Time 214.15 s\n",
      "\n",
      "Overall best  at R=0.565674\n",
      "-> Raw expression : \n",
      "                               0.5\n",
      "⎛    ⎛              c₀₀      ⎞⎞   \n",
      "⎜rou⋅⎜Er⋅sin(1.0) + ─── + c₀₀⎟⎟   \n",
      "⎝    ⎝              1.0      ⎠⎠   \n",
      "\n",
      "Best of epoch at R=0.554673\n",
      "-> Raw expression : \n",
      "                0.5\n",
      "(M⋅(Er - 3⋅c₀₀))   \n",
      "\n",
      "\n"
     ]
    },
    {
     "name": "stderr",
     "output_type": "stream",
     "text": [
      "100%|██████████| 10000/10000 [03:10<00:00, 52.38it/s]\n",
      "100%|██████████| 10000/10000 [00:01<00:00, 7617.62it/s]\n"
     ]
    },
    {
     "name": "stdout",
     "output_type": "stream",
     "text": [
      "Unable to make visualisation plots.\n",
      "Unable to save pareto figure.\n",
      "=========== Epoch 00054 ===========\n",
      "-> Time 221.00 s\n",
      "\n",
      "Overall best  at R=0.565674\n",
      "-> Raw expression : \n",
      "                               0.5\n",
      "⎛    ⎛              c₀₀      ⎞⎞   \n",
      "⎜rou⋅⎜Er⋅sin(1.0) + ─── + c₀₀⎟⎟   \n",
      "⎝    ⎝              1.0      ⎠⎠   \n",
      "\n",
      "Best of epoch at R=0.558863\n",
      "-> Raw expression : \n",
      "                                                 0.5\n",
      "⎛    ⎛           -1.0 + sin(log(1.0) + 1.0⋅1.0)⎞⎞   \n",
      "⎝rou⋅⎝Er - -c₀₀⋅ℯ                              ⎠⎠   \n",
      "\n",
      "\n"
     ]
    },
    {
     "name": "stderr",
     "output_type": "stream",
     "text": [
      "100%|██████████| 10000/10000 [03:22<00:00, 49.31it/s]\n",
      "100%|██████████| 10000/10000 [00:01<00:00, 7280.79it/s]\n"
     ]
    },
    {
     "name": "stdout",
     "output_type": "stream",
     "text": [
      "Unable to make visualisation plots.\n",
      "Unable to save pareto figure.\n",
      "=========== Epoch 00055 ===========\n",
      "-> Time 232.69 s\n",
      "\n",
      "Overall best  at R=0.565674\n",
      "-> Raw expression : \n",
      "                               0.5\n",
      "⎛    ⎛              c₀₀      ⎞⎞   \n",
      "⎜rou⋅⎜Er⋅sin(1.0) + ─── + c₀₀⎟⎟   \n",
      "⎝    ⎝              1.0      ⎠⎠   \n",
      "\n",
      "Best of epoch at R=0.554568\n",
      "-> Raw expression : \n",
      "                         0.5\n",
      "⎛  ⎛          cos(-4.0)⎞⎞   \n",
      "⎝M⋅⎝Er + c₀₀⋅ℯ         ⎠⎠   \n",
      "\n",
      "\n"
     ]
    },
    {
     "name": "stderr",
     "output_type": "stream",
     "text": [
      "100%|██████████| 10000/10000 [03:08<00:00, 52.96it/s]\n",
      "100%|██████████| 10000/10000 [00:01<00:00, 7443.63it/s]\n"
     ]
    },
    {
     "name": "stdout",
     "output_type": "stream",
     "text": [
      "Unable to make visualisation plots.\n",
      "Unable to save pareto figure.\n",
      "=========== Epoch 00056 ===========\n",
      "-> Time 218.75 s\n",
      "\n",
      "Overall best  at R=0.565738\n",
      "-> Raw expression : \n",
      "                                0.5\n",
      "⎛    ⎛   0.5                  ⎞⎞   \n",
      "⎝rou⋅⎝cos   (1.0)⋅Er⋅1.0 + c₀₀⎠⎠   \n",
      "\n",
      "Best of epoch at R=0.565738\n",
      "-> Raw expression : \n",
      "                                0.5\n",
      "⎛    ⎛   0.5                  ⎞⎞   \n",
      "⎝rou⋅⎝cos   (1.0)⋅Er⋅1.0 + c₀₀⎠⎠   \n",
      "\n",
      "\n"
     ]
    },
    {
     "name": "stderr",
     "output_type": "stream",
     "text": [
      "100%|██████████| 10000/10000 [03:07<00:00, 53.36it/s]\n",
      "100%|██████████| 10000/10000 [00:01<00:00, 7338.63it/s]\n"
     ]
    },
    {
     "name": "stdout",
     "output_type": "stream",
     "text": [
      "Unable to make visualisation plots.\n",
      "Unable to save pareto figure.\n",
      "=========== Epoch 00057 ===========\n",
      "-> Time 217.50 s\n",
      "\n",
      "Overall best  at R=0.565738\n",
      "-> Raw expression : \n",
      "                                0.5\n",
      "⎛    ⎛   0.5                  ⎞⎞   \n",
      "⎝rou⋅⎝cos   (1.0)⋅Er⋅1.0 + c₀₀⎠⎠   \n",
      "\n",
      "Best of epoch at R=0.558607\n",
      "-> Raw expression : \n",
      "                                      0.5\n",
      "⎛   ⎛                            0.5⎞⎞   \n",
      "⎝-M⋅⎝Er + c₀₀ + (Er⋅Er - c₀₀⋅c₀₀)   ⎠⎠   \n",
      "\n",
      "\n"
     ]
    },
    {
     "name": "stderr",
     "output_type": "stream",
     "text": [
      "100%|██████████| 10000/10000 [03:12<00:00, 52.00it/s]\n",
      "100%|██████████| 10000/10000 [00:01<00:00, 7107.94it/s]\n"
     ]
    },
    {
     "name": "stdout",
     "output_type": "stream",
     "text": [
      "Unable to make visualisation plots.\n",
      "Unable to save pareto figure.\n",
      "=========== Epoch 00058 ===========\n",
      "-> Time 222.33 s\n",
      "\n",
      "Overall best  at R=0.565738\n",
      "-> Raw expression : \n",
      "                                0.5\n",
      "⎛    ⎛   0.5                  ⎞⎞   \n",
      "⎝rou⋅⎝cos   (1.0)⋅Er⋅1.0 + c₀₀⎠⎠   \n",
      "\n",
      "Best of epoch at R=0.546183\n",
      "-> Raw expression : \n",
      "                        0.5\n",
      "⎛                1     ⎞   \n",
      "⎜c₀₀⋅1.0⋅1.0⋅──────────⎟   \n",
      "⎜            ⎛   1    ⎞⎟   \n",
      "⎜            ⎜────────⎟⎟   \n",
      "⎝            ⎝Er + c₀₀⎠⎠   \n",
      "\n",
      "\n"
     ]
    },
    {
     "name": "stderr",
     "output_type": "stream",
     "text": [
      "100%|██████████| 10000/10000 [03:08<00:00, 53.13it/s]\n",
      "100%|██████████| 10000/10000 [00:01<00:00, 6604.88it/s]\n"
     ]
    },
    {
     "name": "stdout",
     "output_type": "stream",
     "text": [
      "Unable to make visualisation plots.\n",
      "Unable to save pareto figure.\n",
      "=========== Epoch 00059 ===========\n",
      "-> Time 218.47 s\n",
      "\n",
      "Overall best  at R=0.565738\n",
      "-> Raw expression : \n",
      "                                0.5\n",
      "⎛    ⎛   0.5                  ⎞⎞   \n",
      "⎝rou⋅⎝cos   (1.0)⋅Er⋅1.0 + c₀₀⎠⎠   \n",
      "\n",
      "Best of epoch at R=0.547322\n",
      "-> Raw expression : \n",
      "                                               0.5\n",
      "⎛                                          0.5⎞   \n",
      "⎝(M⋅-(c₀₀ - (Er + Er))⋅(-Er⋅c₀₀ + c₀₀⋅c₀₀))   ⎠   \n",
      "\n",
      "\n"
     ]
    },
    {
     "name": "stderr",
     "output_type": "stream",
     "text": [
      "100%|██████████| 10000/10000 [03:21<00:00, 49.67it/s]\n",
      "100%|██████████| 10000/10000 [00:01<00:00, 6526.35it/s]\n"
     ]
    },
    {
     "name": "stdout",
     "output_type": "stream",
     "text": [
      "Unable to make visualisation plots.\n",
      "Unable to save pareto figure.\n",
      "=========== Epoch 00060 ===========\n",
      "-> Time 231.59 s\n",
      "\n",
      "Overall best  at R=0.565738\n",
      "-> Raw expression : \n",
      "                                0.5\n",
      "⎛    ⎛   0.5                  ⎞⎞   \n",
      "⎝rou⋅⎝cos   (1.0)⋅Er⋅1.0 + c₀₀⎠⎠   \n",
      "\n",
      "Best of epoch at R=0.565360\n",
      "-> Raw expression : \n",
      "                                        0.5\n",
      "(rou⋅(Er⋅-cos(1.0)⋅cos(1.0) + Er + c₀₀))   \n",
      "\n",
      "\n"
     ]
    },
    {
     "name": "stderr",
     "output_type": "stream",
     "text": [
      "100%|██████████| 10000/10000 [03:22<00:00, 49.44it/s]\n",
      "100%|██████████| 10000/10000 [00:01<00:00, 6801.53it/s]\n"
     ]
    },
    {
     "name": "stdout",
     "output_type": "stream",
     "text": [
      "Unable to make visualisation plots.\n",
      "Unable to save pareto figure.\n",
      "=========== Epoch 00061 ===========\n",
      "-> Time 232.34 s\n",
      "\n",
      "Overall best  at R=0.565738\n",
      "-> Raw expression : \n",
      "                                0.5\n",
      "⎛    ⎛   0.5                  ⎞⎞   \n",
      "⎝rou⋅⎝cos   (1.0)⋅Er⋅1.0 + c₀₀⎠⎠   \n",
      "\n",
      "Best of epoch at R=0.555210\n",
      "-> Raw expression : \n",
      "                             0.5\n",
      "(c₀₀⋅(Er⋅cos(1.0) + c₀₀ + r))   \n",
      "\n",
      "\n"
     ]
    },
    {
     "name": "stderr",
     "output_type": "stream",
     "text": [
      "100%|██████████| 10000/10000 [03:20<00:00, 49.90it/s]\n",
      "100%|██████████| 10000/10000 [00:01<00:00, 6467.02it/s]\n"
     ]
    },
    {
     "name": "stdout",
     "output_type": "stream",
     "text": [
      "Unable to make visualisation plots.\n",
      "Unable to save pareto figure.\n",
      "=========== Epoch 00062 ===========\n",
      "-> Time 230.23 s\n",
      "\n",
      "Overall best  at R=0.565738\n",
      "-> Raw expression : \n",
      "                                0.5\n",
      "⎛    ⎛   0.5                  ⎞⎞   \n",
      "⎝rou⋅⎝cos   (1.0)⋅Er⋅1.0 + c₀₀⎠⎠   \n",
      "\n",
      "Best of epoch at R=0.546183\n",
      "-> Raw expression : \n",
      "                        0.5\n",
      "(1.0⋅(Er⋅c₀₀ + c₀₀⋅c₀₀))   \n",
      "\n",
      "\n"
     ]
    },
    {
     "name": "stderr",
     "output_type": "stream",
     "text": [
      "100%|██████████| 10000/10000 [03:19<00:00, 50.05it/s]\n",
      "100%|██████████| 10000/10000 [00:01<00:00, 6467.49it/s]\n"
     ]
    },
    {
     "name": "stdout",
     "output_type": "stream",
     "text": [
      "Unable to make visualisation plots.\n",
      "Unable to save pareto figure.\n",
      "=========== Epoch 00063 ===========\n",
      "-> Time 229.74 s\n",
      "\n",
      "Overall best  at R=0.565738\n",
      "-> Raw expression : \n",
      "                                0.5\n",
      "⎛    ⎛   0.5                  ⎞⎞   \n",
      "⎝rou⋅⎝cos   (1.0)⋅Er⋅1.0 + c₀₀⎠⎠   \n",
      "\n",
      "Best of epoch at R=0.558863\n",
      "-> Raw expression : \n",
      "                         0.5\n",
      "(rou⋅(Er + c₀₀⋅sin(1.0)))   \n",
      "\n",
      "\n"
     ]
    },
    {
     "name": "stderr",
     "output_type": "stream",
     "text": [
      "100%|██████████| 10000/10000 [03:36<00:00, 46.27it/s]\n",
      "100%|██████████| 10000/10000 [00:01<00:00, 6149.82it/s]\n"
     ]
    },
    {
     "name": "stdout",
     "output_type": "stream",
     "text": [
      "Unable to make visualisation plots.\n",
      "Unable to save pareto figure.\n",
      "=========== Epoch 00064 ===========\n",
      "-> Time 245.67 s\n",
      "\n",
      "Overall best  at R=0.565738\n",
      "-> Raw expression : \n",
      "                                0.5\n",
      "⎛    ⎛   0.5                  ⎞⎞   \n",
      "⎝rou⋅⎝cos   (1.0)⋅Er⋅1.0 + c₀₀⎠⎠   \n",
      "\n",
      "Best of epoch at R=0.548301\n",
      "-> Raw expression : \n",
      "   ⎛   ⎛ 1.0        1     ⎞⎞\n",
      "log⎜cos⎜ℯ    + ───────────⎟⎟\n",
      "   ⎜   ⎜             -c₀₀ ⎟⎟\n",
      "   ⎜   ⎜       1.0 + ─────⎟⎟\n",
      "   ⎝   ⎝              -Er ⎠⎠\n",
      "────────────────────────────\n",
      "           ⎛ 1 ⎞            \n",
      "           ⎜───⎟            \n",
      "           ⎝c₀₀⎠            \n",
      "\n",
      "\n"
     ]
    },
    {
     "name": "stderr",
     "output_type": "stream",
     "text": [
      "100%|██████████| 10000/10000 [03:42<00:00, 44.85it/s]\n",
      "100%|██████████| 10000/10000 [00:01<00:00, 6036.56it/s]\n"
     ]
    },
    {
     "name": "stdout",
     "output_type": "stream",
     "text": [
      "Unable to make visualisation plots.\n",
      "Unable to save pareto figure.\n",
      "=========== Epoch 00065 ===========\n",
      "-> Time 252.47 s\n",
      "\n",
      "Overall best  at R=0.565738\n",
      "-> Raw expression : \n",
      "                                0.5\n",
      "⎛    ⎛   0.5                  ⎞⎞   \n",
      "⎝rou⋅⎝cos   (1.0)⋅Er⋅1.0 + c₀₀⎠⎠   \n",
      "\n",
      "Best of epoch at R=0.548772\n",
      "-> Raw expression : \n",
      "       ⎛   ⎛         1          1    1.0⎞      ⎞\n",
      "c₀₀⋅cos⎜Er⋅⎜- ─────────────── - ── + ───⎟ + 1.0⎟\n",
      "       ⎝   ⎝  -Er + c₀₀ + c₀₀   Er    Er⎠      ⎠\n",
      "\n",
      "\n"
     ]
    },
    {
     "name": "stderr",
     "output_type": "stream",
     "text": [
      "100%|██████████| 10000/10000 [04:08<00:00, 40.31it/s]\n",
      "100%|██████████| 10000/10000 [00:01<00:00, 5927.21it/s]\n"
     ]
    },
    {
     "name": "stdout",
     "output_type": "stream",
     "text": [
      "Unable to make visualisation plots.\n",
      "Unable to save pareto figure.\n",
      "=========== Epoch 00066 ===========\n",
      "-> Time 277.79 s\n",
      "\n",
      "Overall best  at R=0.565738\n",
      "-> Raw expression : \n",
      "                                0.5\n",
      "⎛    ⎛   0.5                  ⎞⎞   \n",
      "⎝rou⋅⎝cos   (1.0)⋅Er⋅1.0 + c₀₀⎠⎠   \n",
      "\n",
      "Best of epoch at R=0.552510\n",
      "-> Raw expression : \n",
      "                   0.5\n",
      "(M⋅1.0⋅(-Er - c₀₀))   \n",
      "\n",
      "\n"
     ]
    },
    {
     "name": "stderr",
     "output_type": "stream",
     "text": [
      "100%|██████████| 10000/10000 [04:31<00:00, 36.81it/s]\n",
      "100%|██████████| 10000/10000 [00:01<00:00, 5301.32it/s]\n"
     ]
    },
    {
     "name": "stdout",
     "output_type": "stream",
     "text": [
      "Unable to make visualisation plots.\n",
      "Unable to save pareto figure.\n",
      "=========== Epoch 00067 ===========\n",
      "-> Time 303.58 s\n",
      "\n",
      "Overall best  at R=0.565738\n",
      "-> Raw expression : \n",
      "                                0.5\n",
      "⎛    ⎛   0.5                  ⎞⎞   \n",
      "⎝rou⋅⎝cos   (1.0)⋅Er⋅1.0 + c₀₀⎠⎠   \n",
      "\n",
      "Best of epoch at R=0.549759\n",
      "-> Raw expression : \n",
      "                                       0.5\n",
      "⎛            ⎛ 1 ⎞                    ⎞   \n",
      "⎜Er⋅c₀₀ + cos⎜───⎟⋅Er⋅1.0⋅Er + c₀₀⋅c₀₀⎟   \n",
      "⎝            ⎝1.0⎠                    ⎠   \n",
      "\n",
      "\n"
     ]
    },
    {
     "name": "stderr",
     "output_type": "stream",
     "text": [
      "100%|██████████| 10000/10000 [04:23<00:00, 37.96it/s]\n",
      "100%|██████████| 10000/10000 [00:01<00:00, 5559.07it/s]\n"
     ]
    },
    {
     "name": "stdout",
     "output_type": "stream",
     "text": [
      "Unable to make visualisation plots.\n",
      "Unable to save pareto figure.\n",
      "=========== Epoch 00068 ===========\n",
      "-> Time 295.49 s\n",
      "\n",
      "Overall best  at R=0.565738\n",
      "-> Raw expression : \n",
      "                                0.5\n",
      "⎛    ⎛   0.5                  ⎞⎞   \n",
      "⎝rou⋅⎝cos   (1.0)⋅Er⋅1.0 + c₀₀⎠⎠   \n",
      "\n",
      "Best of epoch at R=0.552510\n",
      "-> Raw expression : \n",
      "              0.5\n",
      "(M⋅(Er + c₀₀))   \n",
      "\n",
      "\n"
     ]
    },
    {
     "name": "stderr",
     "output_type": "stream",
     "text": [
      "100%|██████████| 10000/10000 [04:23<00:00, 38.00it/s]\n",
      "100%|██████████| 10000/10000 [00:01<00:00, 5424.89it/s]\n"
     ]
    },
    {
     "name": "stdout",
     "output_type": "stream",
     "text": [
      "Unable to make visualisation plots.\n",
      "Unable to save pareto figure.\n",
      "=========== Epoch 00069 ===========\n",
      "-> Time 296.93 s\n",
      "\n",
      "Overall best  at R=0.565738\n",
      "-> Raw expression : \n",
      "                                0.5\n",
      "⎛    ⎛   0.5                  ⎞⎞   \n",
      "⎝rou⋅⎝cos   (1.0)⋅Er⋅1.0 + c₀₀⎠⎠   \n",
      "\n",
      "Best of epoch at R=0.550280\n",
      "-> Raw expression : \n",
      "                  ⎛   -1       ⎞      \n",
      "- c₀₀⋅cos(1.0)⋅cos⎜Er⋅─── - 1.0⎟ + c₀₀\n",
      "                  ⎝   c₀₀      ⎠      \n",
      "\n",
      "\n"
     ]
    },
    {
     "name": "stderr",
     "output_type": "stream",
     "text": [
      "100%|██████████| 10000/10000 [04:34<00:00, 36.45it/s]\n",
      "100%|██████████| 10000/10000 [00:02<00:00, 4719.04it/s]\n"
     ]
    },
    {
     "name": "stdout",
     "output_type": "stream",
     "text": [
      "Unable to make visualisation plots.\n",
      "Unable to save pareto figure.\n",
      "=========== Epoch 00070 ===========\n",
      "-> Time 310.56 s\n",
      "\n",
      "Overall best  at R=0.565738\n",
      "-> Raw expression : \n",
      "                                0.5\n",
      "⎛    ⎛   0.5                  ⎞⎞   \n",
      "⎝rou⋅⎝cos   (1.0)⋅Er⋅1.0 + c₀₀⎠⎠   \n",
      "\n",
      "Best of epoch at R=0.546245\n",
      "-> Raw expression : \n",
      "                                              0.5         \n",
      "-2⋅c₀₀ - ((Er⋅c₀₀ + c₀₀⋅c₀₀)⋅(sin(1.0) + 1.0))   ⋅sin(1.0)\n",
      "\n",
      "\n"
     ]
    },
    {
     "name": "stderr",
     "output_type": "stream",
     "text": [
      "100%|██████████| 10000/10000 [04:13<00:00, 39.37it/s]\n",
      "100%|██████████| 10000/10000 [00:02<00:00, 4454.14it/s]\n"
     ]
    },
    {
     "name": "stdout",
     "output_type": "stream",
     "text": [
      "Unable to make visualisation plots.\n",
      "Unable to save pareto figure.\n",
      "=========== Epoch 00071 ===========\n",
      "-> Time 288.40 s\n",
      "\n",
      "Overall best  at R=0.565738\n",
      "-> Raw expression : \n",
      "                                0.5\n",
      "⎛    ⎛   0.5                  ⎞⎞   \n",
      "⎝rou⋅⎝cos   (1.0)⋅Er⋅1.0 + c₀₀⎠⎠   \n",
      "\n",
      "Best of epoch at R=0.549517\n",
      "-> Raw expression : \n",
      "                              0.5\n",
      "⎛           ⎛      ⎛ 1 ⎞    ⎞⎞   \n",
      "⎜(Er + c₀₀)⋅⎜Er⋅cos⎜───⎟ + M⎟⎟   \n",
      "⎝           ⎝      ⎝1.0⎠    ⎠⎠   \n",
      "\n",
      "\n"
     ]
    },
    {
     "name": "stderr",
     "output_type": "stream",
     "text": [
      "100%|██████████| 10000/10000 [04:36<00:00, 36.11it/s]\n",
      "100%|██████████| 10000/10000 [00:02<00:00, 4652.50it/s]\n"
     ]
    },
    {
     "name": "stdout",
     "output_type": "stream",
     "text": [
      "Unable to make visualisation plots.\n",
      "Unable to save pareto figure.\n",
      "=========== Epoch 00072 ===========\n",
      "-> Time 310.87 s\n",
      "\n",
      "Overall best  at R=0.565738\n",
      "-> Raw expression : \n",
      "                                0.5\n",
      "⎛    ⎛   0.5                  ⎞⎞   \n",
      "⎝rou⋅⎝cos   (1.0)⋅Er⋅1.0 + c₀₀⎠⎠   \n",
      "\n",
      "Best of epoch at R=0.551656\n",
      "-> Raw expression : \n",
      "                                                 0.5\n",
      "(1.0⋅Er⋅c₀₀ - Er⋅cos(1.0 + 1.0)⋅Er⋅1.0 + c₀₀⋅c₀₀)   \n",
      "\n",
      "\n"
     ]
    },
    {
     "name": "stderr",
     "output_type": "stream",
     "text": [
      "100%|██████████| 10000/10000 [04:39<00:00, 35.75it/s]\n",
      "100%|██████████| 10000/10000 [00:02<00:00, 4887.07it/s]\n"
     ]
    },
    {
     "name": "stdout",
     "output_type": "stream",
     "text": [
      "Unable to make visualisation plots.\n",
      "Unable to save pareto figure.\n",
      "=========== Epoch 00073 ===========\n",
      "-> Time 310.80 s\n",
      "\n",
      "Overall best  at R=0.565738\n",
      "-> Raw expression : \n",
      "                                0.5\n",
      "⎛    ⎛   0.5                  ⎞⎞   \n",
      "⎝rou⋅⎝cos   (1.0)⋅Er⋅1.0 + c₀₀⎠⎠   \n",
      "\n",
      "Best of epoch at R=0.546183\n",
      "-> Raw expression : \n",
      "                   0.5\n",
      "(-Er⋅c₀₀ - c₀₀⋅c₀₀)   \n",
      "\n",
      "\n"
     ]
    },
    {
     "name": "stderr",
     "output_type": "stream",
     "text": [
      "100%|██████████| 10000/10000 [04:27<00:00, 37.45it/s]\n",
      "100%|██████████| 10000/10000 [00:02<00:00, 4806.97it/s]\n"
     ]
    },
    {
     "name": "stdout",
     "output_type": "stream",
     "text": [
      "Unable to make visualisation plots.\n",
      "Unable to save pareto figure.\n",
      "=========== Epoch 00074 ===========\n",
      "-> Time 298.79 s\n",
      "\n",
      "Overall best  at R=0.565738\n",
      "-> Raw expression : \n",
      "                                0.5\n",
      "⎛    ⎛   0.5                  ⎞⎞   \n",
      "⎝rou⋅⎝cos   (1.0)⋅Er⋅1.0 + c₀₀⎠⎠   \n",
      "\n",
      "Best of epoch at R=0.560291\n",
      "-> Raw expression : \n",
      "                                0.5\n",
      "⎛  ⎛                       0.5⎞⎞   \n",
      "⎝M⋅⎝Er⋅sin(1.0) + (c₀₀⋅c₀₀)   ⎠⎠   \n",
      "\n",
      "\n"
     ]
    },
    {
     "name": "stderr",
     "output_type": "stream",
     "text": [
      "100%|██████████| 10000/10000 [04:41<00:00, 35.51it/s]\n",
      "100%|██████████| 10000/10000 [00:02<00:00, 4428.73it/s]\n"
     ]
    },
    {
     "name": "stdout",
     "output_type": "stream",
     "text": [
      "Unable to make visualisation plots.\n",
      "Unable to save pareto figure.\n",
      "=========== Epoch 00075 ===========\n",
      "-> Time 313.22 s\n",
      "\n",
      "Overall best  at R=0.565738\n",
      "-> Raw expression : \n",
      "                                0.5\n",
      "⎛    ⎛   0.5                  ⎞⎞   \n",
      "⎝rou⋅⎝cos   (1.0)⋅Er⋅1.0 + c₀₀⎠⎠   \n",
      "\n",
      "Best of epoch at R=0.553581\n",
      "-> Raw expression : \n",
      "               c₀₀                \n",
      "──────────────────────────────────\n",
      "       -1                         \n",
      "Er⋅1.0⋅─── + cos(-2.0 + 1.0) + 1.0\n",
      "       c₀₀                        \n",
      "\n",
      "\n"
     ]
    },
    {
     "name": "stderr",
     "output_type": "stream",
     "text": [
      "100%|██████████| 10000/10000 [04:36<00:00, 36.19it/s]\n",
      "100%|██████████| 10000/10000 [00:02<00:00, 4739.83it/s]\n"
     ]
    },
    {
     "name": "stdout",
     "output_type": "stream",
     "text": [
      "Unable to make visualisation plots.\n",
      "Unable to save pareto figure.\n",
      "=========== Epoch 00076 ===========\n",
      "-> Time 306.75 s\n",
      "\n",
      "Overall best  at R=0.565738\n",
      "-> Raw expression : \n",
      "                                0.5\n",
      "⎛    ⎛   0.5                  ⎞⎞   \n",
      "⎝rou⋅⎝cos   (1.0)⋅Er⋅1.0 + c₀₀⎠⎠   \n",
      "\n",
      "Best of epoch at R=0.546183\n",
      "-> Raw expression : \n",
      "                  0.5\n",
      "(Er⋅c₀₀ + c₀₀⋅c₀₀)   \n",
      "\n",
      "\n"
     ]
    },
    {
     "name": "stderr",
     "output_type": "stream",
     "text": [
      "100%|██████████| 10000/10000 [04:27<00:00, 37.32it/s]\n",
      "100%|██████████| 10000/10000 [00:02<00:00, 4274.75it/s]\n"
     ]
    },
    {
     "name": "stdout",
     "output_type": "stream",
     "text": [
      "Unable to make visualisation plots.\n",
      "Unable to save pareto figure.\n",
      "=========== Epoch 00077 ===========\n",
      "-> Time 298.75 s\n",
      "\n",
      "Overall best  at R=0.565738\n",
      "-> Raw expression : \n",
      "                                0.5\n",
      "⎛    ⎛   0.5                  ⎞⎞   \n",
      "⎝rou⋅⎝cos   (1.0)⋅Er⋅1.0 + c₀₀⎠⎠   \n",
      "\n",
      "Best of epoch at R=0.546183\n",
      "-> Raw expression : \n",
      "                              0.5\n",
      "(c₀₀⋅(Er + c₀₀⋅cos(log(1.0))))   \n",
      "\n",
      "\n"
     ]
    },
    {
     "name": "stderr",
     "output_type": "stream",
     "text": [
      "100%|██████████| 10000/10000 [04:45<00:00, 35.04it/s]\n",
      "100%|██████████| 10000/10000 [00:02<00:00, 4776.76it/s]\n"
     ]
    },
    {
     "name": "stdout",
     "output_type": "stream",
     "text": [
      "Unable to make visualisation plots.\n",
      "Unable to save pareto figure.\n",
      "=========== Epoch 00078 ===========\n",
      "-> Time 315.83 s\n",
      "\n",
      "Overall best  at R=0.565738\n",
      "-> Raw expression : \n",
      "                                0.5\n",
      "⎛    ⎛   0.5                  ⎞⎞   \n",
      "⎝rou⋅⎝cos   (1.0)⋅Er⋅1.0 + c₀₀⎠⎠   \n",
      "\n",
      "Best of epoch at R=0.553900\n",
      "-> Raw expression : \n",
      "                         0.5\n",
      "(-c₀₀⋅c₀₀ - c₀₀⋅(Er + r))   \n",
      "\n",
      "\n"
     ]
    },
    {
     "name": "stderr",
     "output_type": "stream",
     "text": [
      "100%|██████████| 10000/10000 [04:31<00:00, 36.78it/s]\n",
      "100%|██████████| 10000/10000 [00:02<00:00, 4700.95it/s]\n"
     ]
    },
    {
     "name": "stdout",
     "output_type": "stream",
     "text": [
      "Unable to make visualisation plots.\n",
      "Unable to save pareto figure.\n",
      "=========== Epoch 00079 ===========\n",
      "-> Time 301.48 s\n",
      "\n",
      "Overall best  at R=0.565738\n",
      "-> Raw expression : \n",
      "                                0.5\n",
      "⎛    ⎛   0.5                  ⎞⎞   \n",
      "⎝rou⋅⎝cos   (1.0)⋅Er⋅1.0 + c₀₀⎠⎠   \n",
      "\n",
      "Best of epoch at R=0.550601\n",
      "-> Raw expression : \n",
      "         cos(1.0)         \n",
      "──────────────────────────\n",
      "⎛          c₀₀           ⎞\n",
      "⎜────────────────────────⎟\n",
      "⎝Er⋅c₀₀ + Er⋅Er + c₀₀⋅c₀₀⎠\n",
      "\n",
      "\n"
     ]
    },
    {
     "name": "stderr",
     "output_type": "stream",
     "text": [
      "100%|██████████| 10000/10000 [04:19<00:00, 38.60it/s]\n",
      "100%|██████████| 10000/10000 [00:02<00:00, 4394.00it/s]\n"
     ]
    },
    {
     "name": "stdout",
     "output_type": "stream",
     "text": [
      "Unable to make visualisation plots.\n",
      "Unable to save pareto figure.\n",
      "=========== Epoch 00080 ===========\n",
      "-> Time 290.31 s\n",
      "\n",
      "Overall best  at R=0.565738\n",
      "-> Raw expression : \n",
      "                                0.5\n",
      "⎛    ⎛   0.5                  ⎞⎞   \n",
      "⎝rou⋅⎝cos   (1.0)⋅Er⋅1.0 + c₀₀⎠⎠   \n",
      "\n",
      "Best of epoch at R=0.550189\n",
      "-> Raw expression : \n",
      "                                         0.5\n",
      "(1.0⋅Er⋅c₀₀ + (Er⋅Er + c₀₀⋅c₀₀)⋅cos(1.0))   \n",
      "\n",
      "\n"
     ]
    },
    {
     "name": "stderr",
     "output_type": "stream",
     "text": [
      "100%|██████████| 10000/10000 [04:23<00:00, 38.02it/s]\n",
      "100%|██████████| 10000/10000 [00:02<00:00, 4505.21it/s]\n"
     ]
    },
    {
     "name": "stdout",
     "output_type": "stream",
     "text": [
      "Unable to make visualisation plots.\n",
      "Unable to save pareto figure.\n",
      "=========== Epoch 00081 ===========\n",
      "-> Time 294.47 s\n",
      "\n",
      "Overall best  at R=0.565738\n",
      "-> Raw expression : \n",
      "                                0.5\n",
      "⎛    ⎛   0.5                  ⎞⎞   \n",
      "⎝rou⋅⎝cos   (1.0)⋅Er⋅1.0 + c₀₀⎠⎠   \n",
      "\n",
      "Best of epoch at R=0.549759\n",
      "-> Raw expression : \n",
      "                                        0.5\n",
      "(-Er⋅c₀₀ - Er⋅cos(1.0)⋅Er⋅1.0 - c₀₀⋅c₀₀)   \n",
      "\n",
      "\n"
     ]
    },
    {
     "name": "stderr",
     "output_type": "stream",
     "text": [
      "100%|██████████| 10000/10000 [04:32<00:00, 36.64it/s]\n",
      "100%|██████████| 10000/10000 [00:02<00:00, 4377.02it/s]\n"
     ]
    },
    {
     "name": "stdout",
     "output_type": "stream",
     "text": [
      "Unable to make visualisation plots.\n",
      "Unable to save pareto figure.\n",
      "=========== Epoch 00082 ===========\n",
      "-> Time 305.36 s\n",
      "\n",
      "Overall best  at R=0.565738\n",
      "-> Raw expression : \n",
      "                                0.5\n",
      "⎛    ⎛   0.5                  ⎞⎞   \n",
      "⎝rou⋅⎝cos   (1.0)⋅Er⋅1.0 + c₀₀⎠⎠   \n",
      "\n",
      "Best of epoch at R=0.550280\n",
      "-> Raw expression : \n",
      "                  ⎛ Er      ⎞      \n",
      "- c₀₀⋅cos(1.0)⋅cos⎜─── + 1.0⎟ + c₀₀\n",
      "                  ⎝c₀₀      ⎠      \n",
      "\n",
      "\n"
     ]
    },
    {
     "name": "stderr",
     "output_type": "stream",
     "text": [
      "100%|██████████| 10000/10000 [04:48<00:00, 34.70it/s]\n",
      "100%|██████████| 10000/10000 [00:02<00:00, 3830.55it/s]\n"
     ]
    },
    {
     "name": "stdout",
     "output_type": "stream",
     "text": [
      "Unable to make visualisation plots.\n",
      "Unable to save pareto figure.\n",
      "=========== Epoch 00083 ===========\n",
      "-> Time 320.39 s\n",
      "\n",
      "Overall best  at R=0.565738\n",
      "-> Raw expression : \n",
      "                                0.5\n",
      "⎛    ⎛   0.5                  ⎞⎞   \n",
      "⎝rou⋅⎝cos   (1.0)⋅Er⋅1.0 + c₀₀⎠⎠   \n",
      "\n",
      "Best of epoch at R=0.549759\n",
      "-> Raw expression : \n",
      "                                    0.5\n",
      "(-Er⋅c₀₀ - Er⋅Er⋅cos(1.0) - c₀₀⋅c₀₀)   \n",
      "\n",
      "\n"
     ]
    },
    {
     "name": "stderr",
     "output_type": "stream",
     "text": [
      "100%|██████████| 10000/10000 [05:02<00:00, 33.08it/s]\n",
      "100%|██████████| 10000/10000 [00:01<00:00, 5254.01it/s]\n"
     ]
    },
    {
     "name": "stdout",
     "output_type": "stream",
     "text": [
      "Unable to make visualisation plots.\n",
      "Unable to save pareto figure.\n",
      "=========== Epoch 00084 ===========\n",
      "-> Time 333.59 s\n",
      "\n",
      "Overall best  at R=0.565738\n",
      "-> Raw expression : \n",
      "                                0.5\n",
      "⎛    ⎛   0.5                  ⎞⎞   \n",
      "⎝rou⋅⎝cos   (1.0)⋅Er⋅1.0 + c₀₀⎠⎠   \n",
      "\n",
      "Best of epoch at R=0.553900\n",
      "-> Raw expression : \n",
      "                          0.5\n",
      "(Er⋅c₀₀ + c₀₀⋅r + c₀₀⋅c₀₀)   \n",
      "\n",
      "\n"
     ]
    },
    {
     "name": "stderr",
     "output_type": "stream",
     "text": [
      "100%|██████████| 10000/10000 [04:04<00:00, 40.96it/s]\n",
      "100%|██████████| 10000/10000 [00:02<00:00, 4768.07it/s]\n"
     ]
    },
    {
     "name": "stdout",
     "output_type": "stream",
     "text": [
      "Unable to make visualisation plots.\n",
      "Unable to save pareto figure.\n",
      "=========== Epoch 00085 ===========\n",
      "-> Time 275.00 s\n",
      "\n",
      "Overall best  at R=0.565738\n",
      "-> Raw expression : \n",
      "                                0.5\n",
      "⎛    ⎛   0.5                  ⎞⎞   \n",
      "⎝rou⋅⎝cos   (1.0)⋅Er⋅1.0 + c₀₀⎠⎠   \n",
      "\n",
      "Best of epoch at R=0.549759\n",
      "-> Raw expression : \n",
      "                                   0.5\n",
      "(Er⋅c₀₀ + Er⋅Er⋅cos(1.0) + c₀₀⋅c₀₀)   \n",
      "\n",
      "\n"
     ]
    },
    {
     "name": "stderr",
     "output_type": "stream",
     "text": [
      "100%|██████████| 10000/10000 [04:18<00:00, 38.76it/s]\n",
      "100%|██████████| 10000/10000 [00:01<00:00, 5639.51it/s]\n"
     ]
    },
    {
     "name": "stdout",
     "output_type": "stream",
     "text": [
      "Unable to make visualisation plots.\n",
      "Unable to save pareto figure.\n",
      "=========== Epoch 00086 ===========\n",
      "-> Time 288.17 s\n",
      "\n",
      "Overall best  at R=0.565738\n",
      "-> Raw expression : \n",
      "                                0.5\n",
      "⎛    ⎛   0.5                  ⎞⎞   \n",
      "⎝rou⋅⎝cos   (1.0)⋅Er⋅1.0 + c₀₀⎠⎠   \n",
      "\n",
      "Best of epoch at R=0.553900\n",
      "-> Raw expression : \n",
      "                    0.5\n",
      "(c₀₀⋅(Er + c₀₀ + r))   \n",
      "\n",
      "\n"
     ]
    },
    {
     "name": "stderr",
     "output_type": "stream",
     "text": [
      "100%|██████████| 10000/10000 [03:39<00:00, 45.49it/s]\n",
      "100%|██████████| 10000/10000 [00:01<00:00, 6001.19it/s]\n"
     ]
    },
    {
     "name": "stdout",
     "output_type": "stream",
     "text": [
      "Unable to make visualisation plots.\n",
      "Unable to save pareto figure.\n",
      "=========== Epoch 00087 ===========\n",
      "-> Time 249.89 s\n",
      "\n",
      "Overall best  at R=0.565738\n",
      "-> Raw expression : \n",
      "                                0.5\n",
      "⎛    ⎛   0.5                  ⎞⎞   \n",
      "⎝rou⋅⎝cos   (1.0)⋅Er⋅1.0 + c₀₀⎠⎠   \n",
      "\n",
      "Best of epoch at R=0.546183\n",
      "-> Raw expression : \n",
      "                  0.5\n",
      "(Er⋅c₀₀ + c₀₀⋅c₀₀)   \n",
      "\n",
      "\n"
     ]
    },
    {
     "name": "stderr",
     "output_type": "stream",
     "text": [
      "100%|██████████| 10000/10000 [03:46<00:00, 44.11it/s]\n",
      "100%|██████████| 10000/10000 [00:01<00:00, 6093.16it/s]\n"
     ]
    },
    {
     "name": "stdout",
     "output_type": "stream",
     "text": [
      "Unable to make visualisation plots.\n",
      "Unable to save pareto figure.\n",
      "=========== Epoch 00088 ===========\n",
      "-> Time 255.40 s\n",
      "\n",
      "Overall best  at R=0.565738\n",
      "-> Raw expression : \n",
      "                                0.5\n",
      "⎛    ⎛   0.5                  ⎞⎞   \n",
      "⎝rou⋅⎝cos   (1.0)⋅Er⋅1.0 + c₀₀⎠⎠   \n",
      "\n",
      "Best of epoch at R=0.553900\n",
      "-> Raw expression : \n",
      "                                            0.5\n",
      "(Er⋅c₀₀ + c₀₀⋅r + c₀₀⋅(c₀₀ + c₀₀) - c₀₀⋅c₀₀)   \n",
      "\n",
      "\n"
     ]
    },
    {
     "name": "stderr",
     "output_type": "stream",
     "text": [
      "100%|██████████| 10000/10000 [03:40<00:00, 45.42it/s]\n",
      "100%|██████████| 10000/10000 [00:02<00:00, 4844.69it/s]\n"
     ]
    },
    {
     "name": "stdout",
     "output_type": "stream",
     "text": [
      "Unable to make visualisation plots.\n",
      "Unable to save pareto figure.\n",
      "=========== Epoch 00089 ===========\n",
      "-> Time 249.97 s\n",
      "\n",
      "Overall best  at R=0.565738\n",
      "-> Raw expression : \n",
      "                                0.5\n",
      "⎛    ⎛   0.5                  ⎞⎞   \n",
      "⎝rou⋅⎝cos   (1.0)⋅Er⋅1.0 + c₀₀⎠⎠   \n",
      "\n",
      "Best of epoch at R=0.546183\n",
      "-> Raw expression : \n",
      "                                  0.5\n",
      "(Er⋅c₀₀ + Er⋅(-Er + Er) + c₀₀⋅c₀₀)   \n",
      "\n",
      "\n"
     ]
    },
    {
     "name": "stderr",
     "output_type": "stream",
     "text": [
      "100%|██████████| 10000/10000 [03:54<00:00, 42.65it/s]\n",
      "100%|██████████| 10000/10000 [00:01<00:00, 5876.84it/s]\n"
     ]
    },
    {
     "name": "stdout",
     "output_type": "stream",
     "text": [
      "Unable to make visualisation plots.\n",
      "Unable to save pareto figure.\n",
      "=========== Epoch 00090 ===========\n",
      "-> Time 263.70 s\n",
      "\n",
      "Overall best  at R=0.565738\n",
      "-> Raw expression : \n",
      "                                0.5\n",
      "⎛    ⎛   0.5                  ⎞⎞   \n",
      "⎝rou⋅⎝cos   (1.0)⋅Er⋅1.0 + c₀₀⎠⎠   \n",
      "\n",
      "Best of epoch at R=0.549759\n",
      "-> Raw expression : \n",
      "                                   0.5\n",
      "(Er⋅c₀₀ + Er⋅Er⋅cos(1.0) + c₀₀⋅c₀₀)   \n",
      "\n",
      "\n"
     ]
    },
    {
     "name": "stderr",
     "output_type": "stream",
     "text": [
      "100%|██████████| 10000/10000 [04:00<00:00, 41.59it/s]\n",
      "100%|██████████| 10000/10000 [00:01<00:00, 5466.36it/s]\n"
     ]
    },
    {
     "name": "stdout",
     "output_type": "stream",
     "text": [
      "Unable to make visualisation plots.\n",
      "Unable to save pareto figure.\n",
      "=========== Epoch 00091 ===========\n",
      "-> Time 269.30 s\n",
      "\n",
      "Overall best  at R=0.565738\n",
      "-> Raw expression : \n",
      "                                0.5\n",
      "⎛    ⎛   0.5                  ⎞⎞   \n",
      "⎝rou⋅⎝cos   (1.0)⋅Er⋅1.0 + c₀₀⎠⎠   \n",
      "\n",
      "Best of epoch at R=0.552510\n",
      "-> Raw expression : \n",
      "              0.5\n",
      "(M⋅(Er + c₀₀))   \n",
      "\n",
      "\n"
     ]
    },
    {
     "name": "stderr",
     "output_type": "stream",
     "text": [
      "100%|██████████| 10000/10000 [04:16<00:00, 39.02it/s]\n",
      "100%|██████████| 10000/10000 [00:02<00:00, 4923.87it/s]\n"
     ]
    },
    {
     "name": "stdout",
     "output_type": "stream",
     "text": [
      "Unable to make visualisation plots.\n",
      "Unable to save pareto figure.\n",
      "=========== Epoch 00092 ===========\n",
      "-> Time 285.77 s\n",
      "\n",
      "Overall best  at R=0.565738\n",
      "-> Raw expression : \n",
      "                                0.5\n",
      "⎛    ⎛   0.5                  ⎞⎞   \n",
      "⎝rou⋅⎝cos   (1.0)⋅Er⋅1.0 + c₀₀⎠⎠   \n",
      "\n",
      "Best of epoch at R=0.548004\n",
      "-> Raw expression : \n",
      "      ⎛                -1              ⎞      \n",
      "Er⋅cos⎜- -Er⋅c₀₀⋅──────────────── - 1.0⎟ + c₀₀\n",
      "      ⎝          -Er⋅Er - c₀₀⋅c₀₀      ⎠      \n",
      "\n",
      "\n"
     ]
    },
    {
     "name": "stderr",
     "output_type": "stream",
     "text": [
      "100%|██████████| 10000/10000 [04:38<00:00, 35.95it/s]\n",
      "100%|██████████| 10000/10000 [00:02<00:00, 4727.04it/s]\n"
     ]
    },
    {
     "name": "stdout",
     "output_type": "stream",
     "text": [
      "Unable to make visualisation plots.\n",
      "Unable to save pareto figure.\n",
      "=========== Epoch 00093 ===========\n",
      "-> Time 307.69 s\n",
      "\n",
      "Overall best  at R=0.565738\n",
      "-> Raw expression : \n",
      "                                0.5\n",
      "⎛    ⎛   0.5                  ⎞⎞   \n",
      "⎝rou⋅⎝cos   (1.0)⋅Er⋅1.0 + c₀₀⎠⎠   \n",
      "\n",
      "Best of epoch at R=0.546183\n",
      "-> Raw expression : \n",
      "                         0.5\n",
      "⎛         0.5           ⎞   \n",
      "⎝(c₀₀⋅c₀₀)   ⋅(Er + c₀₀)⎠   \n",
      "\n",
      "\n"
     ]
    },
    {
     "name": "stderr",
     "output_type": "stream",
     "text": [
      "100%|██████████| 10000/10000 [04:58<00:00, 33.55it/s]\n",
      "100%|██████████| 10000/10000 [00:02<00:00, 4702.09it/s]\n"
     ]
    },
    {
     "name": "stdout",
     "output_type": "stream",
     "text": [
      "Unable to make visualisation plots.\n",
      "Unable to save pareto figure.\n",
      "=========== Epoch 00094 ===========\n",
      "-> Time 328.65 s\n",
      "\n",
      "Overall best  at R=0.565738\n",
      "-> Raw expression : \n",
      "                                0.5\n",
      "⎛    ⎛   0.5                  ⎞⎞   \n",
      "⎝rou⋅⎝cos   (1.0)⋅Er⋅1.0 + c₀₀⎠⎠   \n",
      "\n",
      "Best of epoch at R=0.549759\n",
      "-> Raw expression : \n",
      "                                        0.5\n",
      "⎛                ⎛ 1 ⎞                 ⎞   \n",
      "⎜- 1.0⋅-Er⋅Er⋅cos⎜───⎟ + c₀₀⋅(Er + c₀₀)⎟   \n",
      "⎝                ⎝1.0⎠                 ⎠   \n",
      "\n",
      "\n"
     ]
    },
    {
     "name": "stderr",
     "output_type": "stream",
     "text": [
      "100%|██████████| 10000/10000 [05:07<00:00, 32.48it/s]\n",
      "100%|██████████| 10000/10000 [00:01<00:00, 5196.33it/s]\n"
     ]
    },
    {
     "name": "stdout",
     "output_type": "stream",
     "text": [
      "Unable to make visualisation plots.\n",
      "Unable to save pareto figure.\n",
      "=========== Epoch 00095 ===========\n",
      "-> Time 336.78 s\n",
      "\n",
      "Overall best  at R=0.565738\n",
      "-> Raw expression : \n",
      "                                0.5\n",
      "⎛    ⎛   0.5                  ⎞⎞   \n",
      "⎝rou⋅⎝cos   (1.0)⋅Er⋅1.0 + c₀₀⎠⎠   \n",
      "\n",
      "Best of epoch at R=0.551283\n",
      "-> Raw expression : \n",
      "                                          0.5\n",
      "(Er⋅(Er + c₀₀) - Er⋅Er⋅cos(1.0) + c₀₀⋅c₀₀)   \n",
      "\n",
      "\n"
     ]
    },
    {
     "name": "stderr",
     "output_type": "stream",
     "text": [
      "100%|██████████| 10000/10000 [05:29<00:00, 30.31it/s]\n",
      "100%|██████████| 10000/10000 [00:02<00:00, 4504.38it/s]\n"
     ]
    },
    {
     "name": "stdout",
     "output_type": "stream",
     "text": [
      "Unable to make visualisation plots.\n",
      "Unable to save pareto figure.\n",
      "=========== Epoch 00096 ===========\n",
      "-> Time 360.33 s\n",
      "\n",
      "Overall best  at R=0.565738\n",
      "-> Raw expression : \n",
      "                                0.5\n",
      "⎛    ⎛   0.5                  ⎞⎞   \n",
      "⎝rou⋅⎝cos   (1.0)⋅Er⋅1.0 + c₀₀⎠⎠   \n",
      "\n",
      "Best of epoch at R=0.549161\n",
      "-> Raw expression : \n",
      "      ⎛                                          0.5⎞\n",
      "      ⎜       ⎛                        ⎛    0.5⎞⎞   ⎟\n",
      "c₀₀ - ⎝-c₀₀ + ⎝-(-Er⋅c₀₀ + c₀₀⋅c₀₀)⋅sin⎝-1.0   ⎠⎠   ⎠\n",
      "\n",
      "\n"
     ]
    },
    {
     "name": "stderr",
     "output_type": "stream",
     "text": [
      "100%|██████████| 10000/10000 [06:38<00:00, 25.13it/s]\n",
      "100%|██████████| 10000/10000 [00:02<00:00, 4514.05it/s]\n"
     ]
    },
    {
     "name": "stdout",
     "output_type": "stream",
     "text": [
      "Unable to make visualisation plots.\n",
      "Unable to save pareto figure.\n",
      "=========== Epoch 00097 ===========\n",
      "-> Time 429.26 s\n",
      "\n",
      "Overall best  at R=0.565738\n",
      "-> Raw expression : \n",
      "                                0.5\n",
      "⎛    ⎛   0.5                  ⎞⎞   \n",
      "⎝rou⋅⎝cos   (1.0)⋅Er⋅1.0 + c₀₀⎠⎠   \n",
      "\n",
      "Best of epoch at R=0.550821\n",
      "-> Raw expression : \n",
      "                                                       0.5\n",
      "     ⎛                                        ⎛  1   ⎞⎞   \n",
      "Er + ⎜-Er⋅Er + (Er⋅c₀₀ + Er⋅c₀₀ - c₀₀⋅c₀₀)⋅cos⎜──────⎟⎟   \n",
      "     ⎜                                        ⎜   0.5⎟⎟   \n",
      "     ⎝                                        ⎝1.0   ⎠⎠   \n",
      "\n",
      "\n"
     ]
    },
    {
     "name": "stderr",
     "output_type": "stream",
     "text": [
      "100%|██████████| 10000/10000 [06:54<00:00, 24.14it/s]\n",
      "100%|██████████| 10000/10000 [00:02<00:00, 4196.33it/s]\n"
     ]
    },
    {
     "name": "stdout",
     "output_type": "stream",
     "text": [
      "Unable to make visualisation plots.\n",
      "Unable to save pareto figure.\n",
      "=========== Epoch 00098 ===========\n",
      "-> Time 445.89 s\n",
      "\n",
      "Overall best  at R=0.565738\n",
      "-> Raw expression : \n",
      "                                0.5\n",
      "⎛    ⎛   0.5                  ⎞⎞   \n",
      "⎝rou⋅⎝cos   (1.0)⋅Er⋅1.0 + c₀₀⎠⎠   \n",
      "\n",
      "Best of epoch at R=0.546183\n",
      "-> Raw expression : \n",
      "                                 0.5\n",
      "(-Er⋅c₀₀⋅cos(log(1.0)) - c₀₀⋅c₀₀)   \n",
      "\n",
      "\n"
     ]
    },
    {
     "name": "stderr",
     "output_type": "stream",
     "text": [
      "100%|██████████| 10000/10000 [07:23<00:00, 22.56it/s]\n",
      "100%|██████████| 10000/10000 [00:02<00:00, 4444.98it/s]\n"
     ]
    },
    {
     "name": "stdout",
     "output_type": "stream",
     "text": [
      "Unable to make visualisation plots.\n",
      "Unable to save pareto figure.\n",
      "=========== Epoch 00099 ===========\n",
      "-> Time 473.33 s\n",
      "\n",
      "Overall best  at R=0.565738\n",
      "-> Raw expression : \n",
      "                                0.5\n",
      "⎛    ⎛   0.5                  ⎞⎞   \n",
      "⎝rou⋅⎝cos   (1.0)⋅Er⋅1.0 + c₀₀⎠⎠   \n",
      "\n",
      "Best of epoch at R=0.550582\n",
      "-> Raw expression : \n",
      "      ⎛                  0.5⎞      \n",
      "      ⎜⎛    ⎛  -1    1 ⎞⎞   ⎟      \n",
      "Er⋅cos⎜⎜c₀₀⋅⎜- ─── + ──⎟⎟   ⎟ - c₀₀\n",
      "      ⎝⎝    ⎝  c₀₀   Er⎠⎠   ⎠      \n",
      "\n",
      "\n"
     ]
    },
    {
     "name": "stderr",
     "output_type": "stream",
     "text": [
      "100%|██████████| 10000/10000 [08:29<00:00, 19.64it/s]\n",
      "100%|██████████| 10000/10000 [00:02<00:00, 3763.90it/s]\n"
     ]
    },
    {
     "name": "stdout",
     "output_type": "stream",
     "text": [
      "Unable to make visualisation plots.\n",
      "Unable to save pareto figure.\n",
      "=========== Epoch 00100 ===========\n",
      "-> Time 542.19 s\n",
      "\n",
      "Overall best  at R=0.565738\n",
      "-> Raw expression : \n",
      "                                0.5\n",
      "⎛    ⎛   0.5                  ⎞⎞   \n",
      "⎝rou⋅⎝cos   (1.0)⋅Er⋅1.0 + c₀₀⎠⎠   \n",
      "\n",
      "Best of epoch at R=0.551596\n",
      "-> Raw expression : \n",
      "                                            0.5         \n",
      "Er⋅cos(1.0) - c₀₀ - c₀₀ + (Er⋅c₀₀ + c₀₀⋅c₀₀)   ⋅cos(1.0)\n",
      "\n",
      "\n"
     ]
    },
    {
     "name": "stderr",
     "output_type": "stream",
     "text": [
      " 40%|████      | 4016/10000 [04:07<07:04, 14.11it/s]  "
     ]
    }
   ],
   "source": [
    "import physo\n",
    "\n",
    "expression, logs = physo.SR(feat, label,\n",
    "                            X_names = [ \"X\"  ,'r'     , \"E\"    ,'M'   ,'rou'   ,'Er'],\n",
    "                            X_units = [ [0, 0, 1] , [0, 0, 1] ,[0, 0, 1],[0, 0, 1],[0, 0, 1],[0, 0, 1]],\n",
    "                             y_name  = \"Ea\",\n",
    "                            y_units = [0, 0, 1],\n",
    "                            fixed_consts       = [ 1.      ],\n",
    "                            fixed_consts_units = [ [0,0,0] ],\n",
    "                            free_consts_units  = [ [0, 0, 1] , [1, -2, 0] ],      \n",
    "                            run_config = physo.config.config1.config1,\n",
    "                            op_names = [\"mul\", \"add\", \"sub\", \"div\", \"inv\", \"n2\", \"sqrt\", \"neg\", \"exp\", \"log\", \"sin\", \"cos\"]                    \n",
    ")"
   ]
  }
 ],
 "metadata": {
  "kernelspec": {
   "display_name": "PhySO",
   "language": "python",
   "name": "python3"
  },
  "language_info": {
   "codemirror_mode": {
    "name": "ipython",
    "version": 3
   },
   "file_extension": ".py",
   "mimetype": "text/x-python",
   "name": "python",
   "nbconvert_exporter": "python",
   "pygments_lexer": "ipython3",
   "version": "3.8.16"
  },
  "orig_nbformat": 4
 },
 "nbformat": 4,
 "nbformat_minor": 2
}
