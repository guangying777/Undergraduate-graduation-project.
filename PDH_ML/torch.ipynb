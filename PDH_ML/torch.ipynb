{
 "cells": [
  {
   "cell_type": "code",
   "execution_count": 94,
   "metadata": {},
   "outputs": [],
   "source": [
    "# 导入必要的库\n",
    "import torch\n",
    "import torch.nn as nn\n",
    "import torch.optim as optim\n",
    "from torch.utils.data import DataLoader\n",
    "import pandas as pd\n",
    "from sklearn.model_selection import train_test_split\n",
    "from sklearn.model_selection import KFold"
   ]
  },
  {
   "cell_type": "code",
   "execution_count": 95,
   "metadata": {},
   "outputs": [],
   "source": [
    "def data_load():\n",
    "    data=pd.read_excel('./use.xlsx')\n",
    "    train_data,test_data=train_test_split(data,test_size=0.2, random_state=1314)\n",
    "    train_data=train_data.drop(['Unnamed: 0'],axis=1)\n",
    "    test_data=test_data.drop(['Unnamed: 0'],axis=1)\n",
    "    return train_data,test_data"
   ]
  },
  {
   "cell_type": "code",
   "execution_count": 96,
   "metadata": {},
   "outputs": [],
   "source": [
    "train_data,test_data=data_load()"
   ]
  },
  {
   "cell_type": "code",
   "execution_count": 97,
   "metadata": {},
   "outputs": [
    {
     "name": "stdout",
     "output_type": "stream",
     "text": [
      "Epoch 0, Loss: 1.5869\n",
      "Epoch 100, Loss: 0.0114\n",
      "Epoch 200, Loss: 0.1088\n",
      "Epoch 300, Loss: 0.1369\n",
      "Epoch 400, Loss: 0.0962\n",
      "Epoch 500, Loss: 0.0150\n",
      "Epoch 600, Loss: 0.0636\n",
      "Epoch 700, Loss: 0.0171\n",
      "Epoch 800, Loss: 0.0103\n",
      "Epoch 900, Loss: 0.0253\n",
      "训练完成\n",
      "Test Loss: 0.0232\n"
     ]
    }
   ],
   "source": [
    "import torch.nn as nn\n",
    "import torch.optim as optim\n",
    "import torch.utils.data as data\n",
    "\n",
    "import pandas as pd\n",
    "\n",
    "class RegressionNet(nn.Module):\n",
    "    def __init__(self, input_dim,hidden_dim, output_dim):\n",
    "        super(RegressionNet, self).__init__()\n",
    "        self.hidden_layer = nn.Linear(input_dim, hidden_dim)\n",
    "        self.activation = nn.ReLU()\n",
    "        self.output_layer = nn.Linear(hidden_dim, output_dim)\n",
    "\n",
    "    def forward(self, x):\n",
    "        x = self.hidden_layer(x)\n",
    "        x = self.activation(x)\n",
    "        x = self.output_layer(x)\n",
    "        return x\n",
    "\n",
    "# 读入数据集\n",
    "data_df = train_data\n",
    "\n",
    "# 划分特征和标签\n",
    "X = data_df.iloc[:, :-1].values\n",
    "y = data_df.iloc[:, -1].values.reshape(-1, 1) # 将标签转换为2D张量\n",
    "\n",
    "# 使用 DataLoader 准备数据\n",
    "dataset = data.TensorDataset(torch.Tensor(X), torch.Tensor(y))\n",
    "dataloader = data.DataLoader(dataset, batch_size=16, shuffle=True)\n",
    "\n",
    "# 定义模型\n",
    "model = RegressionNet(input_dim=41, hidden_dim=64, output_dim=1)\n",
    "\n",
    "# 定义损失函数和优化器\n",
    "criterion = nn.MSELoss()\n",
    "optimizer = optim.Adam(model.parameters(), lr=0.001)\n",
    "\n",
    "# 训练模型\n",
    "# for i in range(10):\n",
    "EPOCHS = 1000\n",
    "for epoch in range(EPOCHS):\n",
    "    for i, (X_batch, y_batch) in enumerate(dataloader, 1):\n",
    "        optimizer.zero_grad()\n",
    "        y_pred = model(X_batch)\n",
    "        loss = criterion(y_pred, y_batch)\n",
    "        loss.backward()\n",
    "        optimizer.step()\n",
    "\n",
    "    # 打印损失\n",
    "    if epoch % 100 == 0:\n",
    "        print(f'Epoch {epoch}, Loss: {loss.item():.4f}')\n",
    "print('训练完成')\n",
    "\n",
    "# 使用测试集进行预测并计算损失\n",
    "test_df = test_data\n",
    "X_test = test_df.iloc[:, :-1].values\n",
    "y_test = test_df.iloc[:, -1].values.reshape(-1, 1)\n",
    "\n",
    "test_losses = []\n",
    "with torch.no_grad():\n",
    "    model.eval()\n",
    "    y_pred_test = model(torch.Tensor(X_test))\n",
    "    test_loss = criterion(y_pred_test, torch.Tensor(y_test))\n",
    "    test_losses.append(test_loss.item())\n",
    "    print(f'Test Loss: {test_loss.item():.4f}')"
   ]
  },
  {
   "cell_type": "code",
   "execution_count": 98,
   "metadata": {},
   "outputs": [
    {
     "name": "stdout",
     "output_type": "stream",
     "text": [
      "测试集得分为： 0.11801688664660226 0.15245958949776445\n"
     ]
    }
   ],
   "source": [
    "from sklearn.metrics import mean_squared_error\n",
    "from sklearn.metrics import r2_score\n",
    "print('测试集得分为：', r2_score(y_test,y_pred_test),pow(mean_squared_error(y_test,y_pred_test),0.5))"
   ]
  }
 ],
 "metadata": {
  "kernelspec": {
   "display_name": "pytorch",
   "language": "python",
   "name": "python3"
  },
  "language_info": {
   "codemirror_mode": {
    "name": "ipython",
    "version": 3
   },
   "file_extension": ".py",
   "mimetype": "text/x-python",
   "name": "python",
   "nbconvert_exporter": "python",
   "pygments_lexer": "ipython3",
   "version": "3.9.16"
  },
  "orig_nbformat": 4
 },
 "nbformat": 4,
 "nbformat_minor": 2
}
