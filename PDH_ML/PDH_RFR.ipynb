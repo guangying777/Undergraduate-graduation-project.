{
 "cells": [
  {
   "cell_type": "code",
   "execution_count": 1,
   "metadata": {},
   "outputs": [],
   "source": [
    "from sklearn.ensemble import RandomForestRegressor\n",
    "from sklearn.model_selection import train_test_split\n",
    "from sklearn.model_selection import cross_val_score\n",
    "from sklearn.model_selection import KFold\n",
    "from bayes_opt import BayesianOptimization\n",
    "from pathlib import Path\n",
    "import pandas as pd\n",
    "import matplotlib.pyplot as plt\n",
    "\n",
    "# 解决中文乱码问题\n",
    "plt.rcParams[\"font.sans-serif\"]=[\"SimHei\"] \n",
    "plt.rcParams[\"axes.unicode_minus\"]=False "
   ]
  },
  {
   "cell_type": "code",
   "execution_count": 5,
   "metadata": {},
   "outputs": [],
   "source": [
    "data=pd.read_excel('./use.xlsx')\n",
    "train_data,test_data=train_test_split(data,test_size=0.2, \n",
    "                                      random_state=1106\n",
    "                                      )\n",
    "feature=train_data.drop(['Y','Unnamed: 0'],axis=1)\n",
    "label=train_data['Y']"
   ]
  },
  {
   "cell_type": "code",
   "execution_count": 6,
   "metadata": {},
   "outputs": [],
   "source": [
    "kfold = KFold(n_splits = 5, random_state = 1314, shuffle = True)"
   ]
  },
  {
   "cell_type": "code",
   "execution_count": 20,
   "metadata": {},
   "outputs": [],
   "source": [
    "def RFR_cv(n_estimators, min_samples_split, max_depth):\n",
    "    val = cross_val_score(\n",
    "        RandomForestRegressor(n_estimators=int(n_estimators),\n",
    "            min_samples_split=int(min_samples_split),\n",
    "            max_depth=int(max_depth),\n",
    "            random_state=1314\n",
    "        ),\n",
    "        feature, label, scoring='r2', cv=kfold\n",
    "    ).mean()\n",
    "    return val"
   ]
  },
  {
   "cell_type": "code",
   "execution_count": 11,
   "metadata": {},
   "outputs": [],
   "source": [
    "RFR_opt = BayesianOptimization(\n",
    "        RFR_cv,\n",
    "        {'n_estimators': (50, 1000),\n",
    "        'min_samples_split': (2, 25),\n",
    "        'max_depth': (2, 15)}\n",
    "    )"
   ]
  },
  {
   "cell_type": "code",
   "execution_count": 12,
   "metadata": {},
   "outputs": [
    {
     "name": "stdout",
     "output_type": "stream",
     "text": [
      "|   iter    |  target   | max_depth | min_sa... | n_esti... |\n",
      "-------------------------------------------------------------\n",
      "| \u001b[0m1        \u001b[0m | \u001b[0m0.245    \u001b[0m | \u001b[0m3.948    \u001b[0m | \u001b[0m15.78    \u001b[0m | \u001b[0m224.4    \u001b[0m |\n",
      "| \u001b[95m2        \u001b[0m | \u001b[95m0.5997   \u001b[0m | \u001b[95m9.043    \u001b[0m | \u001b[95m8.465    \u001b[0m | \u001b[95m321.5    \u001b[0m |\n",
      "| \u001b[0m3        \u001b[0m | \u001b[0m0.4542   \u001b[0m | \u001b[0m6.285    \u001b[0m | \u001b[0m16.04    \u001b[0m | \u001b[0m232.1    \u001b[0m |\n",
      "| \u001b[0m4        \u001b[0m | \u001b[0m0.5266   \u001b[0m | \u001b[0m9.294    \u001b[0m | \u001b[0m24.38    \u001b[0m | \u001b[0m966.7    \u001b[0m |\n",
      "| \u001b[0m5        \u001b[0m | \u001b[0m0.1393   \u001b[0m | \u001b[0m2.918    \u001b[0m | \u001b[0m22.36    \u001b[0m | \u001b[0m371.7    \u001b[0m |\n",
      "| \u001b[0m6        \u001b[0m | \u001b[0m0.5997   \u001b[0m | \u001b[0m9.479    \u001b[0m | \u001b[0m8.385    \u001b[0m | \u001b[0m322.9    \u001b[0m |\n",
      "| \u001b[0m7        \u001b[0m | \u001b[0m0.5682   \u001b[0m | \u001b[0m12.71    \u001b[0m | \u001b[0m21.76    \u001b[0m | \u001b[0m321.7    \u001b[0m |\n",
      "| \u001b[0m8        \u001b[0m | \u001b[0m0.5351   \u001b[0m | \u001b[0m8.793    \u001b[0m | \u001b[0m17.13    \u001b[0m | \u001b[0m251.8    \u001b[0m |\n",
      "| \u001b[95m9        \u001b[0m | \u001b[95m0.6377   \u001b[0m | \u001b[95m14.78    \u001b[0m | \u001b[95m10.57    \u001b[0m | \u001b[95m300.5    \u001b[0m |\n",
      "| \u001b[0m10       \u001b[0m | \u001b[0m0.3201   \u001b[0m | \u001b[0m4.065    \u001b[0m | \u001b[0m23.74    \u001b[0m | \u001b[0m297.7    \u001b[0m |\n",
      "| \u001b[95m11       \u001b[0m | \u001b[95m0.6822   \u001b[0m | \u001b[95m15.0     \u001b[0m | \u001b[95m2.0      \u001b[0m | \u001b[95m291.7    \u001b[0m |\n",
      "| \u001b[0m12       \u001b[0m | \u001b[0m0.6668   \u001b[0m | \u001b[0m12.06    \u001b[0m | \u001b[0m3.785    \u001b[0m | \u001b[0m274.8    \u001b[0m |\n",
      "| \u001b[0m13       \u001b[0m | \u001b[0m0.1385   \u001b[0m | \u001b[0m2.0      \u001b[0m | \u001b[0m2.0      \u001b[0m | \u001b[0m284.9    \u001b[0m |\n",
      "| \u001b[0m14       \u001b[0m | \u001b[0m0.6761   \u001b[0m | \u001b[0m13.86    \u001b[0m | \u001b[0m2.125    \u001b[0m | \u001b[0m301.4    \u001b[0m |\n",
      "| \u001b[0m15       \u001b[0m | \u001b[0m0.6644   \u001b[0m | \u001b[0m15.0     \u001b[0m | \u001b[0m5.357    \u001b[0m | \u001b[0m265.1    \u001b[0m |\n",
      "| \u001b[0m16       \u001b[0m | \u001b[0m0.6067   \u001b[0m | \u001b[0m14.38    \u001b[0m | \u001b[0m16.7     \u001b[0m | \u001b[0m269.8    \u001b[0m |\n",
      "| \u001b[0m17       \u001b[0m | \u001b[0m0.1378   \u001b[0m | \u001b[0m2.929    \u001b[0m | \u001b[0m2.199    \u001b[0m | \u001b[0m259.4    \u001b[0m |\n",
      "| \u001b[0m18       \u001b[0m | \u001b[0m0.6322   \u001b[0m | \u001b[0m14.58    \u001b[0m | \u001b[0m11.96    \u001b[0m | \u001b[0m282.5    \u001b[0m |\n",
      "| \u001b[0m19       \u001b[0m | \u001b[0m0.2467   \u001b[0m | \u001b[0m3.575    \u001b[0m | \u001b[0m16.82    \u001b[0m | \u001b[0m337.4    \u001b[0m |\n",
      "| \u001b[0m20       \u001b[0m | \u001b[0m0.6803   \u001b[0m | \u001b[0m14.92    \u001b[0m | \u001b[0m2.878    \u001b[0m | \u001b[0m311.7    \u001b[0m |\n",
      "| \u001b[0m21       \u001b[0m | \u001b[0m0.6241   \u001b[0m | \u001b[0m9.432    \u001b[0m | \u001b[0m2.25     \u001b[0m | \u001b[0m985.8    \u001b[0m |\n",
      "| \u001b[0m22       \u001b[0m | \u001b[0m0.5978   \u001b[0m | \u001b[0m13.8     \u001b[0m | \u001b[0m17.88    \u001b[0m | \u001b[0m996.1    \u001b[0m |\n",
      "| \u001b[0m23       \u001b[0m | \u001b[0m0.2509   \u001b[0m | \u001b[0m3.746    \u001b[0m | \u001b[0m3.44     \u001b[0m | \u001b[0m1e+03    \u001b[0m |\n",
      "| \u001b[0m24       \u001b[0m | \u001b[0m0.6176   \u001b[0m | \u001b[0m14.55    \u001b[0m | \u001b[0m14.2     \u001b[0m | \u001b[0m980.1    \u001b[0m |\n",
      "| \u001b[0m25       \u001b[0m | \u001b[0m0.345    \u001b[0m | \u001b[0m4.198    \u001b[0m | \u001b[0m2.958    \u001b[0m | \u001b[0m972.0    \u001b[0m |\n",
      "| \u001b[0m26       \u001b[0m | \u001b[0m0.5266   \u001b[0m | \u001b[0m9.668    \u001b[0m | \u001b[0m24.52    \u001b[0m | \u001b[0m986.0    \u001b[0m |\n",
      "| \u001b[0m27       \u001b[0m | \u001b[0m0.3447   \u001b[0m | \u001b[0m4.8      \u001b[0m | \u001b[0m2.306    \u001b[0m | \u001b[0m308.0    \u001b[0m |\n",
      "| \u001b[0m28       \u001b[0m | \u001b[0m0.6367   \u001b[0m | \u001b[0m14.63    \u001b[0m | \u001b[0m10.8     \u001b[0m | \u001b[0m315.6    \u001b[0m |\n",
      "| \u001b[0m29       \u001b[0m | \u001b[0m0.5505   \u001b[0m | \u001b[0m15.0     \u001b[0m | \u001b[0m25.0     \u001b[0m | \u001b[0m241.9    \u001b[0m |\n",
      "| \u001b[0m30       \u001b[0m | \u001b[0m0.5549   \u001b[0m | \u001b[0m15.0     \u001b[0m | \u001b[0m25.0     \u001b[0m | \u001b[0m942.6    \u001b[0m |\n",
      "| \u001b[0m31       \u001b[0m | \u001b[0m0.5482   \u001b[0m | \u001b[0m11.52    \u001b[0m | \u001b[0m24.34    \u001b[0m | \u001b[0m924.2    \u001b[0m |\n",
      "| \u001b[0m32       \u001b[0m | \u001b[0m0.6373   \u001b[0m | \u001b[0m12.71    \u001b[0m | \u001b[0m8.696    \u001b[0m | \u001b[0m935.4    \u001b[0m |\n",
      "| \u001b[0m33       \u001b[0m | \u001b[0m0.1431   \u001b[0m | \u001b[0m2.903    \u001b[0m | \u001b[0m5.573    \u001b[0m | \u001b[0m927.1    \u001b[0m |\n",
      "| \u001b[0m34       \u001b[0m | \u001b[0m0.6391   \u001b[0m | \u001b[0m15.0     \u001b[0m | \u001b[0m10.52    \u001b[0m | \u001b[0m944.8    \u001b[0m |\n",
      "| \u001b[0m35       \u001b[0m | \u001b[0m0.2476   \u001b[0m | \u001b[0m3.652    \u001b[0m | \u001b[0m15.19    \u001b[0m | \u001b[0m948.1    \u001b[0m |\n",
      "| \u001b[0m36       \u001b[0m | \u001b[0m0.6799   \u001b[0m | \u001b[0m14.89    \u001b[0m | \u001b[0m2.251    \u001b[0m | \u001b[0m942.3    \u001b[0m |\n",
      "| \u001b[0m37       \u001b[0m | \u001b[0m0.5538   \u001b[0m | \u001b[0m12.2     \u001b[0m | \u001b[0m24.27    \u001b[0m | \u001b[0m900.2    \u001b[0m |\n",
      "| \u001b[0m38       \u001b[0m | \u001b[0m0.6424   \u001b[0m | \u001b[0m14.99    \u001b[0m | \u001b[0m9.506    \u001b[0m | \u001b[0m273.7    \u001b[0m |\n",
      "| \u001b[0m39       \u001b[0m | \u001b[0m0.5533   \u001b[0m | \u001b[0m14.84    \u001b[0m | \u001b[0m25.0     \u001b[0m | \u001b[0m882.0    \u001b[0m |\n",
      "| \u001b[0m40       \u001b[0m | \u001b[0m0.1427   \u001b[0m | \u001b[0m2.515    \u001b[0m | \u001b[0m14.54    \u001b[0m | \u001b[0m888.1    \u001b[0m |\n",
      "| \u001b[0m41       \u001b[0m | \u001b[0m0.5627   \u001b[0m | \u001b[0m13.36    \u001b[0m | \u001b[0m23.71    \u001b[0m | \u001b[0m861.8    \u001b[0m |\n",
      "| \u001b[0m42       \u001b[0m | \u001b[0m0.5542   \u001b[0m | \u001b[0m15.0     \u001b[0m | \u001b[0m25.0     \u001b[0m | \u001b[0m845.1    \u001b[0m |\n",
      "| \u001b[0m43       \u001b[0m | \u001b[0m0.681    \u001b[0m | \u001b[0m15.0     \u001b[0m | \u001b[0m2.0      \u001b[0m | \u001b[0m321.2    \u001b[0m |\n",
      "| \u001b[0m44       \u001b[0m | \u001b[0m0.6541   \u001b[0m | \u001b[0m15.0     \u001b[0m | \u001b[0m7.143    \u001b[0m | \u001b[0m851.6    \u001b[0m |\n",
      "| \u001b[0m45       \u001b[0m | \u001b[0m0.1433   \u001b[0m | \u001b[0m2.414    \u001b[0m | \u001b[0m10.71    \u001b[0m | \u001b[0m849.0    \u001b[0m |\n",
      "| \u001b[0m46       \u001b[0m | \u001b[0m0.6706   \u001b[0m | \u001b[0m14.47    \u001b[0m | \u001b[0m4.031    \u001b[0m | \u001b[0m865.0    \u001b[0m |\n",
      "| \u001b[0m47       \u001b[0m | \u001b[0m0.6227   \u001b[0m | \u001b[0m14.34    \u001b[0m | \u001b[0m13.85    \u001b[0m | \u001b[0m867.6    \u001b[0m |\n",
      "| \u001b[0m48       \u001b[0m | \u001b[0m0.5572   \u001b[0m | \u001b[0m13.6     \u001b[0m | \u001b[0m24.92    \u001b[0m | \u001b[0m822.7    \u001b[0m |\n",
      "| \u001b[0m49       \u001b[0m | \u001b[0m0.5763   \u001b[0m | \u001b[0m12.94    \u001b[0m | \u001b[0m20.44    \u001b[0m | \u001b[0m805.1    \u001b[0m |\n",
      "| \u001b[0m50       \u001b[0m | \u001b[0m0.6379   \u001b[0m | \u001b[0m12.46    \u001b[0m | \u001b[0m8.447    \u001b[0m | \u001b[0m816.0    \u001b[0m |\n",
      "| \u001b[0m51       \u001b[0m | \u001b[0m0.2502   \u001b[0m | \u001b[0m3.773    \u001b[0m | \u001b[0m6.708    \u001b[0m | \u001b[0m805.5    \u001b[0m |\n",
      "| \u001b[0m52       \u001b[0m | \u001b[0m0.6367   \u001b[0m | \u001b[0m14.06    \u001b[0m | \u001b[0m10.29    \u001b[0m | \u001b[0m827.2    \u001b[0m |\n",
      "| \u001b[0m53       \u001b[0m | \u001b[0m0.3356   \u001b[0m | \u001b[0m4.192    \u001b[0m | \u001b[0m15.43    \u001b[0m | \u001b[0m822.2    \u001b[0m |\n",
      "| \u001b[0m54       \u001b[0m | \u001b[0m0.6723   \u001b[0m | \u001b[0m13.12    \u001b[0m | \u001b[0m3.045    \u001b[0m | \u001b[0m822.7    \u001b[0m |\n",
      "| \u001b[0m55       \u001b[0m | \u001b[0m0.6792   \u001b[0m | \u001b[0m14.57    \u001b[0m | \u001b[0m2.507    \u001b[0m | \u001b[0m836.5    \u001b[0m |\n",
      "=============================================================\n"
     ]
    }
   ],
   "source": [
    "RFR_opt.maximize(n_iter=50)"
   ]
  },
  {
   "cell_type": "code",
   "execution_count": 13,
   "metadata": {},
   "outputs": [
    {
     "data": {
      "text/plain": [
       "{'target': 0.6821545926030548,\n",
       " 'params': {'max_depth': 15.0,\n",
       "  'min_samples_split': 2.0,\n",
       "  'n_estimators': 291.7475353029775}}"
      ]
     },
     "execution_count": 13,
     "metadata": {},
     "output_type": "execute_result"
    }
   ],
   "source": [
    "RFR_opt.max"
   ]
  },
  {
   "cell_type": "code",
   "execution_count": 7,
   "metadata": {},
   "outputs": [
    {
     "name": "stdout",
     "output_type": "stream",
     "text": [
      "r2: 0.7322136262072454\n",
      "rmse: 0.07862505894774263\n"
     ]
    }
   ],
   "source": [
    "model = RandomForestRegressor(n_estimators=1000,\n",
    "                              max_depth=23,\n",
    "                            #   min_samples_split= 3,\n",
    "                              n_jobs=-1,\n",
    "                              random_state=1314).fit(X=feature , y=label)\n",
    "r2_score = cross_val_score(model, feature, label, cv=kfold, scoring='r2').mean()\n",
    "rmse_score = pow(abs(cross_val_score(model, feature, label, cv=kfold, scoring='neg_mean_squared_error').mean()),0.5)\n",
    "print('r2:',r2_score)\n",
    "print('rmse:',rmse_score)"
   ]
  },
  {
   "cell_type": "code",
   "execution_count": 8,
   "metadata": {},
   "outputs": [
    {
     "name": "stdout",
     "output_type": "stream",
     "text": [
      "r2: 0.9628932229005674\n",
      "MAE: 0.029128846494054523\n",
      "测试集得分为： 0.7422251515397189 0.07289798399260501\n"
     ]
    }
   ],
   "source": [
    "from sklearn.metrics import mean_squared_error\n",
    "from sklearn.metrics import r2_score\n",
    "test_x = test_data.drop(['Y','Unnamed: 0'],axis=1)\n",
    "test_y = test_data['Y']\n",
    "print('r2:',r2_score(label,model.predict(feature)))\n",
    "print('MAE:',pow(mean_squared_error(label,model.predict(feature)),0.5))\n",
    "print('测试集得分为：', r2_score(test_y,model.predict(test_x)),pow(mean_squared_error(test_y,model.predict(test_x)),0.5))"
   ]
  },
  {
   "cell_type": "code",
   "execution_count": 8,
   "metadata": {},
   "outputs": [
    {
     "data": {
      "text/html": [
       "<div>\n",
       "<style scoped>\n",
       "    .dataframe tbody tr th:only-of-type {\n",
       "        vertical-align: middle;\n",
       "    }\n",
       "\n",
       "    .dataframe tbody tr th {\n",
       "        vertical-align: top;\n",
       "    }\n",
       "\n",
       "    .dataframe thead th {\n",
       "        text-align: right;\n",
       "    }\n",
       "</style>\n",
       "<table border=\"1\" class=\"dataframe\">\n",
       "  <thead>\n",
       "    <tr style=\"text-align: right;\">\n",
       "      <th></th>\n",
       "      <th>Y_pred</th>\n",
       "      <th>Y_True</th>\n",
       "    </tr>\n",
       "  </thead>\n",
       "  <tbody>\n",
       "    <tr>\n",
       "      <th>301</th>\n",
       "      <td>0.387874</td>\n",
       "      <td>0.390000</td>\n",
       "    </tr>\n",
       "    <tr>\n",
       "      <th>438</th>\n",
       "      <td>0.050691</td>\n",
       "      <td>0.046000</td>\n",
       "    </tr>\n",
       "    <tr>\n",
       "      <th>192</th>\n",
       "      <td>0.279074</td>\n",
       "      <td>0.176720</td>\n",
       "    </tr>\n",
       "    <tr>\n",
       "      <th>543</th>\n",
       "      <td>0.373019</td>\n",
       "      <td>0.495000</td>\n",
       "    </tr>\n",
       "    <tr>\n",
       "      <th>556</th>\n",
       "      <td>0.022208</td>\n",
       "      <td>0.022000</td>\n",
       "    </tr>\n",
       "    <tr>\n",
       "      <th>...</th>\n",
       "      <td>...</td>\n",
       "      <td>...</td>\n",
       "    </tr>\n",
       "    <tr>\n",
       "      <th>161</th>\n",
       "      <td>0.286129</td>\n",
       "      <td>0.317688</td>\n",
       "    </tr>\n",
       "    <tr>\n",
       "      <th>230</th>\n",
       "      <td>0.265740</td>\n",
       "      <td>0.245000</td>\n",
       "    </tr>\n",
       "    <tr>\n",
       "      <th>144</th>\n",
       "      <td>0.451049</td>\n",
       "      <td>0.470000</td>\n",
       "    </tr>\n",
       "    <tr>\n",
       "      <th>26</th>\n",
       "      <td>0.169639</td>\n",
       "      <td>0.268650</td>\n",
       "    </tr>\n",
       "    <tr>\n",
       "      <th>307</th>\n",
       "      <td>0.397810</td>\n",
       "      <td>0.400000</td>\n",
       "    </tr>\n",
       "  </tbody>\n",
       "</table>\n",
       "<p>118 rows × 2 columns</p>\n",
       "</div>"
      ],
      "text/plain": [
       "       Y_pred    Y_True\n",
       "301  0.387874  0.390000\n",
       "438  0.050691  0.046000\n",
       "192  0.279074  0.176720\n",
       "543  0.373019  0.495000\n",
       "556  0.022208  0.022000\n",
       "..        ...       ...\n",
       "161  0.286129  0.317688\n",
       "230  0.265740  0.245000\n",
       "144  0.451049  0.470000\n",
       "26   0.169639  0.268650\n",
       "307  0.397810  0.400000\n",
       "\n",
       "[118 rows x 2 columns]"
      ]
     },
     "execution_count": 8,
     "metadata": {},
     "output_type": "execute_result"
    }
   ],
   "source": [
    "# 预测\n",
    "Y1=model.predict(X=test_data.drop(['Y','Unnamed: 0'],axis=1))\n",
    "Y2=test_data['Y']\n",
    "d={'Y_pred':Y1,\n",
    "   'Y_True':Y2\n",
    "   }\n",
    "pred_show=pd.DataFrame(d)\n",
    "pred_show"
   ]
  },
  {
   "cell_type": "code",
   "execution_count": 9,
   "metadata": {},
   "outputs": [],
   "source": [
    "# 预测2\n",
    "Y_1=model.predict(feature)\n",
    "Y_2=label\n",
    "d_1={'Y_pred':Y_1,\n",
    "   'Y_True':Y_2\n",
    "   }\n",
    "pred_show_1=pd.DataFrame(d_1)"
   ]
  },
  {
   "cell_type": "code",
   "execution_count": 10,
   "metadata": {},
   "outputs": [
    {
     "data": {
      "image/png": "[encoded data removed]",
      "text/plain": [
       "<Figure size 640x480 with 1 Axes>"
      ]
     },
     "metadata": {},
     "output_type": "display_data"
    }
   ],
   "source": [
    "# 模型预测性能制图\n",
    "plt.scatter(pred_show.iloc[:,1],pred_show.iloc[:,0],color='r',s=15,label='test')\n",
    "plt.scatter(pred_show_1.iloc[:,1],pred_show_1.iloc[:,0],color='b',s=15,label='train')\n",
    "plt.xlim((0,1))\n",
    "plt.xlabel('Experimental Yield/%',fontsize=15,font=Path('..\\TimesNewRoman.ttf'))\n",
    "plt.xticks(fontsize=14,fontname='Times New Roman')\n",
    "plt.ylim((0,1))\n",
    "plt.ylabel('Predicted Yield/%',fontsize=15,font=Path('..\\TimesNewRoman.ttf'))\n",
    "plt.yticks(fontsize=14,fontname='Times New Roman')\n",
    "plt.plot([0,1],[0,1],color='g')\n",
    "plt.text(0.4,0.92,'RFR',fontsize=20,font=Path('..\\TimesNewRoman.ttf'))\n",
    "plt.legend()\n",
    "plt.show()"
   ]
  }
 ],
 "metadata": {
  "kernelspec": {
   "display_name": "pytorch",
   "language": "python",
   "name": "python3"
  },
  "language_info": {
   "codemirror_mode": {
    "name": "ipython",
    "version": 3
   },
   "file_extension": ".py",
   "mimetype": "text/x-python",
   "name": "python",
   "nbconvert_exporter": "python",
   "pygments_lexer": "ipython3",
   "version": "3.9.16"
  },
  "orig_nbformat": 4
 },
 "nbformat": 4,
 "nbformat_minor": 2
}
